{
 "cells": [
  {
   "cell_type": "markdown",
   "metadata": {},
   "source": [
    "<a id='top'></a>\n",
    "\n",
    "# CSCI 3022: Intro to Data Science - Fall 2018 Practicum \n",
    "***\n",
    "\n",
    "This practicum is due on Moodle by **11:55pm on Wednesday December 12**. Your solutions to theoretical questions should be done in Markdown/MathJax directly below the associated question.  Your solutions to computational questions should include any specified Python code and results as well as written commentary on your conclusions.  \n",
    "\n",
    "**Here are the rules:** \n",
    "\n",
    "1. All work, code and analysis, must be your own. \n",
    "1. You may use your course notes, posted lecture slides, textbooks, in-class notebooks, and homework solutions as resources.  You may also search online for answers to general knowledge questions like the form of a probability distribution function or how to perform a particular operation in Python/Pandas. \n",
    "1. This is meant to be like a coding portion of your final exam. So, the instructional team will be much less helpful than we typically are with homework. For example, we will not check answers, help debug your code, and so on.\n",
    "1. If something is left open-ended, it is because we want to see how you approach the kinds of problems you will encounter in the wild, where it will not always be clear what sort of tests/methods should be applied. Feel free to ask clarifying questions though.\n",
    "2. You may **NOT** post to message boards or other online resources asking for help.\n",
    "3. You may **NOT** copy-paste solutions *from anywhere*.\n",
    "4. You may **NOT** collaborate with classmates or anyone else.\n",
    "5. In short, **your work must be your own**. It really is that simple.\n",
    "\n",
    "Violation of the above rules will result in an immediate academic sanction (*at the very least*, you will receive a 0 on the practicum or an F in the course, depending on severity), and a trip to the Honor Code Council.\n",
    "\n",
    "**By submitting this assignment, you agree to abide by the rules given above.**\n",
    "\n",
    "***\n",
    "\n",
    "**Name**:  Solutions\n",
    "\n",
    "***\n",
    "\n",
    "\n",
    "**NOTES**: \n",
    "\n",
    "- You may not use late days on the practicum nor can you drop your practicum grade. \n",
    "- If you have a question for us, post it as a **PRIVATE** message on Piazza.  If we decide that the question is appropriate for the entire class, then we will add it to a Practicum clarifications thread. \n",
    "- Do **NOT** load or use any Python packages that are not available in Anaconda 3.6. \n",
    "- Some problems with code may be autograded.  If we provide a function API **do not** change it.  If we do not provide a function API then you're free to structure your code however you like. \n",
    "- Submit only this Jupyter notebook to Moodle.  Do not compress it using tar, rar, zip, etc. \n",
    "- This should go without saying, but... For any question that asks you to calculate something, you **must show all work to receive credit**. Sparse or nonexistent work will receive sparse or nonexistent credit.\n",
    "\n",
    "---\n",
    "**Shortcuts:**  [Problem 1](#p1) | [Problem 2](#p2) | [Problem 3](#p3)\n",
    "\n",
    "---"
   ]
  },
  {
   "cell_type": "code",
   "execution_count": 2,
   "metadata": {},
   "outputs": [
    {
     "name": "stderr",
     "output_type": "stream",
     "text": [
      "/Users/tony/anaconda/lib/python3.6/site-packages/statsmodels/compat/pandas.py:56: FutureWarning: The pandas.core.datetools module is deprecated and will be removed in a future version. Please use the pandas.tseries module instead.\n",
      "  from pandas.core import datetools\n"
     ]
    }
   ],
   "source": [
    "from scipy import stats\n",
    "import numpy as np \n",
    "import statsmodels.api as sm\n",
    "import pandas as pd\n",
    "import matplotlib.pyplot as plt\n",
    "%matplotlib inline"
   ]
  },
  {
   "cell_type": "markdown",
   "metadata": {},
   "source": [
    "<br>\n",
    "\n",
    "---\n",
    "[Back to top](#top)\n",
    "<a id='p1'></a>\n",
    "\n",
    "### [35 points] Problem 1: Yahtzee!"
   ]
  },
  {
   "cell_type": "markdown",
   "metadata": {},
   "source": [
    "**Part A:** You are playing [Yahtzee](https://en.wikipedia.org/wiki/Yahtzee) with your friends. A player's turn in Yahtzee consists of rolling a set of 5 dice. Then the player is given two additional rolls, where they are allowed to re-roll any number of the dice, including potentially all of them or none of them. The goal is to obtain certain combinations of the dice values resulting after the third roll. Different combinations are worth different amounts of points, and the goal of the game is to get as many points as possible.\n",
    "\n",
    "This game of Yahtzee is a bit unlike any you have ever played before, however. This is because Darth Ketelsen is back, and with her she brought her famous **5-sided dice**. These are fair dice with sides numbered 1-5. So, you are playing Yahtzee with a Sith Lord with 5-sided dice. Indeed, things just got real.\n",
    "\n",
    "A **straight** in Darth Ketelsen's game consists of 5 values all in a row. For example, the outcome $[1,2,3,4,5]$ is a  straight but the outcome $[1,2,3,4,4]$ is not.\n",
    "\n",
    "**Do two things:**\n",
    "1. Compute by hand the probability of rolling a straight in a single roll of all 5 dice. Show all work.\n",
    "2. Write a simulation to verify the probability that you computed. Run at least 10,000 simulations. "
   ]
  },
  {
   "cell_type": "markdown",
   "metadata": {},
   "source": [
    "**Solution:**\n",
    "\n",
    "Note that with five five-sided dice, a straight is equivalent to rolling all unique outcomes. Thus, the probability of rolling a straight is $\\dfrac{\\text{number of outcomes with all unique values}}{\\text{number of outcomes total}}$\n",
    "\n",
    "The total number of outcomes is $5^5$.\n",
    "\n",
    "The number of outcomes with all unique values is $5 \\times 4 \\times 3 \\times 2 \\times 1 = 5!$ because there are 5 options for the first die, then only 4 options for the second die (because we cannot repeat the outcome of the first die), then only 3 options for the third die, and so on.\n",
    "\n",
    "So we have $p(S) = \\dfrac{5!}{5^5} = \\fbox{$0.0384$}$"
   ]
  },
  {
   "cell_type": "code",
   "execution_count": 70,
   "metadata": {},
   "outputs": [
    {
     "data": {
      "text/plain": [
       "0.0384"
      ]
     },
     "execution_count": 70,
     "metadata": {},
     "output_type": "execute_result"
    }
   ],
   "source": [
    "5*4*3*2*1/(5**5)"
   ]
  },
  {
   "cell_type": "code",
   "execution_count": 69,
   "metadata": {},
   "outputs": [
    {
     "name": "stdout",
     "output_type": "stream",
     "text": [
      "0.03886\n"
     ]
    }
   ],
   "source": [
    "die = np.array([1,2,3,4,5])\n",
    "\n",
    "def straight(ntrial=10000):\n",
    "    cnt = 0\n",
    "    for _ in range(ntrial):\n",
    "        rolls = np.random.choice(die, replace=True, size=5)\n",
    "        if len(np.unique(rolls))==5:\n",
    "            cnt += 1\n",
    "    return cnt/ntrial\n",
    "\n",
    "print(straight(100000))"
   ]
  },
  {
   "cell_type": "markdown",
   "metadata": {},
   "source": [
    "**Part B:** The goal of this problem is to compute the probability of getting a straight using all three of your rolls, instead of just the single roll approach that you computed in Part A. Here, we'll need to implement a strategy so that after the first roll and after the second roll, we keep the dice that get us closer to a straight and re-roll the dice that are not useful for our straight.\n",
    "\n",
    "For instance, suppose your first roll comes up $[1,2,3,3,3]$. You really want to get that straight! So, you would follow the strategy of saving the $[1,2,3]$ and re-roll two of the threes, hoping for a 4 and 5 to get the straight. Then, for your third roll, you would save as many of the dice as possible that would be part of a straight, and re-roll any remaining dice.\n",
    "\n",
    "Finish the function below called `dire_straights` to simulate many complete 3-roll turns, and computes the probability of ending your turn with a straight. The only input to the function should be `ntrial`, an integer for the number of turns to simulate. Remember, each turn consists of 3 rolls.\n",
    "\n",
    "Then, use your function to estimate the probability of a straight after a full turn of Yahtzee. Use at least 10,000 simulations, and comment on the results."
   ]
  },
  {
   "cell_type": "code",
   "execution_count": null,
   "metadata": {
    "collapsed": true
   },
   "outputs": [],
   "source": [
    "def dire_straights(ntrial):\n",
    "    \n",
    "    # your code goes here!\n",
    "        \n",
    "    return 0 # this is a placeholder"
   ]
  },
  {
   "cell_type": "code",
   "execution_count": 37,
   "metadata": {
    "collapsed": true
   },
   "outputs": [],
   "source": [
    "def dire_straights(ntrial):\n",
    "    \n",
    "    cnt = 0\n",
    "    \n",
    "    for _ in range(ntrial):\n",
    "        # first roll\n",
    "        rolls = np.random.choice(die, replace=True, size=5)\n",
    "        keep = np.unique(rolls)\n",
    "        nroll = 5-len(keep)\n",
    "        if nroll==0:\n",
    "            cnt += 1\n",
    "        else:\n",
    "            # second roll\n",
    "            rolls = list(keep) + list(np.random.choice(die, replace=True, size=nroll))\n",
    "            keep = np.unique(rolls)\n",
    "            nroll = 5-len(keep)\n",
    "            if nroll==0:\n",
    "                cnt += 1\n",
    "            else:\n",
    "                # third roll\n",
    "                rolls = list(keep) + list(np.random.choice(die, replace=True, size=nroll))\n",
    "                keep = np.unique(rolls)\n",
    "                nroll = 5-len(keep)\n",
    "                if nroll==0:\n",
    "                    cnt += 1\n",
    "    \n",
    "    prob = cnt/ntrial\n",
    "    \n",
    "    return prob"
   ]
  },
  {
   "cell_type": "code",
   "execution_count": 39,
   "metadata": {},
   "outputs": [
    {
     "data": {
      "text/plain": [
       "0.30035"
      ]
     },
     "execution_count": 39,
     "metadata": {},
     "output_type": "execute_result"
    }
   ],
   "source": [
    "dire_straights(ntrial=100000)"
   ]
  },
  {
   "cell_type": "markdown",
   "metadata": {},
   "source": [
    "**Part C:** Write a simulation to estimate the probability of obtaining a straight if the first roll contains exactly three distinct unique values. For example, a valid first roll could be $[1,5,3,3,3]$ but not $[1,3,3,4,5]$. You are still using the set of 5-sided dice."
   ]
  },
  {
   "cell_type": "markdown",
   "metadata": {},
   "source": [
    "**Solution:**\n",
    "\n",
    "This is: $p(S \\mid U_3) = \\dfrac{p(S \\cap U_3)}{p(U_3)}$, where $S$ is the event that we get a straight and $U_3$ is the event that we roll exactly three distinct values on our first roll.\n",
    "\n",
    "We can approximate this as $\\dfrac{\\text{number of simulations with 3 unique values in the first roll AND a straight overall}}{\\text{number of simulations with 3 unique values in the first roll}}$"
   ]
  },
  {
   "cell_type": "code",
   "execution_count": 286,
   "metadata": {
    "collapsed": true
   },
   "outputs": [],
   "source": [
    "die = np.array([1,2,3,4,5])\n",
    "\n",
    "def check_n(rolls,n):\n",
    "    return True if len(np.unique(rolls))==n else False\n",
    "\n",
    "def dire_straights_n(n,ntrial):\n",
    "    cnt = 0\n",
    "    for _ in range(ntrial):\n",
    "        # first roll\n",
    "        rolls = np.random.choice(die, replace=True, size=5)\n",
    "        # make sure we have three unique\n",
    "        while not check_n(rolls,n):\n",
    "            rolls = np.random.choice(die, replace=True, size=5)\n",
    "        # keep all of the unique dice\n",
    "        keep = np.unique(rolls)\n",
    "        nroll = 5-len(keep)\n",
    "        if nroll==0:\n",
    "            cnt += 1\n",
    "        else:\n",
    "            # second roll\n",
    "            rolls = list(keep) + list(np.random.choice(die, replace=True, size=nroll))\n",
    "            keep = np.unique(rolls)\n",
    "            nroll = 5-len(keep)\n",
    "            if nroll==0:\n",
    "                cnt += 1\n",
    "            else:\n",
    "                # third roll\n",
    "                rolls = list(keep) + list(np.random.choice(die, replace=True, size=nroll))\n",
    "                keep = np.unique(rolls)\n",
    "                nroll = 5-len(keep)\n",
    "                if nroll==0:\n",
    "                    cnt += 1\n",
    "    \n",
    "    prob = cnt/ntrial\n",
    "    \n",
    "    return prob"
   ]
  },
  {
   "cell_type": "code",
   "execution_count": 288,
   "metadata": {},
   "outputs": [
    {
     "data": {
      "text/plain": [
       "0.21909"
      ]
     },
     "execution_count": 288,
     "metadata": {},
     "output_type": "execute_result"
    }
   ],
   "source": [
    "dire_straights_n(3, 100000)"
   ]
  },
  {
   "cell_type": "markdown",
   "metadata": {},
   "source": [
    "**Part D:** Verify your calculation from Part C by hand. Show all work, and comment on whether the two agree.\n",
    "\n",
    "*Hint: you will need to consider a variety of different cases - what are all the ways you could end up with a straight, given that your first roll contained exactly 3 unique values?*"
   ]
  },
  {
   "cell_type": "markdown",
   "metadata": {},
   "source": [
    "**Solution:**\n",
    "\n",
    "There are two values left that we need to obtain on the next two rolls, by rolling two dice initially in the second roll.  The probability that we are looking for is $p(S \\mid U_3)$, which can occur in exactly one of two ways: \n",
    "1. we get the straight on our second roll ($S_2$), or \n",
    "2. we do **not** get the straight on our second roll, but we do on our third roll ($S_3$).\n",
    "\n",
    "But \\#2 can happen in two ways:\n",
    "2a. we get one of the two values we need on our second roll, or\n",
    "2b. we do **not** get either of the two values we need on our second roll.\n",
    "\n",
    "So we use the Law of Total Probability to total up the possible ways to get a straight, given that the first roll consisted of 3 unique values:\n",
    "\n",
    "The probability that we get the straight on our second roll is \n",
    "\n",
    "$$p(S_2) = \\dfrac{\\text{number of outcomes that finish the straight}}{\\text{number of outcomes for two dice total}} = \\dfrac{2}{25} = 0.08$$\n",
    "\n",
    "The probability that we get the straight on our third roll is given by the LTP:\n",
    "\n",
    "$$p(S_3) = p(S_3 \\mid R_0)p(R_0) + p(S_3 \\mid R_1)p(R_1)$$\n",
    "\n",
    "where $R_0$ and $R_1$ denote the events where the second roll yields 0 or 1 of the remaining 2 values that we need to complete the straight. \n",
    "\n",
    "We know:\n",
    "* $p(S_3 \\mid R_0) = (2/5)(1/5) = 2/25$\n",
    "* $p(R_0) = (3/5)^2$\n",
    "* $p(S_3 \\mid R_1) = 1/5$\n",
    "* $p(R_1)$ is trickier. Suppose one die that we roll is blue and the other is red. We could have the blue die come up as one of the numbers that we need, and there are 4 possibilities for the red die outcome that would lead to $R_1$: it could have the same value as the blue die, or it could have come up as one of the 3 values we already have. And there are 2 possible values that we need, for a total of 8 ways the blue die could have been the one we keep. The same is true for the red die, but we have double-counted the two outcomes where they have the same value. There are 25 outcomes total, so $p(R_1) = (8+8-2)/25 = 14/25$\n",
    "\n",
    "Now:\n",
    "\n",
    "$\\begin{align*}\n",
    "  p(S_3) &= p(S_3 \\mid R_0)p(R_0) + p(S_3 \\mid R_1)p(R_1) \\\\\n",
    "         &= \\dfrac{2}{25} \\cdot \\left(\\dfrac{3}{5}\\right)^2 + \\dfrac{1}{5}\\cdot \\dfrac{14}{25} \\\\\n",
    "         &= \\dfrac{18}{25^2} + \\dfrac{14}{5\\cdot 25} \\\\\n",
    "         &= 0.1408\n",
    "  \\end{align*}$\n",
    "  \n",
    "And the total probability of getting our straight, given that the first roll was 3 unique values is\n",
    "\n",
    "$p(S) = p(S_2) + p(S_3) \\approx \\fbox{$0.2208$}$"
   ]
  },
  {
   "cell_type": "code",
   "execution_count": 3,
   "metadata": {},
   "outputs": [
    {
     "name": "stdout",
     "output_type": "stream",
     "text": [
      "0.08 0.1408 0.2208\n"
     ]
    }
   ],
   "source": [
    "p_2 = 2/25\n",
    "p_3 = 18/(25**2) + 14/(5*25)\n",
    "print(p_2, p_3, p_2+p_3)"
   ]
  },
  {
   "cell_type": "markdown",
   "metadata": {},
   "source": [
    "**Part E:**  Your friend offers you the following deal. Each time your Yahtzee turn (i.e., all three rolls) results in a 5-of-a-kind, she will give you \\$5. Each time your Yahtzee turn results in a straight, she will give you \\$3. But, she will charge you \\$1 for each turn (where a turn includes all 3 rolls of the five 5-sided dice). Should you take this deal? Fully justify your answer using calculations that include expected values. You may include some simulations to estimate relevant probabilities. Clearly state any assumptions you are making in your modeling choices."
   ]
  },
  {
   "cell_type": "markdown",
   "metadata": {},
   "source": [
    "**Solution:**\n",
    "\n",
    "Expected payout for a round is $\\text{\\$5} \\cdot p(\\text{5-of-kind}) + \\text{\\$3}\\cdot p(\\text{straight}) - \\text{\\$1}$\n",
    "\n",
    "We really shouldn't just use the probability of getting a straight that we calculated in Part B. This would be problematic because if, for example, we were to roll $[1,1,1,1,2]$, the calculation in Part B assumes that we would continue on to try to result in a straight. The better thing to do would be to use some sort of decision rule, where you will save dice to try and obtain a 5-of-a-kind or a straight, depending on which you have more dice for. \n",
    "\n",
    "So, let's do one of the simpler strategies and just suppose that if on our first roll we end up with 3 or more unique dice, then we will go for the straight, and if we have 3 or more of a kind, then we will go for the 5-of-a-kind. There are, of course, many other strategies, including calculating some bad-ass conditional probabilities like in the earlier parts of the problem. But, this is enought to get us off the ground and coding up some more intelligent Yahtzee play.\n",
    "\n",
    "**Fun fact:** We necessarily have exactly one of either [at least 3 of one value], or we have [at least 3 different values]. The *Pigeonhole Principle* tells us this. See? Discrete is useful and fun!"
   ]
  },
  {
   "cell_type": "code",
   "execution_count": 327,
   "metadata": {
    "collapsed": true
   },
   "outputs": [],
   "source": [
    "die = np.array([1,2,3,4,5])\n",
    "\n",
    "def check_n(rolls,n):\n",
    "    return True if len(np.unique(rolls))==n else False\n",
    "\n",
    "def check_most(rolls):\n",
    "    counts = [sum(rolls==k) for k in range(1,6)]\n",
    "    for k in range(1,6):\n",
    "        if counts[k-1]>=3:\n",
    "            return k\n",
    "    return -1\n",
    "\n",
    "def the_most_dire_of_straights(ntrial):\n",
    "    cnt_straight = 0\n",
    "    cnt_yahtzee = 0\n",
    "    for _ in range(ntrial):\n",
    "        # first roll\n",
    "        rolls = np.random.choice(die, replace=True, size=5)\n",
    "        # if we have 3 unique...\n",
    "        if check_n(rolls,3) or check_n(rolls,4) or check_n(rolls,5):\n",
    "            # go for a straight\n",
    "            keep = np.unique(rolls)\n",
    "            nroll = 5-len(keep)\n",
    "            if nroll==0:\n",
    "                cnt_straight += 1\n",
    "            else:\n",
    "                # second roll\n",
    "                rolls = list(keep) + list(np.random.choice(die, replace=True, size=nroll))\n",
    "                keep = np.unique(rolls)\n",
    "                nroll = 5-len(keep)\n",
    "                if nroll==0:\n",
    "                    cnt_straight += 1\n",
    "                else:\n",
    "                    # third roll\n",
    "                    rolls = list(keep) + list(np.random.choice(die, replace=True, size=nroll))\n",
    "                    keep = np.unique(rolls)\n",
    "                    nroll = 5-len(keep)\n",
    "                    if nroll==0:\n",
    "                        cnt_straight += 1\n",
    "        # if we have 3 of a kind...\n",
    "        else:\n",
    "            # go for a 5-of-a-kind\n",
    "            # figure out what we have the most of, and set keep = those dice\n",
    "            keeper = check_most(rolls)\n",
    "            keep = list(rolls[rolls == keeper])\n",
    "            nroll = 5-len(keep)\n",
    "            if nroll==0:\n",
    "                cnt_yahtzee += 1\n",
    "            else:\n",
    "                # second roll\n",
    "                rolls = np.array(list(keep) + list(np.random.choice(die, replace=True, size=nroll)))\n",
    "                keep = list(rolls[rolls == keeper])\n",
    "                nroll = 5-len(keep)\n",
    "                if nroll==0:\n",
    "                    cnt_yahtzee += 1\n",
    "                else:\n",
    "                    # third roll\n",
    "                    rolls = np.array(list(keep) + list(np.random.choice(die, replace=True, size=nroll)))\n",
    "                    keep = list(rolls[rolls == keeper])\n",
    "                    nroll = 5-len(keep)\n",
    "                    if nroll==0:\n",
    "                        cnt_yahtzee += 1\n",
    "                        \n",
    "        p_straight = cnt_straight/ntrial\n",
    "        p_yahtzee = cnt_yahtzee/ntrial\n",
    "    \n",
    "    return p_straight, p_yahtzee"
   ]
  },
  {
   "cell_type": "code",
   "execution_count": 339,
   "metadata": {},
   "outputs": [
    {
     "data": {
      "text/plain": [
       "(0.28277, 0.02135)"
      ]
     },
     "execution_count": 339,
     "metadata": {},
     "output_type": "execute_result"
    }
   ],
   "source": [
    "the_most_dire_of_straights(100000)"
   ]
  },
  {
   "cell_type": "markdown",
   "metadata": {},
   "source": [
    "**Solution:**\n",
    "\n",
    "$\\begin{align*}\n",
    "\\text{Expected payout} &= \\text{\\$5} \\cdot p(\\text{5-of-kind}) + \\text{\\$3}\\cdot p(\\text{straight}) - \\text{\\$1} \\\\\n",
    "                       &= \\text{\\$5} \\cdot 0.02135 + \\text{\\$3} \\cdot 0.28277 - \\text{\\$1} \\\\\n",
    "                       &= \\$-0.04494\n",
    "\\end{align*}$\n",
    "\n",
    "The expected payout for a round is negative, meaning that you'll lose about 4 cents per round. So, **NO**, you should not take this deal."
   ]
  },
  {
   "cell_type": "code",
   "execution_count": 340,
   "metadata": {},
   "outputs": [
    {
     "data": {
      "text/plain": [
       "-0.04493999999999987"
      ]
     },
     "execution_count": 340,
     "metadata": {},
     "output_type": "execute_result"
    }
   ],
   "source": [
    "5*.02135 + 3*.28277 - 1"
   ]
  },
  {
   "cell_type": "markdown",
   "metadata": {},
   "source": [
    "<br>\n",
    "\n",
    "---\n",
    "[Back to top](#top)\n",
    "<a id='p2'></a>\n",
    "\n",
    "### [30 points] Problem 2: Sharknado Prediction"
   ]
  },
  {
   "cell_type": "markdown",
   "metadata": {},
   "source": [
    "Governor Hickenlooper has charged you with the task of assessing the factors associated with sharknado risk in Colorado. As everyone knows, sharknadoes are a leading cause of sharknado-related illness, and you are a world-renowned data/shark scientist.\n",
    "\n",
    "You decide to use multiple linear regression to understand and predict what factors lead to increased sharknado hazard. Your lead scientist, aptly named Fin, has collected lots of relevant data at a local sharknado hotspot, the Boulder Reservoir[\\*](#footnote). The data cover a variety of sharknado-related environmental and other conditions, and you'll find this data in the file `sharknadoes.csv`. \n",
    "\n",
    "**Response**: \n",
    "\n",
    "- $\\texttt{sharknado hazard}$: the hazard of a sharknado, where 1 is very unlikely and 100 is highly likely\n",
    "\n",
    "**Features**: \n",
    "\n",
    "- $\\texttt{taunts}$: the number of times over the past year that someone has taunted a shark\n",
    "- $\\texttt{clouds}$: what percentage of the sky was covered by clouds (fraction, 0-1)\n",
    "- $\\texttt{precipitation}$: amount of precipitation in the past 72 hours (inches)\n",
    "- $\\texttt{earthquake}$: the intensity of the most recent earthquake measured in the continental United States\n",
    "- $\\texttt{shark attacks}$: the number of shark attacks within 72 hours prior to the observation\n",
    "- $\\texttt{ice cream sold}$: the number of units of ice cream sold at the beach concession stand \n",
    "- $\\texttt{misery index}$: an economic indicator for how miserable the average United States citizen is, based on the unemployment rate and the inflation rate. More [here](https://www.stuffyoushouldknow.com/podcasts/whats-the-misery-index.htm) and [here](https://en.wikipedia.org/wiki/Misery_index_(economics)). Higher values correspond to more miserable citizens.\n",
    "- $\\texttt{temperature}$: the outside temperature, measured in degrees Fahrenheit\n",
    "- $\\texttt{humidity}$: relative humidity (percent, 0-100)\n",
    "- $\\texttt{pizzas sold}$: the number of pizzas sold at the beach concession stand in the past year\n",
    "- $\\texttt{pressure}$: local air pressure (millibar) \n",
    "- $\\texttt{octopuses}$: the number of octupuses in the vicinity on the day of the observation\n",
    "- $\\texttt{Dan's shoe size}$: the size of the shoes Dan was wearing when the observation was made\n",
    "- $\\texttt{Tony's shoe size}$: the size of the shoes Tony was wearing when the observation was made"
   ]
  },
  {
   "cell_type": "markdown",
   "metadata": {},
   "source": [
    "**Part A**: Read the data from `sharknadoes.csv` into a Pandas DataFrame.  Note that since we will be doing a multiple linear regression we will need all of the features, so you should drop any row in the DataFrame that is missing data. "
   ]
  },
  {
   "cell_type": "code",
   "execution_count": 10,
   "metadata": {},
   "outputs": [
    {
     "data": {
      "text/html": [
       "<div>\n",
       "<style scoped>\n",
       "    .dataframe tbody tr th:only-of-type {\n",
       "        vertical-align: middle;\n",
       "    }\n",
       "\n",
       "    .dataframe tbody tr th {\n",
       "        vertical-align: top;\n",
       "    }\n",
       "\n",
       "    .dataframe thead th {\n",
       "        text-align: right;\n",
       "    }\n",
       "</style>\n",
       "<table border=\"1\" class=\"dataframe\">\n",
       "  <thead>\n",
       "    <tr style=\"text-align: right;\">\n",
       "      <th></th>\n",
       "      <th>clouds</th>\n",
       "      <th>earthquake</th>\n",
       "      <th>pizzas sold</th>\n",
       "      <th>taunts</th>\n",
       "      <th>pressure</th>\n",
       "      <th>shark attacks</th>\n",
       "      <th>octopuses</th>\n",
       "      <th>precipitation</th>\n",
       "      <th>misery index</th>\n",
       "      <th>ice cream sold</th>\n",
       "      <th>humidity</th>\n",
       "      <th>temperature</th>\n",
       "      <th>Dans shoe size</th>\n",
       "      <th>Tonys shoe size</th>\n",
       "      <th>sharknado hazard</th>\n",
       "    </tr>\n",
       "  </thead>\n",
       "  <tbody>\n",
       "    <tr>\n",
       "      <th>0</th>\n",
       "      <td>1.00</td>\n",
       "      <td>7.1</td>\n",
       "      <td>5560.0</td>\n",
       "      <td>15.0</td>\n",
       "      <td>847.12</td>\n",
       "      <td>2.0</td>\n",
       "      <td>7.0</td>\n",
       "      <td>0.824059</td>\n",
       "      <td>12.987180</td>\n",
       "      <td>273.0</td>\n",
       "      <td>86.41</td>\n",
       "      <td>78.0</td>\n",
       "      <td>42.0</td>\n",
       "      <td>9.0</td>\n",
       "      <td>40.22</td>\n",
       "    </tr>\n",
       "    <tr>\n",
       "      <th>1</th>\n",
       "      <td>1.00</td>\n",
       "      <td>7.4</td>\n",
       "      <td>5179.0</td>\n",
       "      <td>20.0</td>\n",
       "      <td>844.34</td>\n",
       "      <td>4.0</td>\n",
       "      <td>5.0</td>\n",
       "      <td>0.993296</td>\n",
       "      <td>16.765435</td>\n",
       "      <td>184.0</td>\n",
       "      <td>96.67</td>\n",
       "      <td>89.0</td>\n",
       "      <td>42.0</td>\n",
       "      <td>9.5</td>\n",
       "      <td>36.42</td>\n",
       "    </tr>\n",
       "    <tr>\n",
       "      <th>2</th>\n",
       "      <td>1.00</td>\n",
       "      <td>7.0</td>\n",
       "      <td>5227.0</td>\n",
       "      <td>0.0</td>\n",
       "      <td>839.48</td>\n",
       "      <td>9.0</td>\n",
       "      <td>2.0</td>\n",
       "      <td>1.173342</td>\n",
       "      <td>16.494518</td>\n",
       "      <td>141.0</td>\n",
       "      <td>53.85</td>\n",
       "      <td>65.0</td>\n",
       "      <td>9.5</td>\n",
       "      <td>9.0</td>\n",
       "      <td>19.54</td>\n",
       "    </tr>\n",
       "    <tr>\n",
       "      <th>3</th>\n",
       "      <td>0.13</td>\n",
       "      <td>7.9</td>\n",
       "      <td>5226.0</td>\n",
       "      <td>34.0</td>\n",
       "      <td>851.28</td>\n",
       "      <td>2.0</td>\n",
       "      <td>6.0</td>\n",
       "      <td>0.919291</td>\n",
       "      <td>8.277176</td>\n",
       "      <td>146.0</td>\n",
       "      <td>88.72</td>\n",
       "      <td>36.0</td>\n",
       "      <td>9.5</td>\n",
       "      <td>10.0</td>\n",
       "      <td>85.00</td>\n",
       "    </tr>\n",
       "    <tr>\n",
       "      <th>4</th>\n",
       "      <td>1.00</td>\n",
       "      <td>7.5</td>\n",
       "      <td>5491.0</td>\n",
       "      <td>6.0</td>\n",
       "      <td>852.67</td>\n",
       "      <td>2.0</td>\n",
       "      <td>4.0</td>\n",
       "      <td>1.729127</td>\n",
       "      <td>5.904750</td>\n",
       "      <td>178.0</td>\n",
       "      <td>63.08</td>\n",
       "      <td>72.0</td>\n",
       "      <td>42.0</td>\n",
       "      <td>9.0</td>\n",
       "      <td>56.34</td>\n",
       "    </tr>\n",
       "  </tbody>\n",
       "</table>\n",
       "</div>"
      ],
      "text/plain": [
       "   clouds  earthquake  pizzas sold  taunts  pressure  shark attacks  \\\n",
       "0    1.00         7.1       5560.0    15.0    847.12            2.0   \n",
       "1    1.00         7.4       5179.0    20.0    844.34            4.0   \n",
       "2    1.00         7.0       5227.0     0.0    839.48            9.0   \n",
       "3    0.13         7.9       5226.0    34.0    851.28            2.0   \n",
       "4    1.00         7.5       5491.0     6.0    852.67            2.0   \n",
       "\n",
       "   octopuses  precipitation  misery index  ice cream sold  humidity  \\\n",
       "0        7.0       0.824059     12.987180           273.0     86.41   \n",
       "1        5.0       0.993296     16.765435           184.0     96.67   \n",
       "2        2.0       1.173342     16.494518           141.0     53.85   \n",
       "3        6.0       0.919291      8.277176           146.0     88.72   \n",
       "4        4.0       1.729127      5.904750           178.0     63.08   \n",
       "\n",
       "   temperature  Dans shoe size  Tonys shoe size  sharknado hazard  \n",
       "0         78.0            42.0              9.0             40.22  \n",
       "1         89.0            42.0              9.5             36.42  \n",
       "2         65.0             9.5              9.0             19.54  \n",
       "3         36.0             9.5             10.0             85.00  \n",
       "4         72.0            42.0              9.0             56.34  "
      ]
     },
     "execution_count": 10,
     "metadata": {},
     "output_type": "execute_result"
    }
   ],
   "source": [
    "dfS = pd.read_csv(\"data/sharknadoes_fall2018.csv\")\n",
    "dfS = dfS.dropna()\n",
    "dfS.head()"
   ]
  },
  {
   "cell_type": "markdown",
   "metadata": {},
   "source": [
    "**Part B**: Perform the appropriate statistical test at the $\\alpha = 0.01$ significance level to determine if _at least one_ of the features is related to the the response $y$.  Clearly describe your methodology and show all computations in Python. "
   ]
  },
  {
   "cell_type": "markdown",
   "metadata": {},
   "source": [
    "**Solution**: \n",
    "\n",
    "We perform a full F-test with the hypotheses: \n",
    "\n",
    "$$\n",
    "\\begin{array}{ll}\n",
    "H_0: & \\beta_1 = \\beta_2 = \\ldots = \\beta_{14} = 0  \\\\\n",
    "H_1: & \\beta_k \\neq 0 \\textrm{ for at least one } k=1, \\ldots, 14  \\\\\n",
    "\\end{array}\n",
    "$$\n",
    "\n",
    "Luckily, sm.OLS can perform this test for us.  We have "
   ]
  },
  {
   "cell_type": "code",
   "execution_count": 12,
   "metadata": {},
   "outputs": [
    {
     "data": {
      "text/html": [
       "<table class=\"simpletable\">\n",
       "<caption>OLS Regression Results</caption>\n",
       "<tr>\n",
       "  <th>Dep. Variable:</th>    <td>sharknado hazard</td> <th>  R-squared:         </th> <td>   0.978</td>\n",
       "</tr>\n",
       "<tr>\n",
       "  <th>Model:</th>                   <td>OLS</td>       <th>  Adj. R-squared:    </th> <td>   0.972</td>\n",
       "</tr>\n",
       "<tr>\n",
       "  <th>Method:</th>             <td>Least Squares</td>  <th>  F-statistic:       </th> <td>   179.4</td>\n",
       "</tr>\n",
       "<tr>\n",
       "  <th>Date:</th>             <td>Thu, 13 Dec 2018</td> <th>  Prob (F-statistic):</th> <td>9.60e-42</td>\n",
       "</tr>\n",
       "<tr>\n",
       "  <th>Time:</th>                 <td>06:56:01</td>     <th>  Log-Likelihood:    </th> <td> -174.23</td>\n",
       "</tr>\n",
       "<tr>\n",
       "  <th>No. Observations:</th>      <td>    72</td>      <th>  AIC:               </th> <td>   378.5</td>\n",
       "</tr>\n",
       "<tr>\n",
       "  <th>Df Residuals:</th>          <td>    57</td>      <th>  BIC:               </th> <td>   412.6</td>\n",
       "</tr>\n",
       "<tr>\n",
       "  <th>Df Model:</th>              <td>    14</td>      <th>                     </th>     <td> </td>   \n",
       "</tr>\n",
       "<tr>\n",
       "  <th>Covariance Type:</th>      <td>nonrobust</td>    <th>                     </th>     <td> </td>   \n",
       "</tr>\n",
       "</table>\n",
       "<table class=\"simpletable\">\n",
       "<tr>\n",
       "         <td></td>            <th>coef</th>     <th>std err</th>      <th>t</th>      <th>P>|t|</th>  <th>[0.025</th>    <th>0.975]</th>  \n",
       "</tr>\n",
       "<tr>\n",
       "  <th>const</th>           <td>-2549.8985</td> <td>   67.605</td> <td>  -37.718</td> <td> 0.000</td> <td>-2685.275</td> <td>-2414.522</td>\n",
       "</tr>\n",
       "<tr>\n",
       "  <th>clouds</th>          <td>   -1.5106</td> <td>    2.566</td> <td>   -0.589</td> <td> 0.558</td> <td>   -6.650</td> <td>    3.628</td>\n",
       "</tr>\n",
       "<tr>\n",
       "  <th>earthquake</th>      <td>    2.5079</td> <td>    0.467</td> <td>    5.367</td> <td> 0.000</td> <td>    1.572</td> <td>    3.444</td>\n",
       "</tr>\n",
       "<tr>\n",
       "  <th>pizzas sold</th>     <td>   -0.0006</td> <td>    0.002</td> <td>   -0.373</td> <td> 0.711</td> <td>   -0.004</td> <td>    0.003</td>\n",
       "</tr>\n",
       "<tr>\n",
       "  <th>taunts</th>          <td>    0.3117</td> <td>    0.042</td> <td>    7.447</td> <td> 0.000</td> <td>    0.228</td> <td>    0.396</td>\n",
       "</tr>\n",
       "<tr>\n",
       "  <th>pressure</th>        <td>    3.0688</td> <td>    0.079</td> <td>   38.850</td> <td> 0.000</td> <td>    2.911</td> <td>    3.227</td>\n",
       "</tr>\n",
       "<tr>\n",
       "  <th>shark attacks</th>   <td>   -0.1151</td> <td>    0.144</td> <td>   -0.797</td> <td> 0.429</td> <td>   -0.404</td> <td>    0.174</td>\n",
       "</tr>\n",
       "<tr>\n",
       "  <th>octopuses</th>       <td>   -0.0749</td> <td>    0.143</td> <td>   -0.524</td> <td> 0.602</td> <td>   -0.361</td> <td>    0.211</td>\n",
       "</tr>\n",
       "<tr>\n",
       "  <th>precipitation</th>   <td>    1.3982</td> <td>    0.930</td> <td>    1.503</td> <td> 0.138</td> <td>   -0.464</td> <td>    3.261</td>\n",
       "</tr>\n",
       "<tr>\n",
       "  <th>misery index</th>    <td>    0.0273</td> <td>    0.080</td> <td>    0.340</td> <td> 0.735</td> <td>   -0.133</td> <td>    0.188</td>\n",
       "</tr>\n",
       "<tr>\n",
       "  <th>ice cream sold</th>  <td>    0.0096</td> <td>    0.008</td> <td>    1.193</td> <td> 0.238</td> <td>   -0.007</td> <td>    0.026</td>\n",
       "</tr>\n",
       "<tr>\n",
       "  <th>humidity</th>        <td>    0.0188</td> <td>    0.027</td> <td>    0.706</td> <td> 0.483</td> <td>   -0.035</td> <td>    0.072</td>\n",
       "</tr>\n",
       "<tr>\n",
       "  <th>temperature</th>     <td>   -0.4426</td> <td>    0.053</td> <td>   -8.396</td> <td> 0.000</td> <td>   -0.548</td> <td>   -0.337</td>\n",
       "</tr>\n",
       "<tr>\n",
       "  <th>Dans shoe size</th>  <td>    0.0271</td> <td>    0.023</td> <td>    1.175</td> <td> 0.245</td> <td>   -0.019</td> <td>    0.073</td>\n",
       "</tr>\n",
       "<tr>\n",
       "  <th>Tonys shoe size</th> <td>    0.2814</td> <td>    1.273</td> <td>    0.221</td> <td> 0.826</td> <td>   -2.268</td> <td>    2.831</td>\n",
       "</tr>\n",
       "</table>\n",
       "<table class=\"simpletable\">\n",
       "<tr>\n",
       "  <th>Omnibus:</th>       <td> 0.821</td> <th>  Durbin-Watson:     </th> <td>   2.225</td>\n",
       "</tr>\n",
       "<tr>\n",
       "  <th>Prob(Omnibus):</th> <td> 0.663</td> <th>  Jarque-Bera (JB):  </th> <td>   0.300</td>\n",
       "</tr>\n",
       "<tr>\n",
       "  <th>Skew:</th>          <td> 0.005</td> <th>  Prob(JB):          </th> <td>   0.861</td>\n",
       "</tr>\n",
       "<tr>\n",
       "  <th>Kurtosis:</th>      <td> 3.316</td> <th>  Cond. No.          </th> <td>1.03e+06</td>\n",
       "</tr>\n",
       "</table>"
      ],
      "text/plain": [
       "<class 'statsmodels.iolib.summary.Summary'>\n",
       "\"\"\"\n",
       "                            OLS Regression Results                            \n",
       "==============================================================================\n",
       "Dep. Variable:       sharknado hazard   R-squared:                       0.978\n",
       "Model:                            OLS   Adj. R-squared:                  0.972\n",
       "Method:                 Least Squares   F-statistic:                     179.4\n",
       "Date:                Thu, 13 Dec 2018   Prob (F-statistic):           9.60e-42\n",
       "Time:                        06:56:01   Log-Likelihood:                -174.23\n",
       "No. Observations:                  72   AIC:                             378.5\n",
       "Df Residuals:                      57   BIC:                             412.6\n",
       "Df Model:                          14                                         \n",
       "Covariance Type:            nonrobust                                         \n",
       "===================================================================================\n",
       "                      coef    std err          t      P>|t|      [0.025      0.975]\n",
       "-----------------------------------------------------------------------------------\n",
       "const           -2549.8985     67.605    -37.718      0.000   -2685.275   -2414.522\n",
       "clouds             -1.5106      2.566     -0.589      0.558      -6.650       3.628\n",
       "earthquake          2.5079      0.467      5.367      0.000       1.572       3.444\n",
       "pizzas sold        -0.0006      0.002     -0.373      0.711      -0.004       0.003\n",
       "taunts              0.3117      0.042      7.447      0.000       0.228       0.396\n",
       "pressure            3.0688      0.079     38.850      0.000       2.911       3.227\n",
       "shark attacks      -0.1151      0.144     -0.797      0.429      -0.404       0.174\n",
       "octopuses          -0.0749      0.143     -0.524      0.602      -0.361       0.211\n",
       "precipitation       1.3982      0.930      1.503      0.138      -0.464       3.261\n",
       "misery index        0.0273      0.080      0.340      0.735      -0.133       0.188\n",
       "ice cream sold      0.0096      0.008      1.193      0.238      -0.007       0.026\n",
       "humidity            0.0188      0.027      0.706      0.483      -0.035       0.072\n",
       "temperature        -0.4426      0.053     -8.396      0.000      -0.548      -0.337\n",
       "Dans shoe size      0.0271      0.023      1.175      0.245      -0.019       0.073\n",
       "Tonys shoe size     0.2814      1.273      0.221      0.826      -2.268       2.831\n",
       "==============================================================================\n",
       "Omnibus:                        0.821   Durbin-Watson:                   2.225\n",
       "Prob(Omnibus):                  0.663   Jarque-Bera (JB):                0.300\n",
       "Skew:                           0.005   Prob(JB):                        0.861\n",
       "Kurtosis:                       3.316   Cond. No.                     1.03e+06\n",
       "==============================================================================\n",
       "\n",
       "Warnings:\n",
       "[1] Standard Errors assume that the covariance matrix of the errors is correctly specified.\n",
       "[2] The condition number is large, 1.03e+06. This might indicate that there are\n",
       "strong multicollinearity or other numerical problems.\n",
       "\"\"\""
      ]
     },
     "execution_count": 12,
     "metadata": {},
     "output_type": "execute_result"
    }
   ],
   "source": [
    "y = dfS[\"sharknado hazard\"]\n",
    "Xfull = dfS.loc[:,dfS.columns != \"sharknado hazard\"]\n",
    "Xfull = sm.add_constant(Xfull)\n",
    "full_model = sm.OLS(y, Xfull).fit()\n",
    "full_model.summary()"
   ]
  },
  {
   "cell_type": "markdown",
   "metadata": {},
   "source": [
    "From the model summary we see that the F-statistic of interest is $F = 179.4$ with an associated p-value of $9\\times 10^{-42}$.  Since this is (WAY) less than $\\alpha = 0.01$ we reject the null hypothesis and conclude that at least one of the provided features is related to the response. "
   ]
  },
  {
   "cell_type": "markdown",
   "metadata": {},
   "source": [
    "**Part C**: Write a function `backward_select(df, resp_str, maxsse)` that takes in the DataFrame (`df`), the name of the column corresponding to the response (`resp_str`), and the maximum desired sum of squared errors (`maxsse`), and returns a list of feature names corresponding to the most important features via backward selection.  Use your code to determine the reduced MLR model with the minimal number of features such that the SSE of the reduced model is less than 570. At each stage in backward selection you should remove the feature that has the highest p-value associated with the hypothesis test for the given slope coefficient $\\beta_k \\neq 0$.\n",
    "\n",
    "Your code should clearly indicate which feature was removed in each stage, and the SSE associated with the model fit before the feature's removal. _Specifically, please write your code to print the name of the feature that is going to be removed and the SSE before its removal_. Afterward, be sure to report all of the retained features and the SSE of the reduced model.\n",
    "\n",
    "**Note**: The point of this exercise is to see if you can implement **backward_select** yourself.  You may of course use canned routines like statmodels OLS, but you may not call any Python method that explicitly performs backward selection."
   ]
  },
  {
   "cell_type": "code",
   "execution_count": 277,
   "metadata": {
    "collapsed": true
   },
   "outputs": [],
   "source": [
    "def backward_select(df, resp_str, maxsse):\n",
    "    \n",
    "    # your code goes here!\n",
    "    \n",
    "    remaining_features = [] # placeholder\n",
    "    \n",
    "    return remaining_features"
   ]
  },
  {
   "cell_type": "code",
   "execution_count": 18,
   "metadata": {},
   "outputs": [
    {
     "name": "stdout",
     "output_type": "stream",
     "text": [
      "Stage 1, removed feature Tonys shoe size, SSE = 533.4003\n",
      "Stage 2, removed feature misery index, SSE = 534.6876\n",
      "Stage 3, removed feature octopuses, SSE = 536.5070\n",
      "Stage 4, removed feature clouds, SSE = 539.4966\n",
      "Stage 5, removed feature pizzas sold, SSE = 543.3572\n",
      "Stage 6, removed feature humidity, SSE = 547.4142\n",
      "Stage 7, removed feature shark attacks, SSE = 552.1549\n",
      "Stage 8, removed feature Dans shoe size, SSE = 564.1069\n",
      "Features left: ['earthquake', 'taunts', 'pressure', 'precipitation', 'ice cream sold', 'temperature']\n"
     ]
    }
   ],
   "source": [
    "# SOLUTION:\n",
    "\n",
    "def backward_select(df, resp_str=\"sharknado hazard\", maxsse=700):\n",
    "    \n",
    "    # set response vector \n",
    "    y = df[resp_str]\n",
    "    \n",
    "    # get potential features \n",
    "    remaining_features = list(df.columns[df.columns != resp_str])\n",
    "    \n",
    "    # initialize good features list\n",
    "    # - backward select start with all of them, and drops highest p-value\n",
    "    good_features = remaining_features\n",
    "\n",
    "    sse = 0\n",
    "    \n",
    "    # perform backward selection \n",
    "    stage = 1\n",
    "    X = df[remaining_features]\n",
    "    X = sm.add_constant(X)\n",
    "    model = sm.OLS(y, X).fit() \n",
    "    sse = np.sum((y-model.predict(X))**2)\n",
    "\n",
    "    while sse < maxsse:\n",
    "        \n",
    "        rem_feat = model.pvalues.idxmax()   # candidate feature to remove is one with highest p-value\n",
    "        new_remaining_features = remaining_features.copy()\n",
    "        new_remaining_features.remove(rem_feat)\n",
    "        X = df[new_remaining_features]      # create feature set without the feature to remove\n",
    "        X = sm.add_constant(X)\n",
    "        model = sm.OLS(y, X).fit()\n",
    "        sse = np.sum((y-model.predict(X))**2) # SSE_reduced\n",
    "        \n",
    "        if sse < maxsse:\n",
    "            remaining_features.remove(rem_feat)\n",
    "            print(\"Stage {}, removed feature {}, SSE = {:0.4f}\".format(stage, rem_feat, sse))\n",
    "        stage += 1\n",
    "        \n",
    "    print(\"Features left:\",remaining_features)\n",
    "    \n",
    "    return remaining_features\n",
    "              \n",
    "good_features = backward_select(dfS, resp_str=\"sharknado hazard\", maxsse=570)"
   ]
  },
  {
   "cell_type": "markdown",
   "metadata": {},
   "source": [
    "**Part D**: Write down the multiple linear regression model, including estimated parameters, obtained by your backward selection process. "
   ]
  },
  {
   "cell_type": "code",
   "execution_count": 19,
   "metadata": {},
   "outputs": [
    {
     "data": {
      "text/html": [
       "<table class=\"simpletable\">\n",
       "<caption>OLS Regression Results</caption>\n",
       "<tr>\n",
       "  <th>Dep. Variable:</th>    <td>sharknado hazard</td> <th>  R-squared:         </th> <td>   0.977</td>\n",
       "</tr>\n",
       "<tr>\n",
       "  <th>Model:</th>                   <td>OLS</td>       <th>  Adj. R-squared:    </th> <td>   0.974</td>\n",
       "</tr>\n",
       "<tr>\n",
       "  <th>Method:</th>             <td>Least Squares</td>  <th>  F-statistic:       </th> <td>   450.3</td>\n",
       "</tr>\n",
       "<tr>\n",
       "  <th>Date:</th>             <td>Thu, 13 Dec 2018</td> <th>  Prob (F-statistic):</th> <td>6.28e-51</td>\n",
       "</tr>\n",
       "<tr>\n",
       "  <th>Time:</th>                 <td>07:03:10</td>     <th>  Log-Likelihood:    </th> <td> -176.27</td>\n",
       "</tr>\n",
       "<tr>\n",
       "  <th>No. Observations:</th>      <td>    72</td>      <th>  AIC:               </th> <td>   366.5</td>\n",
       "</tr>\n",
       "<tr>\n",
       "  <th>Df Residuals:</th>          <td>    65</td>      <th>  BIC:               </th> <td>   382.5</td>\n",
       "</tr>\n",
       "<tr>\n",
       "  <th>Df Model:</th>              <td>     6</td>      <th>                     </th>     <td> </td>   \n",
       "</tr>\n",
       "<tr>\n",
       "  <th>Covariance Type:</th>      <td>nonrobust</td>    <th>                     </th>     <td> </td>   \n",
       "</tr>\n",
       "</table>\n",
       "<table class=\"simpletable\">\n",
       "<tr>\n",
       "         <td></td>           <th>coef</th>     <th>std err</th>      <th>t</th>      <th>P>|t|</th>  <th>[0.025</th>    <th>0.975]</th>  \n",
       "</tr>\n",
       "<tr>\n",
       "  <th>const</th>          <td>-2542.0392</td> <td>   59.776</td> <td>  -42.526</td> <td> 0.000</td> <td>-2661.420</td> <td>-2422.659</td>\n",
       "</tr>\n",
       "<tr>\n",
       "  <th>earthquake</th>     <td>    2.4012</td> <td>    0.435</td> <td>    5.520</td> <td> 0.000</td> <td>    1.532</td> <td>    3.270</td>\n",
       "</tr>\n",
       "<tr>\n",
       "  <th>taunts</th>         <td>    0.3188</td> <td>    0.037</td> <td>    8.534</td> <td> 0.000</td> <td>    0.244</td> <td>    0.393</td>\n",
       "</tr>\n",
       "<tr>\n",
       "  <th>pressure</th>       <td>    3.0618</td> <td>    0.071</td> <td>   42.836</td> <td> 0.000</td> <td>    2.919</td> <td>    3.205</td>\n",
       "</tr>\n",
       "<tr>\n",
       "  <th>precipitation</th>  <td>    1.2559</td> <td>    0.885</td> <td>    1.419</td> <td> 0.161</td> <td>   -0.512</td> <td>    3.023</td>\n",
       "</tr>\n",
       "<tr>\n",
       "  <th>ice cream sold</th> <td>    0.0099</td> <td>    0.008</td> <td>    1.311</td> <td> 0.194</td> <td>   -0.005</td> <td>    0.025</td>\n",
       "</tr>\n",
       "<tr>\n",
       "  <th>temperature</th>    <td>   -0.4680</td> <td>    0.033</td> <td>  -14.220</td> <td> 0.000</td> <td>   -0.534</td> <td>   -0.402</td>\n",
       "</tr>\n",
       "</table>\n",
       "<table class=\"simpletable\">\n",
       "<tr>\n",
       "  <th>Omnibus:</th>       <td> 1.389</td> <th>  Durbin-Watson:     </th> <td>   2.233</td>\n",
       "</tr>\n",
       "<tr>\n",
       "  <th>Prob(Omnibus):</th> <td> 0.499</td> <th>  Jarque-Bera (JB):  </th> <td>   0.798</td>\n",
       "</tr>\n",
       "<tr>\n",
       "  <th>Skew:</th>          <td> 0.210</td> <th>  Prob(JB):          </th> <td>   0.671</td>\n",
       "</tr>\n",
       "<tr>\n",
       "  <th>Kurtosis:</th>      <td> 3.300</td> <th>  Cond. No.          </th> <td>1.50e+05</td>\n",
       "</tr>\n",
       "</table>"
      ],
      "text/plain": [
       "<class 'statsmodels.iolib.summary.Summary'>\n",
       "\"\"\"\n",
       "                            OLS Regression Results                            \n",
       "==============================================================================\n",
       "Dep. Variable:       sharknado hazard   R-squared:                       0.977\n",
       "Model:                            OLS   Adj. R-squared:                  0.974\n",
       "Method:                 Least Squares   F-statistic:                     450.3\n",
       "Date:                Thu, 13 Dec 2018   Prob (F-statistic):           6.28e-51\n",
       "Time:                        07:03:10   Log-Likelihood:                -176.27\n",
       "No. Observations:                  72   AIC:                             366.5\n",
       "Df Residuals:                      65   BIC:                             382.5\n",
       "Df Model:                           6                                         \n",
       "Covariance Type:            nonrobust                                         \n",
       "==================================================================================\n",
       "                     coef    std err          t      P>|t|      [0.025      0.975]\n",
       "----------------------------------------------------------------------------------\n",
       "const          -2542.0392     59.776    -42.526      0.000   -2661.420   -2422.659\n",
       "earthquake         2.4012      0.435      5.520      0.000       1.532       3.270\n",
       "taunts             0.3188      0.037      8.534      0.000       0.244       0.393\n",
       "pressure           3.0618      0.071     42.836      0.000       2.919       3.205\n",
       "precipitation      1.2559      0.885      1.419      0.161      -0.512       3.023\n",
       "ice cream sold     0.0099      0.008      1.311      0.194      -0.005       0.025\n",
       "temperature       -0.4680      0.033    -14.220      0.000      -0.534      -0.402\n",
       "==============================================================================\n",
       "Omnibus:                        1.389   Durbin-Watson:                   2.233\n",
       "Prob(Omnibus):                  0.499   Jarque-Bera (JB):                0.798\n",
       "Skew:                           0.210   Prob(JB):                        0.671\n",
       "Kurtosis:                       3.300   Cond. No.                     1.50e+05\n",
       "==============================================================================\n",
       "\n",
       "Warnings:\n",
       "[1] Standard Errors assume that the covariance matrix of the errors is correctly specified.\n",
       "[2] The condition number is large, 1.5e+05. This might indicate that there are\n",
       "strong multicollinearity or other numerical problems.\n",
       "\"\"\""
      ]
     },
     "execution_count": 19,
     "metadata": {},
     "output_type": "execute_result"
    }
   ],
   "source": [
    "y = dfS[\"sharknado hazard\"]\n",
    "Xred = dfS.loc[:, good_features]\n",
    "Xred = sm.add_constant(Xred)\n",
    "red_model = sm.OLS(y, Xred).fit()\n",
    "red_model.summary()"
   ]
  },
  {
   "cell_type": "markdown",
   "metadata": {},
   "source": [
    "The obtained reduced model is: \n",
    "\n",
    "$$\n",
    "\\hat{y} =  -2542.04 + 2.40\\times\\texttt{earthquake}+ 0.32\\times\\texttt{taunts} + 3.06\\times\\texttt{pressure} \n",
    "+ 1.26\\times\\texttt{precipitation} + 0.01\\times\\texttt{ice cream}  - 0.47\\times\\texttt{temperature} \n",
    "$$"
   ]
  },
  {
   "cell_type": "markdown",
   "metadata": {},
   "source": [
    "**Part E**: Perform the appropriate statistical test at the $\\alpha = 0.01$ significance level to determine whether there is a statistically significant difference between the full model with all features and the reduced model obtained by backward selection in **Part D**. You may use output from your model fit above, but all calculations should be set up in Markdown/MathJax."
   ]
  },
  {
   "cell_type": "markdown",
   "metadata": {},
   "source": [
    "**Solution**: \n",
    "\n",
    "Our null hypothesis is that the true parameters on the features not included in the reduced model are zero.  Our alternate hypothesis is that at least one of the slopes associated with a missing feature is important: \n",
    "\n",
    "$$\n",
    "\\begin{array}{ll}\n",
    "H_0: \\beta_{clouds} = \\beta_{pizzas~sold} = \\beta_{shark~attacks} = \\beta_{octopuses} = \\beta_{misery~index} = \\beta_{humidity} = \\beta_{Dans~shoes} = \\beta_{Tonys~shoes} = 0 \\\\\n",
    "H_1: \\beta_{k} \\neq 0 \\textrm{ for at least one } k \\in \\{clouds, pizzas, shark~attacks, octopuses, misery, humidity, Dans~shoes, Tonys~shoes\\} \\\\\n",
    "\\end{array}\n",
    "$$\n",
    "\n",
    "We will evaluate our hypothesis by performing a Partial F-Test of the form \n",
    "\n",
    "$$\n",
    "F = \\dfrac{(SSE_{red} - SSE_{full})/(p-k)}{SSE_{full}/(n-p-1)} \\sim F_{p-k, n-p-1}\n",
    "$$"
   ]
  },
  {
   "cell_type": "code",
   "execution_count": 22,
   "metadata": {
    "scrolled": true
   },
   "outputs": [
    {
     "name": "stdout",
     "output_type": "stream",
     "text": [
      "SSE_full =  532.9436707404283\n",
      "SSE_red =  564.1068895239198\n",
      "num_dfs = 8\n",
      "den_dfs = 57\n",
      "F = 0.417\n",
      "P(>F) = 0.9063234965603284\n",
      "RR: F > = 2.8406938969971707\n"
     ]
    }
   ],
   "source": [
    "SSE_red = np.sum((y-red_model.predict(Xred))**2)\n",
    "SSE_full = np.sum((y-full_model.predict(Xfull))**2)\n",
    "p = len(dfS.columns)-1\n",
    "k = len(good_features) \n",
    "n = len(dfS)\n",
    "F = ((SSE_red - SSE_full)/(p-k))/((SSE_full)/(n-p-1))\n",
    "print(\"SSE_full = \", SSE_full)\n",
    "print(\"SSE_red = \", SSE_red)\n",
    "print(\"num_dfs = {}\".format(p-k))\n",
    "print(\"den_dfs = {}\".format(n-p-1))\n",
    "print(\"F = {:.3f}\".format(F))\n",
    "pval = 1 - stats.f.cdf(F, p-k, n-p-1)\n",
    "print(\"P(>F) = {}\".format(pval))\n",
    "print(\"RR: F > = {}\".format(stats.f.ppf(1-.01, p-k, n-p-1)))"
   ]
  },
  {
   "cell_type": "markdown",
   "metadata": {},
   "source": [
    "Since our p-value is greater than $\\alpha = 0.01$ we fail to reject the null hypothesis and thus conclude that there is insufficient evidence to believe that the full model is statistically significantly better than the reduced model obtained by forward selection. "
   ]
  },
  {
   "cell_type": "markdown",
   "metadata": {},
   "source": [
    "**Part F**: Based on your conclusions in **Part E**, use the _better_ of the two models to predict the sharknado hazard when the following features are observed: \n",
    "\n",
    "- $\\texttt{taunts}$: 47\n",
    "- $\\texttt{clouds}$: 0.8\n",
    "- $\\texttt{precipitation}$: 1 inch\n",
    "- $\\texttt{earthquake}$: 5\n",
    "- $\\texttt{shark attacks}$: 11\n",
    "- $\\texttt{ice cream sold}$: 120\n",
    "- $\\texttt{misery index}$: 15\n",
    "- $\\texttt{temperature}$: 70 degrees F\n",
    "- $\\texttt{humidity}$: 83\n",
    "- $\\texttt{pizzas sold}$: 5500\n",
    "- $\\texttt{pressure}$: 850 millibar \n",
    "- $\\texttt{octopuses}$: 6\n",
    "- $\\texttt{Dan's shoe size}$: 9.5\n",
    "- $\\texttt{Tony's shoe size}$: 9"
   ]
  },
  {
   "cell_type": "markdown",
   "metadata": {},
   "source": [
    "**Solution**:\n",
    "\n",
    "Using only the features in our reduced model, we have "
   ]
  },
  {
   "cell_type": "code",
   "execution_count": 21,
   "metadata": {},
   "outputs": [
    {
     "name": "stdout",
     "output_type": "stream",
     "text": [
      "yhat = 57.192\n"
     ]
    }
   ],
   "source": [
    "data = {\"const\": 1, \"taunts\": 47, \"clouds\": 0.8, \"precipitation\": 1, \"earthquake\": 5, \\\n",
    "        \"shark attacks\": 11, \"ice cream sold\": 120, \"misery index\": 15, \"temperature\": 70, \\\n",
    "        \"humidity\": 83, \"pizzas sold\": 5500, \"pressure\": 850, \"octopuses\": 6, \\\n",
    "        \"Dans shoe size\": 9.5, \"Tonys shoe size\": 9}\n",
    "yhat = 0 \n",
    "for feat, slope in zip(red_model.params.index, red_model.params):\n",
    "    yhat += data[feat] * slope \n",
    "print(\"yhat = {:.3f}\".format(yhat))"
   ]
  },
  {
   "cell_type": "markdown",
   "metadata": {},
   "source": [
    "**Part G:** Consider the model you used in Part E, and consider the fact that you are trying to predict **sharknado hazard**. What is one critical drawback to the MLR model (or any MLR model) for predicting shardnado hazard? What are some modifications that could improve on this issue?"
   ]
  },
  {
   "cell_type": "markdown",
   "metadata": {},
   "source": [
    "**Solution:**\n",
    "\n",
    "Shardnado hazard is a number between 1 and 100, but the MLR model can predict values outside of this range. We can - and probably should - be using a logistic regression model instead, and scale the output between 1 and 100 instead of between -1 and 1."
   ]
  },
  {
   "cell_type": "markdown",
   "metadata": {},
   "source": [
    "<br>\n",
    "\n",
    "---\n",
    "[Back to top](#top)\n",
    "<a id='p3'></a>\n",
    "\n",
    "### [35 points] Problem 3: FlipMaster5000"
   ]
  },
  {
   "cell_type": "markdown",
   "metadata": {},
   "source": [
    "In the file `flips.csv` you'll find the results of an experiment that was conducted with Stella O'Flaherty (the famous octopus data scientist) flipping coins. Her experiment was as follows. \n",
    "\n",
    "1. She reaches into her coin purse and grabs one of two coins, labeled $x$ and $y$. \n",
    "2. She flips her coin until it comes up heads 8 times, and records the coin ID and the number of flips it took to get 8 heads. \n",
    "3. She then replaces the coin in her coin purse and repeats the experiment. "
   ]
  },
  {
   "cell_type": "markdown",
   "metadata": {},
   "source": [
    "**Part A:**\n",
    "\n",
    "By considering the total number of flips and the total number of \"heads\" in the data file for each coin, estimate the bias of each coin $p_x$ and $p_y$, and use an appropriate statistical test to determine whether the coins have the same bias, i.e. whether $p_x$ and $p_y$ are the same. Perform your test at a significance level that will mistakenly reject the null hypothesis _when that null hypothesis is actually true_ 5% of the time. Report a p-value for your test, and clearly state your conclusions."
   ]
  },
  {
   "cell_type": "code",
   "execution_count": 5,
   "metadata": {},
   "outputs": [
    {
     "data": {
      "text/html": [
       "<div>\n",
       "<style scoped>\n",
       "    .dataframe tbody tr th:only-of-type {\n",
       "        vertical-align: middle;\n",
       "    }\n",
       "\n",
       "    .dataframe tbody tr th {\n",
       "        vertical-align: top;\n",
       "    }\n",
       "\n",
       "    .dataframe thead th {\n",
       "        text-align: right;\n",
       "    }\n",
       "</style>\n",
       "<table border=\"1\" class=\"dataframe\">\n",
       "  <thead>\n",
       "    <tr style=\"text-align: right;\">\n",
       "      <th></th>\n",
       "      <th>Coin ID</th>\n",
       "      <th>Flips Required</th>\n",
       "    </tr>\n",
       "  </thead>\n",
       "  <tbody>\n",
       "    <tr>\n",
       "      <th>0</th>\n",
       "      <td>x</td>\n",
       "      <td>9</td>\n",
       "    </tr>\n",
       "    <tr>\n",
       "      <th>1</th>\n",
       "      <td>x</td>\n",
       "      <td>13</td>\n",
       "    </tr>\n",
       "    <tr>\n",
       "      <th>2</th>\n",
       "      <td>x</td>\n",
       "      <td>12</td>\n",
       "    </tr>\n",
       "    <tr>\n",
       "      <th>3</th>\n",
       "      <td>y</td>\n",
       "      <td>12</td>\n",
       "    </tr>\n",
       "    <tr>\n",
       "      <th>4</th>\n",
       "      <td>y</td>\n",
       "      <td>20</td>\n",
       "    </tr>\n",
       "  </tbody>\n",
       "</table>\n",
       "</div>"
      ],
      "text/plain": [
       "  Coin ID  Flips Required\n",
       "0       x               9\n",
       "1       x              13\n",
       "2       x              12\n",
       "3       y              12\n",
       "4       y              20"
      ]
     },
     "execution_count": 5,
     "metadata": {},
     "output_type": "execute_result"
    }
   ],
   "source": [
    "df.head(10)"
   ]
  },
  {
   "cell_type": "code",
   "execution_count": 3,
   "metadata": {
    "collapsed": true
   },
   "outputs": [
    {
     "name": "stdout",
     "output_type": "stream",
     "text": [
      "Estimate of p_x: 0.7059\n",
      "Estimate of p_y: 0.5000\n",
      "P-value for difference in proportions: 0.0810\n",
      "Since this pvalue is greater than 0.05, we fail to reject the null hypothesis\n"
     ]
    }
   ],
   "source": [
    "# SOLUTION\n",
    "\n",
    "# Load the data\n",
    "df = pd.read_csv('data/flips.csv',delimiter='\\t')\n",
    "dfx = df.loc[df[\"Coin ID\"]==\"x\"]\n",
    "dfy = df.loc[df[\"Coin ID\"]==\"y\"]\n",
    "nx = dfx[\"Flips Required\"].sum()\n",
    "ny = dfy[\"Flips Required\"].sum()\n",
    "hx = len(dfx)*8\n",
    "hy = len(dfy)*8\n",
    "phatx = hx/nx\n",
    "phaty = hy/ny\n",
    "print(\"Estimate of p_x: {:.4f}\".format(phatx))\n",
    "print(\"Estimate of p_y: {:.4f}\".format(phaty))\n",
    "# Use the CLT and a z test for difference in proportions since nx and ny are large.\n",
    "se = np.sqrt(phatx*(1-phatx)/nx + phaty*(1-phaty)/ny)\n",
    "zstat = (phatx-phaty)/se\n",
    "pvalue = 2*stats.norm.cdf(-np.abs(zstat))\n",
    "print(\"P-value for difference in proportions: {:.4f}\".format(pvalue))\n",
    "print(\"Since this pvalue is greater than 0.05, we fail to reject the null hypothesis\")"
   ]
  },
  {
   "cell_type": "markdown",
   "metadata": {},
   "source": [
    "**Part B:** \n",
    "\n",
    "You learn that, actually, the coin $x$ is from a manufacturer that produces coins whose biases follow some statistical regularity. In particular, the bias of the $x$ coin is in the set $$p_x \\in \\{0.1, 0.2, 0.3, \\dots, 0.9\\}.$$ Furthermore, these biases all occur with equal probability. In other words, $\\tfrac{1}{9}$ of coins have bias $p_x=0.1$, $\\tfrac{1}{9}$ of coins have bias $p_x=0.2$, and so on. \n",
    "\n",
    "For each possible value of $p_x$, compute the probability that Stella's $x$ coin has bias of $p_x$, given the data in her data file. \n",
    "\n",
    "Plot your results with $p_x$ on the horizontal axis and $Pr(p_x \\mid \\text{data})$ on the vertical axis. Make the points or lines that you plot blue. Plots without axis labels will receive zero credit.\n",
    "\n",
    "_Hint_: We have done problems like this before! Think back to how you solved the problem on the midterm where you determined the probability that someone had ESP, given that they guessed the cards correctly. There was a \"rule\", and maybe a \"law\" involved in your calculation..."
   ]
  },
  {
   "cell_type": "markdown",
   "metadata": {},
   "source": [
    "**Solution**\n",
    "\n",
    "Well, I recall that \n",
    "$$Pr(p \\mid \\text{data}) = \\frac{Pr(\\text{data} \\mid p) Pr(p)}{Pr(\\text{data})}$$\n",
    "and using the LTP, I can rewrite the denominator as\n",
    "$$Pr(p \\mid \\text{data}) = \\frac{Pr(\\text{data} \\mid p) Pr(p)}{\\sum_{p} Pr(\\text{data} \\mid p) Pr(p)}$$\n",
    "\n",
    "Note that there are multiple data points for each coin (3 for $x$ and 2 for $y$), but because the trials are conditionally independent, given the coin's bias, we can lump all of the data in together. Also note below that the binomial coefficients are multiplied together and present in each term, so they cancel out of the numerator and the denominator.\n",
    "\n",
    "Therefore, it looks like we just need to compute $Pr(\\text{data} \\mid p)$ for values of $p$ in the set listed in the problem statement.  All the values of $Pr(p)$ are simply $\\tfrac{1}{9}$ as stated. "
   ]
  },
  {
   "cell_type": "code",
   "execution_count": 6,
   "metadata": {
    "collapsed": true
   },
   "outputs": [
    {
     "data": {
      "text/plain": [
       "<matplotlib.legend.Legend at 0x122255ba8>"
      ]
     },
     "execution_count": 6,
     "metadata": {},
     "output_type": "execute_result"
    },
    {
     "data": {
      "image/png": "[encoded data removed]",
      "text/plain": [
       "<Figure size 432x288 with 1 Axes>"
      ]
     },
     "metadata": {},
     "output_type": "display_data"
    }
   ],
   "source": [
    "# SOLUTION\n",
    "\n",
    "pvec = np.arange(0.1,1,0.1)\n",
    "priorx = np.ones(9)/np.sum(np.ones(9))\n",
    "likelihoodx = np.zeros(len(pvec))\n",
    "for idx,p in enumerate(pvec):\n",
    "    likelihoodx[idx] = p**hx * (1-p)**(nx-hx)\n",
    "postxx = likelihoodx*priorx/np.sum(likelihoodx*priorx)\n",
    "\n",
    "fig,ax = plt.subplots(1,1,figsize=(6,4))\n",
    "ax.plot(pvec,postxx,'bo-',label='die x')\n",
    "ax.set_xlabel('p_x',FontSize=16)\n",
    "ax.set_ylabel('Pr(p_x | data)',FontSize=16)\n",
    "ax.legend()"
   ]
  },
  {
   "cell_type": "markdown",
   "metadata": {},
   "source": [
    "**Part C:**\n",
    "\n",
    "You learn that, actually, the coin $y$ is from a different manufacturer that produces coins whose biases follow some statistical regularity. In particular, the bias of the $y$ coin is in the set $$p_y \\in \\{0.1, 0.2, 0.3, \\dots, 0.9\\}.$$ Furthermore, these biases all occur with different probability. In particular, the probability that a coin has bias $p_y$ is proportional to $p_y$, which could be written as \n",
    "$$Pr(p_y) \\propto p_y \\quad \\text{for} \\quad p_y \\in \\{0.1, 0.2, 0.3, \\dots, 0.9\\}$$\n",
    "\n",
    "First, write clearly the PMF for $p_y$, based on the information above. \n",
    "\n",
    "Then, for each possible value of $p_y$, compute the probability that Stella's $y$ coin has bias of $p_y$, given the data in her data file. \n",
    "\n",
    "Plot your results with $p_y$ on the horizontal axis and $Pr(p_y \\mid \\text{data})$ on the vertical axis. Make the points or lines that you plot red. Plots without axis labels will receive zero credit."
   ]
  },
  {
   "cell_type": "code",
   "execution_count": 23,
   "metadata": {
    "collapsed": true
   },
   "outputs": [
    {
     "data": {
      "text/plain": [
       "<matplotlib.legend.Legend at 0x12308c668>"
      ]
     },
     "execution_count": 23,
     "metadata": {},
     "output_type": "execute_result"
    },
    {
     "data": {
      "image/png": "[encoded data removed]",
      "text/plain": [
       "<Figure size 432x288 with 1 Axes>"
      ]
     },
     "metadata": {},
     "output_type": "display_data"
    }
   ],
   "source": [
    "# SOLUTION\n",
    "\n",
    "pvec = np.arange(0.1,1,0.1)\n",
    "priory = pvec/np.sum(pvec)\n",
    "likelihoody = np.zeros(len(pvec))\n",
    "for idx,p in enumerate(pvec):\n",
    "    likelihoody[idx] = p**hy * (1-p)**(ny-hy)\n",
    "postyy = likelihoody*priory/np.sum(likelihoody*priory)\n",
    "\n",
    "fig,ax = plt.subplots(1,1,figsize=(6,4))\n",
    "ax.plot(pvec,postyy,'ro-',label='die y')\n",
    "ax.set_xlabel('p_y',FontSize=16)\n",
    "ax.set_ylabel('Pr(p_y | data)',FontSize=16)\n",
    "ax.legend()"
   ]
  },
  {
   "cell_type": "markdown",
   "metadata": {},
   "source": [
    "**Part D:**\n",
    "\n",
    "The information that you have about the manufacturer of coin $x$ and coin $y$ is called _prior information_ since it can influence the estimates of a coin's bias at which you arrive, given the data from the coin's flipping. We often call the distribution $Pr(p_x)$ or $Pr(p_y)$ a _prior distribution_, and call $Pr(p_x \\mid \\text{data})$ or $Pr(p_y \\mid \\text{data})$ a _posterior distribution_, since it represents the estimate that you arrive at after you have taken the data into account. \n",
    "\n",
    "You have already computed posterior distributions for each coin's bias. However, you'll now investigate the importance of the prior by _switching the priors for the two coins_.\n",
    "\n",
    "In other words, using the prior probabilities $Pr(p_x)$, what is your posterior distribution of $Pr(p_y \\mid \\text{data from y})$? Similarly, using the prior probabilities $Pr(p_y)$, what is your posterior distribution of $Pr(p_x \\mid \\text{data from x})$? \n",
    "\n",
    "Create two plots. \n",
    "\n",
    "1. In the first plot, show your results from Part B (the posterior distribution for $p_x$ with the correct prior) plotted with a blue solid line as well as your results from Part D for the posterior distribution for $p_x$ with the incorrect prior with a blue dashed line.  \n",
    "\n",
    "2. In the second plot, show your results from Part C (the posterior distribution for $p_y$ with the correct prior) with a red solid line as well as your results from Part D for the posterior distribution for $p_y$ with the incorrect prior with a red dashed line.  "
   ]
  },
  {
   "cell_type": "code",
   "execution_count": 24,
   "metadata": {
    "collapsed": true
   },
   "outputs": [
    {
     "data": {
      "text/plain": [
       "<matplotlib.legend.Legend at 0x12319d5c0>"
      ]
     },
     "execution_count": 24,
     "metadata": {},
     "output_type": "execute_result"
    },
    {
     "data": {
      "image/png": "[encoded data removed]",
      "text/plain": [
       "<Figure size 864x288 with 2 Axes>"
      ]
     },
     "metadata": {},
     "output_type": "display_data"
    }
   ],
   "source": [
    "# SOLUTION\n",
    "\n",
    "postxy = likelihoodx*priory/np.sum(likelihoodx*priory)\n",
    "postyx = likelihoody*priorx/np.sum(likelihoody*priorx)\n",
    "\n",
    "fig,ax = plt.subplots(1,2,figsize=(12,4))\n",
    "ax[0].plot(pvec,postxx,'bo-',label='die x, prior x')\n",
    "ax[0].plot(pvec,postxy,'bx--',label='die x, prior y')\n",
    "ax[0].set_xlabel('p_x',FontSize=16)\n",
    "ax[0].set_ylabel('Pr(p_x | data)',FontSize=16)\n",
    "ax[0].legend()\n",
    "ax[1].plot(pvec,postyy,'ro-',label='die y, prior y')\n",
    "ax[1].plot(pvec,postyx,'rx--',label='die y, prior x')\n",
    "ax[1].set_xlabel('p_y',FontSize=16)\n",
    "ax[1].set_ylabel('Pr(p_y | data)',FontSize=16)\n",
    "ax[1].legend()"
   ]
  },
  {
   "cell_type": "markdown",
   "metadata": {},
   "source": [
    "**Part E:**\n",
    "\n",
    "What is the name of the distribution that Stella's experiment is drawn from?"
   ]
  },
  {
   "cell_type": "markdown",
   "metadata": {},
   "source": [
    "**Solution**. It's a negative binomial."
   ]
  },
  {
   "cell_type": "markdown",
   "metadata": {},
   "source": [
    "<br>\n",
    "\n",
    "---\n",
    "[Back to Problem 2](#p2)\n",
    "\n",
    "<a id='footnote'></a> Yeah yeah - fresh water versus salt water - I know, I know. But sharknadoes also are not real, so..."
   ]
  },
  {
   "cell_type": "code",
   "execution_count": null,
   "metadata": {
    "collapsed": true
   },
   "outputs": [],
   "source": []
  }
 ],
 "metadata": {
  "kernelspec": {
   "display_name": "Python 3",
   "language": "python",
   "name": "python3"
  },
  "language_info": {
   "codemirror_mode": {
    "name": "ipython",
    "version": 3
   },
   "file_extension": ".py",
   "mimetype": "text/x-python",
   "name": "python",
   "nbconvert_exporter": "python",
   "pygments_lexer": "ipython3",
   "version": "3.6.5"
  }
 },
 "nbformat": 4,
 "nbformat_minor": 2
}

{
 "cells": [
  {
   "cell_type": "markdown",
   "metadata": {},
   "source": [
    "<a id='top'></a>\n",
    "\n",
    "# CSCI 3022: Intro to Data Science - Fall 2018 Practicum \n",
    "***\n",
    "\n",
    "This practicum is due on Moodle by **11:55pm on Wednesday December 12**. Your solutions to theoretical questions should be done in Markdown/MathJax directly below the associated question.  Your solutions to computational questions should include any specified Python code and results as well as written commentary on your conclusions.  \n",
    "\n",
    "**Here are the rules:** \n",
    "\n",
    "1. All work, code and analysis, must be your own. \n",
    "1. You may use your course notes, posted lecture slides, textbooks, in-class notebooks, and homework solutions as resources.  You may also search online for answers to general knowledge questions like the form of a probability distribution function or how to perform a particular operation in Python/Pandas. \n",
    "1. This is meant to be like a coding portion of your final exam. So, the instructional team will be much less helpful than we typically are with homework. For example, we will not check answers, help debug your code, and so on.\n",
    "1. If something is left open-ended, it is because we want to see how you approach the kinds of problems you will encounter in the wild, where it will not always be clear what sort of tests/methods should be applied. Feel free to ask clarifying questions though.\n",
    "2. You may **NOT** post to message boards or other online resources asking for help.\n",
    "3. You may **NOT** copy-paste solutions *from anywhere*.\n",
    "4. You may **NOT** collaborate with classmates or anyone else.\n",
    "5. In short, **your work must be your own**. It really is that simple.\n",
    "\n",
    "Violation of the above rules will result in an immediate academic sanction (*at the very least*, you will receive a 0 on the practicum or an F in the course, depending on severity), and a trip to the Honor Code Council.\n",
    "\n",
    "**By submitting this assignment, you agree to abide by the rules given above.**\n",
    "\n",
    "***\n",
    "\n",
    "**Name**:  Frank Harvey\n",
    "\n",
    "***\n",
    "\n",
    "\n",
    "**NOTES**: \n",
    "\n",
    "- You may not use late days on the practicum nor can you drop your practicum grade. \n",
    "- If you have a question for us, post it as a **PRIVATE** message on Piazza.  If we decide that the question is appropriate for the entire class, then we will add it to a Practicum clarifications thread. \n",
    "- Do **NOT** load or use any Python packages that are not available in Anaconda 3.6. \n",
    "- Some problems with code may be autograded.  If we provide a function API **do not** change it.  If we do not provide a function API then you're free to structure your code however you like. \n",
    "- Submit only this Jupyter notebook to Moodle.  Do not compress it using tar, rar, zip, etc. \n",
    "- This should go without saying, but... For any question that asks you to calculate something, you **must show all work to receive credit**. Sparse or nonexistent work will receive sparse or nonexistent credit.\n",
    "\n",
    "---\n",
    "**Shortcuts:**  [Problem 1](#p1) | [Problem 2](#p2) | [Problem 3](#p3)\n",
    "\n",
    "---"
   ]
  },
  {
   "cell_type": "code",
   "execution_count": 396,
   "metadata": {
    "scrolled": true
   },
   "outputs": [],
   "source": [
    "from scipy import stats\n",
    "import numpy as np \n",
    "import statsmodels.api as sm\n",
    "import pandas as pd\n",
    "import matplotlib.pyplot as plt\n",
    "%matplotlib inline"
   ]
  },
  {
   "cell_type": "markdown",
   "metadata": {},
   "source": [
    "<br>\n",
    "\n",
    "---\n",
    "[Back to top](#top)\n",
    "<a id='p1'></a>\n",
    "\n",
    "### [35 points] Problem 1: Yahtzee!"
   ]
  },
  {
   "cell_type": "markdown",
   "metadata": {},
   "source": [
    "**Part A:** You are playing [Yahtzee](https://en.wikipedia.org/wiki/Yahtzee) with your friends. A player's turn in Yahtzee consists of rolling a set of 5 dice. Then the player is given two additional rolls, where they are allowed to re-roll any number of the dice, including potentially all of them or none of them. The goal is to obtain certain combinations of the dice values resulting after the third roll. Different combinations are worth different amounts of points, and the goal of the game is to get as many points as possible.\n",
    "\n",
    "This game of Yahtzee is a bit unlike any you have ever played before, however. This is because Darth Ketelsen is back, and with her she brought her famous **5-sided dice**. These are fair dice with sides numbered 1-5. So, you are playing Yahtzee with a Sith Lord with 5-sided dice. Indeed, things just got real.\n",
    "\n",
    "A **straight** in Darth Ketelsen's game consists of 5 values all in a row. For example, the outcome $[1,2,3,4,5]$ is a  straight but the outcome $[1,2,3,4,4]$ is not.\n",
    "\n",
    "**Do two things:**\n",
    "1. Compute by hand the probability of rolling a straight in a single roll of all 5 dice. Show all work.\n",
    "2. Write a simulation to verify the probability that you computed. Run at least 10,000 simulations. "
   ]
  },
  {
   "cell_type": "markdown",
   "metadata": {},
   "source": [
    "#### Answer\n",
    "This probability is pretty straightforward to compute. Let's go one dice at a time:\n",
    "\n",
    "1. This dice can be anything! 5/5 chance of being right!\n",
    "2. This dice can be anything other than the value of the first dice, 4/5 chance\n",
    "3. This dice can be anything other than the value of the first two dice, so a 3/5 chance\n",
    "4. I think you get it, 2/5 chance\n",
    "5. Are you still following? 1/5 chance\n",
    "\n",
    "$$p = \\frac{5}{5}*\\frac{4}{5}*\\frac{3}{5}*\\frac{2}{5}*\\frac{1}{5} = \\frac{5!}{5^5}$$\n",
    "$$p = 0.0384$$"
   ]
  },
  {
   "cell_type": "code",
   "execution_count": 397,
   "metadata": {},
   "outputs": [
    {
     "data": {
      "text/plain": [
       "0.0397"
      ]
     },
     "execution_count": 397,
     "metadata": {},
     "output_type": "execute_result"
    }
   ],
   "source": [
    "def straight_sim(ntrial=10000):\n",
    "    dice = [1,2,3,4,5]\n",
    "    trials = np.random.choice(dice, size=[ntrial,5])\n",
    "    count = 0\n",
    "    for i in trials:\n",
    "        if 1 in i and 2 in i and 3 in i and 4 in i and 5 in i:\n",
    "            count+=1\n",
    "    return count/ntrial\n",
    "\n",
    "straight_sim()"
   ]
  },
  {
   "cell_type": "markdown",
   "metadata": {},
   "source": [
    "**Part B:** The goal of this problem is to compute the probability of getting a straight using all three of your rolls, instead of just the single roll approach that you computed in Part A. Here, we'll need to implement a strategy so that after the first roll and after the second roll, we keep the dice that get us closer to a straight and re-roll the dice that are not useful for our straight.\n",
    "\n",
    "For instance, suppose your first roll comes up $[1,2,3,3,3]$. You really want to get that straight! So, you would follow the strategy of saving the $[1,2,3]$ and re-roll two of the threes, hoping for a 4 and 5 to get the straight. Then, for your third roll, you would save as many of the dice as possible that would be part of a straight, and re-roll any remaining dice.\n",
    "\n",
    "Finish the function below called `dire_straights` to simulate many complete 3-roll turns, and computes the probability of ending your turn with a straight. The only input to the function should be `ntrial`, an integer for the number of turns to simulate. Remember, each turn consists of 3 rolls.\n",
    "\n",
    "Then, use your function to estimate the probability of a straight after a full turn of Yahtzee. Use at least 10,000 simulations, and comment on the results."
   ]
  },
  {
   "cell_type": "code",
   "execution_count": 398,
   "metadata": {},
   "outputs": [
    {
     "name": "stdout",
     "output_type": "stream",
     "text": [
      "0.3029\n"
     ]
    }
   ],
   "source": [
    "def check_straight(hand):\n",
    "    if len(list(set(hand))) == 5:\n",
    "        return True\n",
    "    return False\n",
    "\n",
    "def dire_straights(ntrial=10000, debug=False):\n",
    "    dice = [1,2,3,4,5]\n",
    "    trials = np.random.choice(dice, size=[ntrial,5])\n",
    "    count = 0\n",
    "    for i in trials:\n",
    "        # roll 1\n",
    "        if debug:\n",
    "            print (\"First Draw: \",i)\n",
    "        \n",
    "        i = list(set(i))\n",
    "        if debug:\n",
    "            print(\"First Filter: \",i)\n",
    "        \n",
    "        # roll 2\n",
    "        for j in range(0,5-len(i)):\n",
    "            i.append(np.random.choice(dice))\n",
    "        if debug:\n",
    "            print(\"Second Draw: \",i)\n",
    "        i = list(set(i))\n",
    "        if debug:\n",
    "            print(\"Second Filter: \",i)\n",
    "        \n",
    "        # roll 3\n",
    "        for j in range(0,5-len(i)):\n",
    "            i.append(np.random.choice(dice))\n",
    "        if debug:\n",
    "            print(\"Third Draw: \",i)\n",
    "        i = list(set(i))\n",
    "        if debug:\n",
    "            print(\"Third Filter: \",i)\n",
    "        if check_straight(i):\n",
    "            if debug:\n",
    "                print(\"***** ***** STRAIGHT ***** *****\")\n",
    "            count+=1\n",
    "    return count/ntrial\n",
    "\n",
    "print(dire_straights())"
   ]
  },
  {
   "cell_type": "markdown",
   "metadata": {
    "collapsed": true
   },
   "source": [
    "#### Answer\n",
    "I'm getting about a 30% success rate. This feels pretty good to me. It seems to me that its pretty common to have at least 3 unique numbers in the first draw, and not uncommon to have four unique numbers by the second draw (a 50% given that three numbers were unique in the first draw), but then we have a 1 in 5 chance of getting the correct final number in this case. And thats only one case. I hardly saw any straights in the first draw, although I saw several straights by the second draw."
   ]
  },
  {
   "cell_type": "markdown",
   "metadata": {},
   "source": [
    "**Part C:** Write a simulation to estimate the probability of obtaining a straight if the first roll contains exactly three distinct unique values. For example, a valid first roll could be $[1,5,3,3,3]$ but not $[1,3,3,4,5]$. You are still using the set of 5-sided dice."
   ]
  },
  {
   "cell_type": "code",
   "execution_count": 399,
   "metadata": {},
   "outputs": [
    {
     "name": "stdout",
     "output_type": "stream",
     "text": [
      "0.3144175188972877\n"
     ]
    }
   ],
   "source": [
    "def check_unique_3(hand):\n",
    "    if len(list(set(hand))) >= 3:\n",
    "        return True\n",
    "    return False\n",
    "\n",
    "def dire_straights_unique_3(ntrial=20000, debug=False):\n",
    "    dice = [1,2,3,4,5]\n",
    "    goodTrials = ntrial\n",
    "    trials = np.random.choice(dice, size=[ntrial,5])\n",
    "    count = 0\n",
    "    for i in trials:\n",
    "        # roll 1\n",
    "        i = list(set(i))\n",
    "        if check_unique_3(i):\n",
    "            # roll 2\n",
    "            for j in range(0,5-len(i)):\n",
    "                i.append(np.random.choice(dice))\n",
    "            i = list(set(i))\n",
    "\n",
    "            # roll 3\n",
    "            for j in range(0,5-len(i)):\n",
    "                i.append(np.random.choice(dice))\n",
    "            i = list(set(i))\n",
    "\n",
    "            if check_straight(i):\n",
    "                count+=1\n",
    "        else:\n",
    "            goodTrials -= 1\n",
    "    return count/goodTrials\n",
    "\n",
    "print(dire_straights_unique_3())"
   ]
  },
  {
   "cell_type": "markdown",
   "metadata": {},
   "source": [
    "**Part D:** Verify your calculation from Part C by hand. Show all work, and comment on whether the two agree.\n",
    "\n",
    "*Hint: you will need to consider a variety of different cases - what are all the ways you could end up with a straight, given that your first roll contained exactly 3 unique values?*"
   ]
  },
  {
   "cell_type": "markdown",
   "metadata": {},
   "source": [
    "#### Answer\n",
    "I found it easier to work down like this:\n",
    "* P(straight after 3 moves | 5 unique in first hand) = $1$\n",
    "* P(straight after 3 moves | 4 unique in first hand) = $1-(\\frac{4}{5})^2$ = .36\n",
    "    * this is because we we have 4 unique dice, and then we just need that last 5 sided dice, and we have 2 chances to get it\n",
    "    * this can be said as \"1 - the probability of *not* getting the unique value we need\"\n",
    "* P(straight after 3 moves | 3 unique in first hand)\n",
    "    * this is harder to compute as there are two unique values we need. We can get them in a couple ways\n",
    "        * both in the second roll: $\\frac{2}{25}$\n",
    "        * both in the third roll: $\\frac{9}{25}*\\frac{2}{25} = \\frac{18}{625}$\n",
    "            * prob that you did *not* get at least one value in roll 2: $\\frac{9}{25}$\n",
    "            * prob that you did get both uniques in last roll: $\\frac{2}{25}$\n",
    "        * one in the second roll, one in the third: $\\frac{2}{5}*2*\\frac{1}{5} = \\frac{4}{25}$\n",
    "            * basically *either* of the two dice can roll one of the unique values ($\\frac{2}{5}*2$) and then one dice must roll the remaining unique value ($\\frac{1}{5}$)\n",
    "    * we can then sum all these up: $\\frac{2}{25} + \\frac{18}{625} + \\frac{4}{25} = .2688$\n",
    "    \n",
    "I will also note that these odds are much lower than checking if we have *at least* 3 unique values instead of *exactly* 3 unique values. This is because we discard first-draw straights and getting 4 unique cards on the first draw. Changing my model to the *at least 3 unique in first draw* brings about a 31% success rate."
   ]
  },
  {
   "cell_type": "markdown",
   "metadata": {},
   "source": [
    "**Part E:**  Your friend offers you the following deal. Each time your Yahtzee turn (i.e., all three rolls) results in a 5-of-a-kind, she will give you \\$5. Each time your Yahtzee turn results in a straight, she will give you \\$3. But, she will charge you \\$1 for each turn (where a turn includes all 3 rolls of the five 5-sided dice). Should you take this deal? Fully justify your answer using calculations that include expected values. You may include some simulations to estimate relevant probabilities. Clearly state any assumptions you are making in your modeling choices."
   ]
  },
  {
   "cell_type": "markdown",
   "metadata": {},
   "source": [
    "#### Answer\n",
    "Basically I'll run my game by checking if there are 3 repeated values in the first hand. Otherwise I will just go for a straight. This is because a Yahtzee is pretty unlikely compared to a straight: $\\frac{5}{5^5} = .0016$ for a Yahtzee vs. $\\approx30\\%$ for a straight (as modelled in Part B). In most of my simulations I get between -\\$800 and -\\$300. Interestingly, if I increase the winnings of a Yahtzee to just \\$10 I get winnings of between \\$1500 and \\$2000.\n",
    "\n",
    "Then I switched to just averaging the winnings from every hand, which gave me an expected value of -\\$.05. So If I then play 10000 games, I can expect -\\$500."
   ]
  },
  {
   "cell_type": "code",
   "execution_count": 401,
   "metadata": {},
   "outputs": [
    {
     "name": "stdout",
     "output_type": "stream",
     "text": [
      "Single Game Expected Value:  -0.0584\n",
      "Earnings after 10,000 hands:  -486\n"
     ]
    }
   ],
   "source": [
    "def filterListRepeat(hand, repeatVal):\n",
    "    return [x for x in hand if x == repeatVal]\n",
    "\n",
    "def check_straight(hand):\n",
    "    if len(list(set(hand))) == 5:\n",
    "        return True\n",
    "    return False\n",
    "\n",
    "def check_yahtzee(hand):\n",
    "    if len(hand) == 5:\n",
    "        if len(list(set(hand))) == 1:\n",
    "            return True\n",
    "    return False\n",
    "\n",
    "def gameWithMoney(ntrial=10000, debug=False):\n",
    "    dice = [1,2,3,4,5]\n",
    "    trials = np.random.choice(dice, size=[ntrial,5])\n",
    "    money = 0\n",
    "    for i in trials:\n",
    "        money -= 1\n",
    "        if debug:\n",
    "            print(i)\n",
    "        \n",
    "        # ROLL 1\n",
    "        iCheck = list(set(i))\n",
    "        repeat3 = False\n",
    "        repeatedVal=0\n",
    "        seekStraight = False\n",
    "        for j in iCheck:\n",
    "            if list(i).count(j) >= 3:\n",
    "                repeat3=True\n",
    "                repeatedVal = j\n",
    "        \n",
    "        if repeat3:\n",
    "            i = filterListRepeat(i,repeatedVal)\n",
    "            for j in range(0,5-len(i)):\n",
    "                i.append(np.random.choice(dice))\n",
    "            i = filterListRepeat(i,repeatedVal)\n",
    "            if debug:\n",
    "                print(i)\n",
    "            for j in range(0,5-len(i)):\n",
    "                i.append(np.random.choice(dice))\n",
    "            if debug:\n",
    "                print(i)\n",
    "            if check_yahtzee(i):\n",
    "                money+=5\n",
    "        else:\n",
    "            i = list(set(i))\n",
    "            for j in range(0,5-len(i)):\n",
    "                i.append(np.random.choice(dice))\n",
    "            if debug:\n",
    "                print(i)\n",
    "            i = list(set(i))\n",
    "            for j in range(0,5-len(i)):\n",
    "                i.append(np.random.choice(dice))\n",
    "            if debug:\n",
    "                print(i)\n",
    "            i = list(set(i))\n",
    "            if check_straight(i):\n",
    "                money += 3\n",
    "    return money\n",
    "\n",
    "sum = 0\n",
    "for i in range(10000):\n",
    "    sum += gameWithMoney(ntrial=1)\n",
    "print(\"Single Game Expected Value: \",sum/10000)\n",
    "print(\"Earnings after 10,000 hands: \",gameWithMoney(ntrial=10000))"
   ]
  },
  {
   "cell_type": "markdown",
   "metadata": {},
   "source": [
    "<br>\n",
    "\n",
    "---\n",
    "[Back to top](#top)\n",
    "<a id='p2'></a>\n",
    "\n",
    "### [30 points] Problem 2: Sharknado Prediction"
   ]
  },
  {
   "cell_type": "markdown",
   "metadata": {},
   "source": [
    "Governor Hickenlooper has charged you with the task of assessing the factors associated with sharknado risk in Colorado. As everyone knows, sharknadoes are a leading cause of sharknado-related illness, and you are a world-renowned data/shark scientist.\n",
    "\n",
    "You decide to use multiple linear regression to understand and predict what factors lead to increased sharknado hazard. Your lead scientist, aptly named Fin, has collected lots of relevant data at a local sharknado hotspot, the Boulder Reservoir[\\*](#footnote). The data cover a variety of sharknado-related environmental and other conditions, and you'll find this data in the file `sharknadoes.csv`. \n",
    "\n",
    "**Response**: \n",
    "\n",
    "- $\\texttt{sharknado hazard}$: the hazard of a sharknado, where 1 is very unlikely and 100 is highly likely\n",
    "\n",
    "**Features**: \n",
    "\n",
    "- $\\texttt{taunts}$: the number of times over the past year that someone has taunted a shark\n",
    "- $\\texttt{clouds}$: what percentage of the sky was covered by clouds (fraction, 0-1)\n",
    "- $\\texttt{precipitation}$: amount of precipitation in the past 72 hours (inches)\n",
    "- $\\texttt{earthquake}$: the intensity of the most recent earthquake measured in the continental United States\n",
    "- $\\texttt{shark attacks}$: the number of shark attacks within 72 hours prior to the observation\n",
    "- $\\texttt{ice cream sold}$: the number of units of ice cream sold at the beach concession stand \n",
    "- $\\texttt{misery index}$: an economic indicator for how miserable the average United States citizen is, based on the unemployment rate and the inflation rate. More [here](https://www.stuffyoushouldknow.com/podcasts/whats-the-misery-index.htm) and [here](https://en.wikipedia.org/wiki/Misery_index_(economics)). Higher values correspond to more miserable citizens.\n",
    "- $\\texttt{temperature}$: the outside temperature, measured in degrees Fahrenheit\n",
    "- $\\texttt{humidity}$: relative humidity (percent, 0-100)\n",
    "- $\\texttt{pizzas sold}$: the number of pizzas sold at the beach concession stand in the past year\n",
    "- $\\texttt{pressure}$: local air pressure (millibar) \n",
    "- $\\texttt{octopuses}$: the number of octupuses in the vicinity on the day of the observation\n",
    "- $\\texttt{Dan's shoe size}$: the size of the shoes Dan was wearing when the observation was made\n",
    "- $\\texttt{Tony's shoe size}$: the size of the shoes Tony was wearing when the observation was made"
   ]
  },
  {
   "cell_type": "markdown",
   "metadata": {},
   "source": [
    "**Part A**: Read the data from `sharknadoes.csv` into a Pandas DataFrame.  Note that since we will be doing a multiple linear regression we will need all of the features, so you should drop any row in the DataFrame that is missing data. "
   ]
  },
  {
   "cell_type": "code",
   "execution_count": 402,
   "metadata": {},
   "outputs": [
    {
     "data": {
      "text/html": [
       "<div>\n",
       "<style>\n",
       "    .dataframe thead tr:only-child th {\n",
       "        text-align: right;\n",
       "    }\n",
       "\n",
       "    .dataframe thead th {\n",
       "        text-align: left;\n",
       "    }\n",
       "\n",
       "    .dataframe tbody tr th {\n",
       "        vertical-align: top;\n",
       "    }\n",
       "</style>\n",
       "<table border=\"1\" class=\"dataframe\">\n",
       "  <thead>\n",
       "    <tr style=\"text-align: right;\">\n",
       "      <th></th>\n",
       "      <th>clouds</th>\n",
       "      <th>earthquake</th>\n",
       "      <th>pizzas sold</th>\n",
       "      <th>taunts</th>\n",
       "      <th>pressure</th>\n",
       "      <th>shark attacks</th>\n",
       "      <th>octopuses</th>\n",
       "      <th>precipitation</th>\n",
       "      <th>misery index</th>\n",
       "      <th>ice cream sold</th>\n",
       "      <th>humidity</th>\n",
       "      <th>temperature</th>\n",
       "      <th>Dans shoe size</th>\n",
       "      <th>Tonys shoe size</th>\n",
       "      <th>sharknado hazard</th>\n",
       "    </tr>\n",
       "  </thead>\n",
       "  <tbody>\n",
       "    <tr>\n",
       "      <th>0</th>\n",
       "      <td>1.00</td>\n",
       "      <td>7.1</td>\n",
       "      <td>5560.0</td>\n",
       "      <td>15.0</td>\n",
       "      <td>847.12</td>\n",
       "      <td>2.0</td>\n",
       "      <td>7.0</td>\n",
       "      <td>0.824059</td>\n",
       "      <td>12.987180</td>\n",
       "      <td>273.0</td>\n",
       "      <td>86.41</td>\n",
       "      <td>78.0</td>\n",
       "      <td>42.0</td>\n",
       "      <td>9.0</td>\n",
       "      <td>40.22</td>\n",
       "    </tr>\n",
       "    <tr>\n",
       "      <th>1</th>\n",
       "      <td>1.00</td>\n",
       "      <td>7.4</td>\n",
       "      <td>5179.0</td>\n",
       "      <td>20.0</td>\n",
       "      <td>844.34</td>\n",
       "      <td>4.0</td>\n",
       "      <td>5.0</td>\n",
       "      <td>0.993296</td>\n",
       "      <td>16.765435</td>\n",
       "      <td>184.0</td>\n",
       "      <td>96.67</td>\n",
       "      <td>89.0</td>\n",
       "      <td>42.0</td>\n",
       "      <td>9.5</td>\n",
       "      <td>36.42</td>\n",
       "    </tr>\n",
       "    <tr>\n",
       "      <th>2</th>\n",
       "      <td>1.00</td>\n",
       "      <td>7.0</td>\n",
       "      <td>5227.0</td>\n",
       "      <td>0.0</td>\n",
       "      <td>839.48</td>\n",
       "      <td>9.0</td>\n",
       "      <td>2.0</td>\n",
       "      <td>1.173342</td>\n",
       "      <td>16.494518</td>\n",
       "      <td>141.0</td>\n",
       "      <td>53.85</td>\n",
       "      <td>65.0</td>\n",
       "      <td>9.5</td>\n",
       "      <td>9.0</td>\n",
       "      <td>19.54</td>\n",
       "    </tr>\n",
       "    <tr>\n",
       "      <th>3</th>\n",
       "      <td>0.13</td>\n",
       "      <td>7.9</td>\n",
       "      <td>5226.0</td>\n",
       "      <td>34.0</td>\n",
       "      <td>851.28</td>\n",
       "      <td>2.0</td>\n",
       "      <td>6.0</td>\n",
       "      <td>0.919291</td>\n",
       "      <td>8.277176</td>\n",
       "      <td>146.0</td>\n",
       "      <td>88.72</td>\n",
       "      <td>36.0</td>\n",
       "      <td>9.5</td>\n",
       "      <td>10.0</td>\n",
       "      <td>85.00</td>\n",
       "    </tr>\n",
       "    <tr>\n",
       "      <th>4</th>\n",
       "      <td>1.00</td>\n",
       "      <td>7.5</td>\n",
       "      <td>5491.0</td>\n",
       "      <td>6.0</td>\n",
       "      <td>852.67</td>\n",
       "      <td>2.0</td>\n",
       "      <td>4.0</td>\n",
       "      <td>1.729127</td>\n",
       "      <td>5.904750</td>\n",
       "      <td>178.0</td>\n",
       "      <td>63.08</td>\n",
       "      <td>72.0</td>\n",
       "      <td>42.0</td>\n",
       "      <td>9.0</td>\n",
       "      <td>56.34</td>\n",
       "    </tr>\n",
       "  </tbody>\n",
       "</table>\n",
       "</div>"
      ],
      "text/plain": [
       "   clouds  earthquake  pizzas sold  taunts  pressure  shark attacks  \\\n",
       "0    1.00         7.1       5560.0    15.0    847.12            2.0   \n",
       "1    1.00         7.4       5179.0    20.0    844.34            4.0   \n",
       "2    1.00         7.0       5227.0     0.0    839.48            9.0   \n",
       "3    0.13         7.9       5226.0    34.0    851.28            2.0   \n",
       "4    1.00         7.5       5491.0     6.0    852.67            2.0   \n",
       "\n",
       "   octopuses  precipitation  misery index  ice cream sold  humidity  \\\n",
       "0        7.0       0.824059     12.987180           273.0     86.41   \n",
       "1        5.0       0.993296     16.765435           184.0     96.67   \n",
       "2        2.0       1.173342     16.494518           141.0     53.85   \n",
       "3        6.0       0.919291      8.277176           146.0     88.72   \n",
       "4        4.0       1.729127      5.904750           178.0     63.08   \n",
       "\n",
       "   temperature  Dans shoe size  Tonys shoe size  sharknado hazard  \n",
       "0         78.0            42.0              9.0             40.22  \n",
       "1         89.0            42.0              9.5             36.42  \n",
       "2         65.0             9.5              9.0             19.54  \n",
       "3         36.0             9.5             10.0             85.00  \n",
       "4         72.0            42.0              9.0             56.34  "
      ]
     },
     "execution_count": 402,
     "metadata": {},
     "output_type": "execute_result"
    }
   ],
   "source": [
    "dfShark = pd.read_csv('data/sharknadoes.csv').dropna()\n",
    "dfShark.head()"
   ]
  },
  {
   "cell_type": "markdown",
   "metadata": {},
   "source": [
    "**Part B**: Perform the appropriate statistical test at the $\\alpha = 0.01$ significance level to determine if _at least one_ of the features is related to the the response $y$.  Clearly describe your methodology and show all computations in Python. "
   ]
  },
  {
   "cell_type": "markdown",
   "metadata": {},
   "source": [
    "#### Answer\n",
    "By looking at the OLS model summary, I initially saw that `earthquake`, `taunts`, `pressure`, `temperature` got values of 0.000 in their `P>|t|` columns. Of course we saw in notebook23 that this can easily be misled by PMC due to the number of features, but I noted them anyways. I also noted that `earthquake`, `taunts`, `pressure`, and `temperature` all had 95% confidence intervals that did not include 0. However when I ran `dfShark.corr()[\"sharknado hazard\"]` to see the correlation each feature had with the response I saw that when `clouds`, `earthquake`, `pressure`, and `temperature` had the highest levels of correlation (when taking the absolute value). Again, I made note of these.\n",
    "\n",
    "When loading all the features into a model we get a F-statistic of 179.4 and a P(F-statistic) of 9.60e-42 (which is far less than our alpha value. This tells me that at least one of the features is very important, and that we `can` reject the Null Hypothesis that the features are not predictors.\n",
    "\n",
    "I then tried our model with only the features that produced high correlation values (again after taking the absolute value). This produced an F-statistic of 316.5 and a P(F-statistic) of 1.02e-42. This seemed very promising. I did however notice that `clouds` had a `P>|t|` of 0.223 in this scenario. Loading one at a time I got:\n",
    "* `clouds`\n",
    "    * F-Statistic: 7.279\n",
    "    * P(F-statistic): 0.00874\n",
    "    * P(F-statistic)$<\\alpha$: True\n",
    "    * `P>|t|`: 0.009\n",
    "* `earthquake`\n",
    "    * F-Statistic: 9.850\n",
    "    * P(F-statistic): 0.00249\n",
    "    * P(F-statistic)$<\\alpha$: True\n",
    "    * `P>|t|`: 0.002\n",
    "* `pressure`\n",
    "    * F-Statistic: 235.2\n",
    "    * P(F-statistic): 4.48e-24\n",
    "    * P(F-statistic)$<\\alpha$: True\n",
    "    * `P>|t|`: 0.000\n",
    "* `temperature`\n",
    "    * F-Statistic: 7.238\n",
    "    * P(F-statistic): 0.00892\n",
    "    * P(F-statistic)$<\\alpha$: True\n",
    "    * `P>|t|`: 0.009\n",
    "\n",
    "So all of these features seem to be significant at the 0.01 level when loaded seperately, and we can see that `pressure` is far and away the most significant, but `clouds` is not significant when loaded alongside the three other features. I did load `taunts` as it did seem significant when all the features were loaded, but not as significant on its own or when I used the reduced set of features so I left it out."
   ]
  },
  {
   "cell_type": "code",
   "execution_count": 403,
   "metadata": {},
   "outputs": [
    {
     "data": {
      "text/html": [
       "<table class=\"simpletable\">\n",
       "<caption>OLS Regression Results</caption>\n",
       "<tr>\n",
       "  <th>Dep. Variable:</th>    <td>sharknado hazard</td> <th>  R-squared:         </th> <td>   0.950</td>\n",
       "</tr>\n",
       "<tr>\n",
       "  <th>Model:</th>                   <td>OLS</td>       <th>  Adj. R-squared:    </th> <td>   0.947</td>\n",
       "</tr>\n",
       "<tr>\n",
       "  <th>Method:</th>             <td>Least Squares</td>  <th>  F-statistic:       </th> <td>   316.5</td>\n",
       "</tr>\n",
       "<tr>\n",
       "  <th>Date:</th>             <td>Sun, 09 Dec 2018</td> <th>  Prob (F-statistic):</th> <td>1.02e-42</td>\n",
       "</tr>\n",
       "<tr>\n",
       "  <th>Time:</th>                 <td>22:47:24</td>     <th>  Log-Likelihood:    </th> <td> -203.65</td>\n",
       "</tr>\n",
       "<tr>\n",
       "  <th>No. Observations:</th>      <td>    72</td>      <th>  AIC:               </th> <td>   417.3</td>\n",
       "</tr>\n",
       "<tr>\n",
       "  <th>Df Residuals:</th>          <td>    67</td>      <th>  BIC:               </th> <td>   428.7</td>\n",
       "</tr>\n",
       "<tr>\n",
       "  <th>Df Model:</th>              <td>     4</td>      <th>                     </th>     <td> </td>   \n",
       "</tr>\n",
       "<tr>\n",
       "  <th>Covariance Type:</th>      <td>nonrobust</td>    <th>                     </th>     <td> </td>   \n",
       "</tr>\n",
       "</table>\n",
       "<table class=\"simpletable\">\n",
       "<tr>\n",
       "       <td></td>          <th>coef</th>     <th>std err</th>      <th>t</th>      <th>P>|t|</th>  <th>[0.025</th>    <th>0.975]</th>  \n",
       "</tr>\n",
       "<tr>\n",
       "  <th>const</th>       <td>-2543.2246</td> <td>   83.226</td> <td>  -30.558</td> <td> 0.000</td> <td>-2709.344</td> <td>-2377.105</td>\n",
       "</tr>\n",
       "<tr>\n",
       "  <th>clouds</th>      <td>   -4.2823</td> <td>    3.483</td> <td>   -1.230</td> <td> 0.223</td> <td>  -11.234</td> <td>    2.669</td>\n",
       "</tr>\n",
       "<tr>\n",
       "  <th>earthquake</th>  <td>    2.8525</td> <td>    0.585</td> <td>    4.877</td> <td> 0.000</td> <td>    1.685</td> <td>    4.020</td>\n",
       "</tr>\n",
       "<tr>\n",
       "  <th>pressure</th>    <td>    3.0693</td> <td>    0.099</td> <td>   30.914</td> <td> 0.000</td> <td>    2.871</td> <td>    3.268</td>\n",
       "</tr>\n",
       "<tr>\n",
       "  <th>temperature</th> <td>   -0.3775</td> <td>    0.065</td> <td>   -5.814</td> <td> 0.000</td> <td>   -0.507</td> <td>   -0.248</td>\n",
       "</tr>\n",
       "</table>\n",
       "<table class=\"simpletable\">\n",
       "<tr>\n",
       "  <th>Omnibus:</th>       <td> 1.151</td> <th>  Durbin-Watson:     </th> <td>   2.293</td>\n",
       "</tr>\n",
       "<tr>\n",
       "  <th>Prob(Omnibus):</th> <td> 0.563</td> <th>  Jarque-Bera (JB):  </th> <td>   0.996</td>\n",
       "</tr>\n",
       "<tr>\n",
       "  <th>Skew:</th>          <td>-0.034</td> <th>  Prob(JB):          </th> <td>   0.608</td>\n",
       "</tr>\n",
       "<tr>\n",
       "  <th>Kurtosis:</th>      <td> 2.428</td> <th>  Cond. No.          </th> <td>1.42e+05</td>\n",
       "</tr>\n",
       "</table>"
      ],
      "text/plain": [
       "<class 'statsmodels.iolib.summary.Summary'>\n",
       "\"\"\"\n",
       "                            OLS Regression Results                            \n",
       "==============================================================================\n",
       "Dep. Variable:       sharknado hazard   R-squared:                       0.950\n",
       "Model:                            OLS   Adj. R-squared:                  0.947\n",
       "Method:                 Least Squares   F-statistic:                     316.5\n",
       "Date:                Sun, 09 Dec 2018   Prob (F-statistic):           1.02e-42\n",
       "Time:                        22:47:24   Log-Likelihood:                -203.65\n",
       "No. Observations:                  72   AIC:                             417.3\n",
       "Df Residuals:                      67   BIC:                             428.7\n",
       "Df Model:                           4                                         \n",
       "Covariance Type:            nonrobust                                         \n",
       "===============================================================================\n",
       "                  coef    std err          t      P>|t|      [0.025      0.975]\n",
       "-------------------------------------------------------------------------------\n",
       "const       -2543.2246     83.226    -30.558      0.000   -2709.344   -2377.105\n",
       "clouds         -4.2823      3.483     -1.230      0.223     -11.234       2.669\n",
       "earthquake      2.8525      0.585      4.877      0.000       1.685       4.020\n",
       "pressure        3.0693      0.099     30.914      0.000       2.871       3.268\n",
       "temperature    -0.3775      0.065     -5.814      0.000      -0.507      -0.248\n",
       "==============================================================================\n",
       "Omnibus:                        1.151   Durbin-Watson:                   2.293\n",
       "Prob(Omnibus):                  0.563   Jarque-Bera (JB):                0.996\n",
       "Skew:                          -0.034   Prob(JB):                        0.608\n",
       "Kurtosis:                       2.428   Cond. No.                     1.42e+05\n",
       "==============================================================================\n",
       "\n",
       "Warnings:\n",
       "[1] Standard Errors assume that the covariance matrix of the errors is correctly specified.\n",
       "[2] The condition number is large, 1.42e+05. This might indicate that there are\n",
       "strong multicollinearity or other numerical problems.\n",
       "\"\"\""
      ]
     },
     "execution_count": 403,
     "metadata": {},
     "output_type": "execute_result"
    }
   ],
   "source": [
    "# print(dfShark.corr()[\"sharknado hazard\"])\n",
    "\n",
    "# Extract response vector y and feature matrix X from DataFrame\n",
    "y, X = dfShark[\"sharknado hazard\"], dfShark.iloc[0:,[0,1,4,11]]\n",
    "yTotal, XTotal = dfShark[\"sharknado hazard\"], dfShark.iloc[0:,0:-1]\n",
    "\n",
    "# Add constant to X \n",
    "X = sm.add_constant(X)\n",
    "XTotal = sm.add_constant(XTotal)\n",
    "\n",
    "# Fit OLS model \n",
    "model = sm.OLS(y, X).fit() \n",
    "modelTotal = sm.OLS(yTotal, XTotal).fit() \n",
    "\n",
    "# Print model summary \n",
    "model.summary()"
   ]
  },
  {
   "cell_type": "markdown",
   "metadata": {},
   "source": [
    "**Part C**: Write a function `backward_select(df, resp_str, maxsse)` that takes in the DataFrame (`df`), the name of the column corresponding to the response (`resp_str`), and the maximum desired sum of squared errors (`maxsse`), and returns a list of feature names corresponding to the most important features via backward selection.  Use your code to determine the reduced MLR model with the minimal number of features such that the SSE of the reduced model is less than 570. At each stage in backward selection you should remove the feature that has the highest p-value associated with the hypothesis test for the given slope coefficient $\\beta_k \\neq 0$.\n",
    "\n",
    "Your code should clearly indicate which feature was removed in each stage, and the SSE associated with the model fit before the feature's removal. _Specifically, please write your code to print the name of the feature that is going to be removed and the SSE before its removal_. Afterward, be sure to report all of the retained features and the SSE of the reduced model.\n",
    "\n",
    "**Note**: The point of this exercise is to see if you can implement **backward_select** yourself.  You may of course use canned routines like statmodels OLS, but you may not call any Python method that explicitly performs backward selection."
   ]
  },
  {
   "cell_type": "code",
   "execution_count": 404,
   "metadata": {},
   "outputs": [
    {
     "name": "stdout",
     "output_type": "stream",
     "text": [
      "SSE:  532.94367074\n",
      "Feature Drop:  Tonys shoe size\n",
      "Remaining Features:  ['clouds', 'earthquake', 'pizzas sold', 'taunts', 'pressure', 'shark attacks', 'octopuses', 'precipitation', 'misery index', 'ice cream sold', 'humidity', 'temperature', 'Dans shoe size']\n",
      "-------------------------------------------------------------------------------------------------------------\n",
      "\n",
      "SSE:  533.400341056\n",
      "Feature Drop:  misery index\n",
      "Remaining Features:  ['clouds', 'earthquake', 'pizzas sold', 'taunts', 'pressure', 'shark attacks', 'octopuses', 'precipitation', 'ice cream sold', 'humidity', 'temperature', 'Dans shoe size']\n",
      "-------------------------------------------------------------------------------------------------------------\n",
      "\n",
      "SSE:  534.687569895\n",
      "Feature Drop:  octopuses\n",
      "Remaining Features:  ['clouds', 'earthquake', 'pizzas sold', 'taunts', 'pressure', 'shark attacks', 'precipitation', 'ice cream sold', 'humidity', 'temperature', 'Dans shoe size']\n",
      "-------------------------------------------------------------------------------------------------------------\n",
      "\n",
      "SSE:  536.506991126\n",
      "Feature Drop:  clouds\n",
      "Remaining Features:  ['earthquake', 'pizzas sold', 'taunts', 'pressure', 'shark attacks', 'precipitation', 'ice cream sold', 'humidity', 'temperature', 'Dans shoe size']\n",
      "-------------------------------------------------------------------------------------------------------------\n",
      "\n",
      "SSE:  539.496561636\n",
      "Feature Drop:  pizzas sold\n",
      "Remaining Features:  ['earthquake', 'taunts', 'pressure', 'shark attacks', 'precipitation', 'ice cream sold', 'humidity', 'temperature', 'Dans shoe size']\n",
      "-------------------------------------------------------------------------------------------------------------\n",
      "\n",
      "SSE:  543.357200472\n",
      "Feature Drop:  humidity\n",
      "Remaining Features:  ['earthquake', 'taunts', 'pressure', 'shark attacks', 'precipitation', 'ice cream sold', 'temperature', 'Dans shoe size']\n",
      "-------------------------------------------------------------------------------------------------------------\n",
      "\n",
      "SSE:  547.414198287\n",
      "Feature Drop:  shark attacks\n",
      "Remaining Features:  ['earthquake', 'taunts', 'pressure', 'precipitation', 'ice cream sold', 'temperature', 'Dans shoe size']\n",
      "-------------------------------------------------------------------------------------------------------------\n",
      "\n",
      "SSE:  552.154865382\n",
      "Feature Drop:  Dans shoe size\n",
      "Remaining Features:  ['earthquake', 'taunts', 'pressure', 'precipitation', 'ice cream sold', 'temperature']\n",
      "-------------------------------------------------------------------------------------------------------------\n",
      "\n",
      "SSE:  564.106889524\n",
      "Feature Drop:  ice cream sold\n",
      "Remaining Features:  ['earthquake', 'taunts', 'pressure', 'precipitation', 'temperature']\n",
      "-------------------------------------------------------------------------------------------------------------\n",
      "\n",
      "Final SSE:  579.030316393\n",
      "Retained Features:  ['earthquake', 'taunts', 'pressure', 'precipitation', 'temperature']\n"
     ]
    },
    {
     "data": {
      "text/plain": [
       "['earthquake', 'taunts', 'pressure', 'precipitation', 'temperature']"
      ]
     },
     "execution_count": 404,
     "metadata": {},
     "output_type": "execute_result"
    }
   ],
   "source": [
    "def backward_select(df, resp_str, maxsse):\n",
    "    y, X = df[\"sharknado hazard\"], df.iloc[0:,0:-1]\n",
    "    X = sm.add_constant(X)\n",
    "    model = sm.OLS(y, X).fit()\n",
    "    sse = model.ssr\n",
    "    \n",
    "    while sse <= 570:\n",
    "        print(\"SSE: \",model.ssr)\n",
    "        m = max(list(model.pvalues))\n",
    "        maxPValIndex = [i for i, j in enumerate(model.pvalues) if j == m][0]\n",
    "        print(\"Feature Drop: \",df.iloc[:,maxPValIndex-1].name)\n",
    "        df = df.drop([df.iloc[:,maxPValIndex-1].name],axis=1)\n",
    "        print(\"Remaining Features: \",list(df.iloc[0:,0:-1]))\n",
    "        print(\"-------------------------------------------------------------------------------------------------------------\\n\")\n",
    "        y, X = df[\"sharknado hazard\"], df.iloc[0:,0:-1]\n",
    "        X = sm.add_constant(X)\n",
    "        model = sm.OLS(y, X).fit()\n",
    "        sse = model.ssr\n",
    "    \n",
    "    print(\"Final SSE: \",sse)\n",
    "    print(\"Retained Features: \",list(df.iloc[0:,0:-1]))\n",
    "    \n",
    "    return list(df.iloc[0:,0:-1])\n",
    "\n",
    "backward_select(dfShark,\"sharknado hazard\",570)"
   ]
  },
  {
   "cell_type": "markdown",
   "metadata": {},
   "source": [
    "**Part D**: Write down the multiple linear regression model, including estimated parameters, obtained by your backward selection process. "
   ]
  },
  {
   "cell_type": "code",
   "execution_count": 405,
   "metadata": {},
   "outputs": [
    {
     "data": {
      "text/html": [
       "<table class=\"simpletable\">\n",
       "<caption>OLS Regression Results</caption>\n",
       "<tr>\n",
       "  <th>Dep. Variable:</th>    <td>sharknado hazard</td> <th>  R-squared:         </th> <td>   0.976</td>\n",
       "</tr>\n",
       "<tr>\n",
       "  <th>Model:</th>                   <td>OLS</td>       <th>  Adj. R-squared:    </th> <td>   0.974</td>\n",
       "</tr>\n",
       "<tr>\n",
       "  <th>Method:</th>             <td>Least Squares</td>  <th>  F-statistic:       </th> <td>   534.2</td>\n",
       "</tr>\n",
       "<tr>\n",
       "  <th>Date:</th>             <td>Sun, 09 Dec 2018</td> <th>  Prob (F-statistic):</th> <td>6.01e-52</td>\n",
       "</tr>\n",
       "<tr>\n",
       "  <th>Time:</th>                 <td>22:47:32</td>     <th>  Log-Likelihood:    </th> <td> -177.21</td>\n",
       "</tr>\n",
       "<tr>\n",
       "  <th>No. Observations:</th>      <td>    72</td>      <th>  AIC:               </th> <td>   366.4</td>\n",
       "</tr>\n",
       "<tr>\n",
       "  <th>Df Residuals:</th>          <td>    66</td>      <th>  BIC:               </th> <td>   380.1</td>\n",
       "</tr>\n",
       "<tr>\n",
       "  <th>Df Model:</th>              <td>     5</td>      <th>                     </th>     <td> </td>   \n",
       "</tr>\n",
       "<tr>\n",
       "  <th>Covariance Type:</th>      <td>nonrobust</td>    <th>                     </th>     <td> </td>   \n",
       "</tr>\n",
       "</table>\n",
       "<table class=\"simpletable\">\n",
       "<tr>\n",
       "        <td></td>           <th>coef</th>     <th>std err</th>      <th>t</th>      <th>P>|t|</th>  <th>[0.025</th>    <th>0.975]</th>  \n",
       "</tr>\n",
       "<tr>\n",
       "  <th>const</th>         <td>-2562.6332</td> <td>   57.989</td> <td>  -44.191</td> <td> 0.000</td> <td>-2678.413</td> <td>-2446.854</td>\n",
       "</tr>\n",
       "<tr>\n",
       "  <th>earthquake</th>    <td>    2.2341</td> <td>    0.418</td> <td>    5.343</td> <td> 0.000</td> <td>    1.399</td> <td>    3.069</td>\n",
       "</tr>\n",
       "<tr>\n",
       "  <th>taunts</th>        <td>    0.3231</td> <td>    0.037</td> <td>    8.638</td> <td> 0.000</td> <td>    0.248</td> <td>    0.398</td>\n",
       "</tr>\n",
       "<tr>\n",
       "  <th>pressure</th>      <td>    3.0872</td> <td>    0.069</td> <td>   44.618</td> <td> 0.000</td> <td>    2.949</td> <td>    3.225</td>\n",
       "</tr>\n",
       "<tr>\n",
       "  <th>precipitation</th> <td>    1.2388</td> <td>    0.890</td> <td>    1.392</td> <td> 0.168</td> <td>   -0.538</td> <td>    3.015</td>\n",
       "</tr>\n",
       "<tr>\n",
       "  <th>temperature</th>   <td>   -0.4353</td> <td>    0.022</td> <td>  -20.150</td> <td> 0.000</td> <td>   -0.478</td> <td>   -0.392</td>\n",
       "</tr>\n",
       "</table>\n",
       "<table class=\"simpletable\">\n",
       "<tr>\n",
       "  <th>Omnibus:</th>       <td> 1.693</td> <th>  Durbin-Watson:     </th> <td>   2.261</td>\n",
       "</tr>\n",
       "<tr>\n",
       "  <th>Prob(Omnibus):</th> <td> 0.429</td> <th>  Jarque-Bera (JB):  </th> <td>   1.422</td>\n",
       "</tr>\n",
       "<tr>\n",
       "  <th>Skew:</th>          <td> 0.344</td> <th>  Prob(JB):          </th> <td>   0.491</td>\n",
       "</tr>\n",
       "<tr>\n",
       "  <th>Kurtosis:</th>      <td> 2.967</td> <th>  Cond. No.          </th> <td>1.42e+05</td>\n",
       "</tr>\n",
       "</table>"
      ],
      "text/plain": [
       "<class 'statsmodels.iolib.summary.Summary'>\n",
       "\"\"\"\n",
       "                            OLS Regression Results                            \n",
       "==============================================================================\n",
       "Dep. Variable:       sharknado hazard   R-squared:                       0.976\n",
       "Model:                            OLS   Adj. R-squared:                  0.974\n",
       "Method:                 Least Squares   F-statistic:                     534.2\n",
       "Date:                Sun, 09 Dec 2018   Prob (F-statistic):           6.01e-52\n",
       "Time:                        22:47:32   Log-Likelihood:                -177.21\n",
       "No. Observations:                  72   AIC:                             366.4\n",
       "Df Residuals:                      66   BIC:                             380.1\n",
       "Df Model:                           5                                         \n",
       "Covariance Type:            nonrobust                                         \n",
       "=================================================================================\n",
       "                    coef    std err          t      P>|t|      [0.025      0.975]\n",
       "---------------------------------------------------------------------------------\n",
       "const         -2562.6332     57.989    -44.191      0.000   -2678.413   -2446.854\n",
       "earthquake        2.2341      0.418      5.343      0.000       1.399       3.069\n",
       "taunts            0.3231      0.037      8.638      0.000       0.248       0.398\n",
       "pressure          3.0872      0.069     44.618      0.000       2.949       3.225\n",
       "precipitation     1.2388      0.890      1.392      0.168      -0.538       3.015\n",
       "temperature      -0.4353      0.022    -20.150      0.000      -0.478      -0.392\n",
       "==============================================================================\n",
       "Omnibus:                        1.693   Durbin-Watson:                   2.261\n",
       "Prob(Omnibus):                  0.429   Jarque-Bera (JB):                1.422\n",
       "Skew:                           0.344   Prob(JB):                        0.491\n",
       "Kurtosis:                       2.967   Cond. No.                     1.42e+05\n",
       "==============================================================================\n",
       "\n",
       "Warnings:\n",
       "[1] Standard Errors assume that the covariance matrix of the errors is correctly specified.\n",
       "[2] The condition number is large, 1.42e+05. This might indicate that there are\n",
       "strong multicollinearity or other numerical problems.\n",
       "\"\"\""
      ]
     },
     "execution_count": 405,
     "metadata": {},
     "output_type": "execute_result"
    }
   ],
   "source": [
    "y, X = dfShark[\"sharknado hazard\"], dfShark.iloc[0:,[1,3,4,7,11]]\n",
    "X = sm.add_constant(X)\n",
    "model = sm.OLS(y, X).fit()\n",
    "model.summary()"
   ]
  },
  {
   "cell_type": "markdown",
   "metadata": {},
   "source": [
    "#### Answer\n",
    "Its worth pointing out the features that did not hold over from my guess in part A. My backwards selection function did not return `clouds` which was one of my early guesses, but did return `earthquake`, `pressure`, and `temperature` which were in my early guesses as well as `precipitation` and `taunts`. I will also note that `taunts` was on my radar, but I did not think it was significant so I left it out, but backwards selection has decided it is important!\n",
    "\n",
    "With these features we have quite a large F-statistic with a very low P(F-statistic)."
   ]
  },
  {
   "cell_type": "markdown",
   "metadata": {},
   "source": [
    "**Part E**: Perform the appropriate statistical test at the $\\alpha = 0.01$ significance level to determine whether there is a statistically significant difference between the full model with all features and the reduced model obtained by backward selection in **Part D**. You may use output from your model fit above, but all calculations should be set up in Markdown/MathJax."
   ]
  },
  {
   "cell_type": "markdown",
   "metadata": {},
   "source": [
    "#### Answer\n",
    "As seen in the model summary from Part D, with this reduced set of features our P(F-statistic) is very low,  lower than $0.01$ by nearly 50 orders of magnitude. This isn't saying much actually, since our full feature set had a P(F-statistic) of about only 10 orders of magnitude higher than our reduced set, still 40 orders of magnitude smaller than our $\\alpha$ value. However, $.01 ^ 10$ is significant at the .01 level (lol) so I will use my reduced model for part E."
   ]
  },
  {
   "cell_type": "markdown",
   "metadata": {},
   "source": [
    "**Part F**: Based on your conclusions in **Part E**, use the _better_ of the two models to predict the sharknado hazard when the following features are observed: \n",
    "\n",
    "- $\\texttt{taunts}$: 47\n",
    "- $\\texttt{clouds}$: 0.8\n",
    "- $\\texttt{precipitation}$: 1 inch\n",
    "- $\\texttt{earthquake}$: 5\n",
    "- $\\texttt{shark attacks}$: 11\n",
    "- $\\texttt{ice cream sold}$: 120\n",
    "- $\\texttt{misery index}$: 15\n",
    "- $\\texttt{temperature}$: 70 degrees F\n",
    "- $\\texttt{humidity}$: 83\n",
    "- $\\texttt{pizzas sold}$: 5500\n",
    "- $\\texttt{pressure}$: 850 millibar \n",
    "- $\\texttt{octopuses}$: 6\n",
    "- $\\texttt{Dan's shoe size}$: 9.5\n",
    "- $\\texttt{Tony's shoe size}$: 9"
   ]
  },
  {
   "cell_type": "code",
   "execution_count": 406,
   "metadata": {},
   "outputs": [
    {
     "name": "stdout",
     "output_type": "stream",
     "text": [
      "Reduced Model Prediction:  58.5838331984\n",
      "Full Model Prediction:  55.7187230351\n"
     ]
    }
   ],
   "source": [
    "dfPredict = pd.DataFrame(columns=['clouds', 'earthquake', 'pizzas sold', 'taunts', 'pressure', 'shark attacks', 'octopuses', 'precipitation', 'misery index', 'ice cream sold', 'humidity', 'temperature', 'Dans shoe size', 'Tonys shoe size'], data=[[0.8,5,5500,47,850,11,6,1,15,120,83,70,9.5,9]])\n",
    "dfPredictReduced = dfPredict.iloc[0:,[1,3,4,7,11]]\n",
    "dfPredictReduced = sm.add_constant(dfPredictReduced, has_constant='add')\n",
    "dfPredict = sm.add_constant(dfPredict, has_constant='add')\n",
    "\n",
    "print(\"Reduced Model Prediction: \",model.predict(dfPredictReduced)[0])\n",
    "print(\"Full Model Prediction: \", modelTotal.predict(dfPredict)[0])"
   ]
  },
  {
   "cell_type": "markdown",
   "metadata": {},
   "source": [
    "**Part G:** Consider the model you used in Part E, and consider the fact that you are trying to predict **sharknado hazard**. What is one critical drawback to the MLR model (or any MLR model) for predicting shardnado hazard? What are some modifications that could improve on this issue?"
   ]
  },
  {
   "cell_type": "markdown",
   "metadata": {},
   "source": [
    "#### Answer\n",
    "One draw back of any MLR model is that not all predictors have a linear relationship with the repsonse. Similarly, it can be hard to pick out what is truly a predictor as opposed to something that is just correlated with the response. Another drawback is that a predictor might have a complicated relationship with the response. Maybe `shark attacks` is a hugely important predictor, but only when its not raining. Or maybe `pizzas sold` influences the barometric pressure which is an important predictor. MLR's don't inherently allow us to dive into a deeper relationship between these features. "
   ]
  },
  {
   "cell_type": "markdown",
   "metadata": {},
   "source": [
    "<br>\n",
    "\n",
    "---\n",
    "[Back to top](#top)\n",
    "<a id='p3'></a>\n",
    "\n",
    "### [35 points] Problem 3: FlipMaster5000"
   ]
  },
  {
   "cell_type": "markdown",
   "metadata": {},
   "source": [
    "In the file `flips.csv` you'll find the results of an experiment that was conducted with Stella O'Flaherty (the famous octopus data scientist) flipping coins. Her experiment was as follows. \n",
    "\n",
    "1. She reaches into her coin purse and grabs one of two coins, labeled $x$ and $y$. \n",
    "2. She flips her coin until it comes up heads 8 times, and records the coin ID and the number of flips it took to get 8 heads. \n",
    "3. She then replaces the coin in her coin purse and repeats the experiment. "
   ]
  },
  {
   "cell_type": "markdown",
   "metadata": {},
   "source": [
    "**Part A:**\n",
    "\n",
    "By considering the total number of flips and the total number of \"heads\" in the data file for each coin, estimate the bias of each coin $p_x$ and $p_y$, and use an appropriate statistical test to determine whether the coins have the same bias, i.e. whether $p_x$ and $p_y$ are the same. Perform your test at a significance level that will mistakenly reject the null hypothesis _when that null hypothesis is actually true_ 5% of the time. Report a p-value for your test, and clearly state your conclusions."
   ]
  },
  {
   "cell_type": "markdown",
   "metadata": {},
   "source": [
    "#### Answer\n",
    "My null hypothesis is that the bias of each coin is equal to the other coins' bias:\n",
    "$$H_{0}: p_x = p_y$$\n",
    "$$or$$\n",
    "$$H_{0}: p_x - p_y = 0$$\n",
    "and my alternate hypothesis is\n",
    "$$H_{1}: p_x \\neq p_y$$\n",
    "$$or$$\n",
    "$$H_{1}: p_x - p_y \\neq 0$$\n",
    "since I don't actually care which coin is biased and in which direction, just whether or not they have the same bias. I will calculate the $\\hat{p}$ of each and then compare them in a Z test:\n",
    "$$Z = \\frac{\\hat{p_{x}}-\\hat{p_{y}}}{\\sqrt{\\hat{p}(1-\\hat{p})*(\\frac{1}{n_x}+\\frac{1}{n_y})}}$$\n",
    "where $\\hat{p}$ is the sample proportion."
   ]
  },
  {
   "cell_type": "code",
   "execution_count": 407,
   "metadata": {},
   "outputs": [
    {
     "data": {
      "text/html": [
       "<div>\n",
       "<style>\n",
       "    .dataframe thead tr:only-child th {\n",
       "        text-align: right;\n",
       "    }\n",
       "\n",
       "    .dataframe thead th {\n",
       "        text-align: left;\n",
       "    }\n",
       "\n",
       "    .dataframe tbody tr th {\n",
       "        vertical-align: top;\n",
       "    }\n",
       "</style>\n",
       "<table border=\"1\" class=\"dataframe\">\n",
       "  <thead>\n",
       "    <tr style=\"text-align: right;\">\n",
       "      <th></th>\n",
       "      <th>CoinId</th>\n",
       "      <th>Flips</th>\n",
       "    </tr>\n",
       "  </thead>\n",
       "  <tbody>\n",
       "    <tr>\n",
       "      <th>0</th>\n",
       "      <td>x</td>\n",
       "      <td>9</td>\n",
       "    </tr>\n",
       "    <tr>\n",
       "      <th>1</th>\n",
       "      <td>x</td>\n",
       "      <td>13</td>\n",
       "    </tr>\n",
       "    <tr>\n",
       "      <th>2</th>\n",
       "      <td>x</td>\n",
       "      <td>12</td>\n",
       "    </tr>\n",
       "    <tr>\n",
       "      <th>3</th>\n",
       "      <td>y</td>\n",
       "      <td>12</td>\n",
       "    </tr>\n",
       "    <tr>\n",
       "      <th>4</th>\n",
       "      <td>y</td>\n",
       "      <td>20</td>\n",
       "    </tr>\n",
       "  </tbody>\n",
       "</table>\n",
       "</div>"
      ],
      "text/plain": [
       "  CoinId  Flips\n",
       "0      x      9\n",
       "1      x     13\n",
       "2      x     12\n",
       "3      y     12\n",
       "4      y     20"
      ]
     },
     "execution_count": 407,
     "metadata": {},
     "output_type": "execute_result"
    }
   ],
   "source": [
    "dfCoins = pd.read_csv('data/flips.csv', delim_whitespace=True, names=[\"CoinId\", \"Flips\"], skiprows=[0])\n",
    "dfCoins"
   ]
  },
  {
   "cell_type": "code",
   "execution_count": 408,
   "metadata": {},
   "outputs": [
    {
     "name": "stdout",
     "output_type": "stream",
     "text": [
      "p_hat_x: 0.705882352941\n",
      "p_hat_y: 0.5\n",
      "p_hat_sample: 0.6060606060606061\n",
      "Z of a/2: 1.96\n",
      "Sample Z: 1.71\n",
      "alpha: 0.05\n",
      "p_value: 0.09\n"
     ]
    }
   ],
   "source": [
    "# number of heads divided by number of flips for x, and then y\n",
    "n_x = (dfCoins[\"Flips\"][0] + dfCoins[\"Flips\"][1] + dfCoins[\"Flips\"][2])\n",
    "p_hat_x = (8 + 8 + 8)/n_x\n",
    "n_y = (dfCoins[\"Flips\"][3] + dfCoins[\"Flips\"][4])\n",
    "p_hat_y = (8 + 8)/n_y\n",
    "p_hat_sample = (8*5)/dfCoins[\"Flips\"].sum()\n",
    "print(\"p_hat_x: %s\" % p_hat_x)\n",
    "print(\"p_hat_y: %s\" % p_hat_y)\n",
    "print(\"p_hat_sample: %s\" % p_hat_sample)\n",
    "\n",
    "Z = (p_hat_x-p_hat_y)/np.sqrt(p_hat_sample*(1-p_hat_sample)*((1/n_x) + (1/n_y)))\n",
    "alpha = 0.05\n",
    "zAover2 = stats.norm.ppf(1 - alpha/2)\n",
    "print(\"Z of a/2: %.2f\" % zAover2)\n",
    "print(\"Sample Z: %.2f\" % Z)\n",
    "\n",
    "p_val = (2*stats.norm.cdf((-1) * abs(Z)))\n",
    "print(\"alpha: %.2f\" % alpha)\n",
    "print(\"p_value: %.2f\" % p_val)"
   ]
  },
  {
   "cell_type": "markdown",
   "metadata": {},
   "source": [
    "When we solve for Z and perform a p_value test, we cannot reject our null hypothesis as we need $pvalue \\leq \\alpha$ and we do not have that. So within 95% confidence we **cannot** reject the null hypothesis, although it is close to the edge of the Z-score. For instance, we could reject the null hypothesis within 90% confidence.\n",
    "\n",
    "However this is **not** what we're looking for, we actually need to *find* a Z score that gives us a p-value of .05. This is just the Z value right out the boundary of 95% confidence: $Z \\geq 1.96$. "
   ]
  },
  {
   "cell_type": "markdown",
   "metadata": {},
   "source": [
    "**Part B:** \n",
    "\n",
    "You learn that, actually, the coin $x$ is from a manufacturer that produces coins whose biases follow some statistical regularity. In particular, the bias of the $x$ coin is in the set $$p_x \\in \\{0.1, 0.2, 0.3, \\dots, 0.9\\}.$$ Furthermore, these biases all occur with equal probability. In other words, $\\tfrac{1}{9}$ of coins have bias $p_x=0.1$, $\\tfrac{1}{9}$ of coins have bias $p_x=0.2$, and so on. \n",
    "\n",
    "For each possible value of $p_x$, compute the probability that Stella's $x$ coin has bias of $p_x$, given the data in her data file. \n",
    "\n",
    "Plot your results with $p_x$ on the horizontal axis and $Pr(p_x \\mid \\text{data})$ on the vertical axis. Make the points or lines that you plot blue. Plots without axis labels will receive zero credit.\n",
    "\n",
    "_Hint_: We have done problems like this before! Think back to how you solved the problem on the midterm where you determined the probability that someone had ESP, given that they guessed the cards correctly. There was a \"rule\", and maybe a \"law\" involved in your calculation..."
   ]
  },
  {
   "cell_type": "markdown",
   "metadata": {},
   "source": [
    "#### Answer\n",
    "We want to know what the probability of our coin being each element *given* its sample proportion, so we will use **Bayes' Rule** : $$P(A|B) = \\frac{P(B|A)P(A)}{P(B)}$$ where $P(A)$ will be each possible manufactered coin (denoted as $P(A_i)$), and $P(B)$ is our sample proportion.\n",
    "\n",
    "Each $P(A_i)$ is just $\\frac{1}{9}$.\n",
    "\n",
    "$P(B) = 0.705882352941$\n",
    "\n",
    "$P(B|A)$ will be whether I accept or reject the p-value for each coin in the set: \n",
    "$$z_i = \\frac {\\hat{p}-p_{x_i}} {\\sqrt{\\frac{p_{x_i}(1-p_{x_i})}{n_x}}}$$\n",
    "$$pvalue_i = 2 * \\phi({-|Z_i|})$$\n",
    "\n",
    "I'm not 100% sure how to show the probability for each bias in the set. In fact I read [this thread](https://stats.stackexchange.com/questions/275527/using-p-value-to-compute-the-probability-of-hypothesis-being-true-what-else-is) about using Bayes' Theorem to calculate the probability that the null hypothesis is true. People are pretty mixed on that. So for a quick-and-dirty I'll either accept or reject the Null Hypothesis for each bias in the set, and set its probability to 1 or 0 accordingly. This does not give excellent resuslts, as all \"accepted\" null hypothesis will give equal probability that certainly don't add up to 1, but this was my best guess at an approach."
   ]
  },
  {
   "cell_type": "code",
   "execution_count": 409,
   "metadata": {},
   "outputs": [
    {
     "data": {
      "text/plain": [
       "<matplotlib.text.Text at 0x1152c1e10>"
      ]
     },
     "execution_count": 409,
     "metadata": {},
     "output_type": "execute_result"
    },
    {
     "data": {
      "image/png": "[encoded data removed]",
      "text/plain": [
       "<matplotlib.figure.Figure at 0x1153e0630>"
      ]
     },
     "metadata": {},
     "output_type": "display_data"
    }
   ],
   "source": [
    "p_x_mfgt = [0.1, 0.2, 0.3, 0.4, 0.5, 0.6, 0.7, 0.8, 0.9]\n",
    "\n",
    "n_x = (dfCoins[\"Flips\"][0] + dfCoins[\"Flips\"][1] + dfCoins[\"Flips\"][2])\n",
    "p_hat_x = (8 + 8 + 8)/n_x\n",
    "\n",
    "ziX = []\n",
    "for i in p_x_mfgt:\n",
    "    ziX.append((p_hat_x-i)/np.sqrt((i*(1-i))/n_x))\n",
    "\n",
    "alpha = 0.05\n",
    "\n",
    "resultsX = []\n",
    "for i in ziX:\n",
    "    p_val = 2*stats.norm.cdf((-1) * abs(i))\n",
    "#     print(\"\\n(Z, p-val, alpha): (%.4f,%.10f, %.2f)\" % (i,p_val,alpha))\n",
    "#     print(\"Reject Null? %s\" % (\"Yes\" if p_val <= alpha else \"No\"))\n",
    "    resultsX.append(0 if p_val <= alpha else 1)\n",
    "    \n",
    "newResultsX = []\n",
    "for i in resultsX:\n",
    "    newResultsX.append((i * 1/9)/p_hat_x)\n",
    "    \n",
    "dfResultsX = pd.DataFrame(newResultsX)\n",
    "figB, ax = plt.subplots(figsize=(8,6))\n",
    "ax.plot(dfResultsX, color=\"blue\")\n",
    "ax.set_xlabel(\"Coin px\")\n",
    "ax.set_ylabel(\"Probability data is sampled from coin px\")"
   ]
  },
  {
   "cell_type": "markdown",
   "metadata": {},
   "source": [
    "**Part C:**\n",
    "\n",
    "You learn that, actually, the coin $y$ is from a different manufacturer that produces coins whose biases follow some statistical regularity. In particular, the bias of the $y$ coin is in the set $$p_y \\in \\{0.1, 0.2, 0.3, \\dots, 0.9\\}.$$ Furthermore, these biases all occur with different probability. In particular, the probability that a coin has bias $p_y$ is proportional to $p_y$, which could be written as \n",
    "$$Pr(p_y) \\propto p_y \\quad \\text{for} \\quad p_y \\in \\{0.1, 0.2, 0.3, \\dots, 0.9\\}$$\n",
    "\n",
    "First, write clearly the PMF for $p_y$, based on the information above. \n",
    "\n",
    "Then, for each possible value of $p_y$, compute the probability that Stella's $y$ coin has bias of $p_y$, given the data in her data file. \n",
    "\n",
    "Plot your results with $p_y$ on the horizontal axis and $Pr(p_y \\mid \\text{data})$ on the vertical axis. Make the points or lines that you plot red. Plots without axis labels will receive zero credit."
   ]
  },
  {
   "cell_type": "markdown",
   "metadata": {},
   "source": [
    "#### Answer\n",
    "The PMF is\n",
    "$$\\sum[\\frac{0.1}{4.5}, \\frac{0.2}{4.5}, \\frac{0.3}{4.5},\\frac{0.4}{4.5},\\frac{0.5}{4.5},\\frac{0.6}{4.5},\\frac{0.7}{4.5},\\frac{0.8}{4.5},\\frac{0.9}{4.5}]$$\n",
    "which I got by doing $$\\sum_{n=1}^{9}  \\frac{\\frac{n}{10}} {\\sum_{n=1}^{9}\\frac{n}{10}}$$\n",
    "or, in English, just summing 1/10 through 9/10 and then using that sum as a proportion for the probabilities in $p_y$.\n",
    "\n",
    "I again am not confident in my actual probabilities, as I don't know how to find the probability that the null is true, so I assign accepted Null's to 0 and rejected null's to 1 and calculate in the same way as before, except now I multiply by the probability that the coin was chosen (based on the PMF)."
   ]
  },
  {
   "cell_type": "code",
   "execution_count": 410,
   "metadata": {},
   "outputs": [
    {
     "data": {
      "text/plain": [
       "<matplotlib.text.Text at 0x115578198>"
      ]
     },
     "execution_count": 410,
     "metadata": {},
     "output_type": "execute_result"
    },
    {
     "data": {
      "image/png": "[encoded data removed]",
      "text/plain": [
       "<matplotlib.figure.Figure at 0x114d555f8>"
      ]
     },
     "metadata": {},
     "output_type": "display_data"
    }
   ],
   "source": [
    "pySetDistr = []\n",
    "pySetProb = p_x_mfgt\n",
    "for i in range(1,10):\n",
    "    pySetDistr.append((i/10)/4.5)\n",
    "\n",
    "n_y = (dfCoins[\"Flips\"][3] + dfCoins[\"Flips\"][4])\n",
    "p_hat_y = (8 + 8)/n_y\n",
    "\n",
    "ziY = []\n",
    "for i in pySetProb:\n",
    "    ziY.append((p_hat_y-i)/np.sqrt((i*(1-i))/n_y))\n",
    "\n",
    "pvalResultsY = []\n",
    "for i in ziY:\n",
    "    p_val = 2*stats.norm.cdf((-1) * abs(i))\n",
    "#     print(\"\\n(Z, p-val, alpha): (%.4f,%.10f, %.2f)\" % (i,p_val,alpha))\n",
    "#     print(\"Reject Null? %s\" % (\"Yes\" if p_val <= alpha else \"No\"))\n",
    "    pvalResultsY.append(0 if p_val <= alpha else 1)\n",
    "    \n",
    "newResultsY = []\n",
    "for i,element in enumerate(pvalResultsY):\n",
    "    newResultsY.append((i * pySetDistr[i]* element)/p_hat_y)\n",
    "    \n",
    "dfResultsY = pd.DataFrame(newResultsY)\n",
    "figC, ax = plt.subplots(figsize=(8,6))\n",
    "ax.plot(dfResultsY, color=\"Red\")\n",
    "ax.set_xlabel(\"Coin py\")\n",
    "ax.set_ylabel(\"Probability data is sampled from coin py\")"
   ]
  },
  {
   "cell_type": "markdown",
   "metadata": {},
   "source": [
    "**Part D:**\n",
    "\n",
    "The information that you have about the manufacturer of coin $x$ and coin $y$ is called _prior information_ since it can influence the estimates of a coin's bias at which you arrive, given the data from the coin's flipping. We often call the distribution $Pr(p_x)$ or $Pr(p_y)$ a _prior distribution_, and call $Pr(p_x \\mid \\text{data})$ or $Pr(p_y \\mid \\text{data})$ a _posterior distribution_, since it represents the estimate that you arrive at after you have taken the data into account. \n",
    "\n",
    "You have already computed posterior distributions for each coin's bias. However, you'll now investigate the importance of the prior by _switching the priors for the two coins_.\n",
    "\n",
    "In other words, using the prior probabilities $Pr(p_x)$, what is your posterior distribution of $Pr(p_y \\mid \\text{data from y})$? Similarly, using the prior probabilities $Pr(p_y)$, what is your posterior distribution of $Pr(p_x \\mid \\text{data from x})$? \n",
    "\n",
    "Create two plots. \n",
    "\n",
    "1. In the first plot, show your results from Part B (the posterior distribution for $p_x$ with the correct prior) plotted with a blue solid line as well as your results from Part D for the posterior distribution for $p_x$ with the incorrect prior with a blue dashed line.  \n",
    "\n",
    "2. In the second plot, show your results from Part C (the posterior distribution for $p_y$ with the correct prior) with a red solid line as well as your results from Part D for the posterior distribution for $p_y$ with the incorrect prior with a red dashed line.  "
   ]
  },
  {
   "cell_type": "code",
   "execution_count": 411,
   "metadata": {},
   "outputs": [
    {
     "data": {
      "text/plain": [
       "<matplotlib.legend.Legend at 0x115795e48>"
      ]
     },
     "execution_count": 411,
     "metadata": {},
     "output_type": "execute_result"
    },
    {
     "data": {
      "image/png": "[encoded data removed]",
      "text/plain": [
       "<matplotlib.figure.Figure at 0x115537908>"
      ]
     },
     "metadata": {},
     "output_type": "display_data"
    },
    {
     "data": {
      "image/png": "[encoded data removed]",
      "text/plain": [
       "<matplotlib.figure.Figure at 0x115730780>"
      ]
     },
     "metadata": {},
     "output_type": "display_data"
    }
   ],
   "source": [
    "ziWrongX = []\n",
    "for i in p_x_mfgt:\n",
    "    ziWrongX.append((p_hat_y-i)/np.sqrt((i*(1-i))/n_y))\n",
    "\n",
    "resultsWrongX = []\n",
    "for i in ziWrongX:\n",
    "    p_val = 2*stats.norm.cdf((-1) * abs(i))\n",
    "    resultsWrongX.append(0 if p_val <= alpha else 1)\n",
    "    \n",
    "newResultsWrongX = []\n",
    "for i in resultsWrongX:\n",
    "    newResultsWrongX.append((i * 1/9)/p_hat_y)\n",
    "    \n",
    "x = np.linspace(0, 10, 9)\n",
    "dashes = [10, 5, 100, 5]  # 10 points on, 5 off, 100 on, 5 off\n",
    "    \n",
    "dfResultsWrongX = pd.DataFrame(newResultsWrongX)\n",
    "figDX, ax = plt.subplots(figsize=(8,6))\n",
    "ax.plot(x, dfResultsWrongX, '--', color=\"blue\", label=\"Incorrect prior for p_x\")\n",
    "ax.plot(dfResultsX, color=\"blue\", label=\"Correct prior for p_x\")\n",
    "ax.set_title(\"Posterior distribution of Px with correct and incorrect prior\", fontsize=16)\n",
    "ax.set_xlabel(\"Coin px\")\n",
    "ax.set_ylabel(\"Probability data is sampled from coin px\")\n",
    "ax.legend()\n",
    "\n",
    "#------------------------------------------------------------------------------------------------------------------------#\n",
    "#------------------------------------------------------------------------------------------------------------------------#\n",
    "#------------------------------------------------------------------------------------------------------------------------#\n",
    "\n",
    "ziWrongY = []\n",
    "for i in pySetProb:\n",
    "    ziWrongY.append((p_hat_x-i)/np.sqrt((i*(1-i))/n_x))\n",
    "\n",
    "pvalResultsYWrong = []\n",
    "for i in ziY:\n",
    "    p_val = 2*stats.norm.cdf((-1) * abs(i))\n",
    "    pvalResultsYWrong.append(0 if p_val <= alpha else 1)\n",
    "    \n",
    "newResultsYWrong = []\n",
    "for i,element in enumerate(pvalResultsYWrong):\n",
    "    newResultsYWrong.append((i * pySetDistr[i]* element)/p_hat_x)\n",
    "    \n",
    "dfResultsYWrong = pd.DataFrame(newResultsYWrong)\n",
    "figDY, ax = plt.subplots(figsize=(8,6))\n",
    "ax.plot(x, dfResultsYWrong, '--', color=\"Red\", label=\"Incorrect prior for p_y\")\n",
    "ax.plot(dfResultsY, color=\"Red\", label=\"Correct prior for p_y\")\n",
    "ax.set_title(\"Posterior distribution of Py with correct and incorrect prior\", fontsize=16)\n",
    "ax.set_xlabel(\"Coin py\")\n",
    "ax.set_ylabel(\"Probability data is sampled from coin py\")\n",
    "ax.legend()"
   ]
  },
  {
   "cell_type": "markdown",
   "metadata": {},
   "source": [
    "**Part E:**\n",
    "\n",
    "What is the name of the distribution that Stella's experiment is drawn from?"
   ]
  },
  {
   "cell_type": "markdown",
   "metadata": {},
   "source": []
  },
  {
   "cell_type": "markdown",
   "metadata": {},
   "source": [
    "<br>\n",
    "\n",
    "---\n",
    "[Back to Problem 2](#p2)\n",
    "\n",
    "<a id='footnote'></a> Yeah yeah - fresh water versus salt water - I know, I know. But sharknadoes also are not real, so..."
   ]
  },
  {
   "cell_type": "code",
   "execution_count": null,
   "metadata": {
    "collapsed": true
   },
   "outputs": [],
   "source": []
  }
 ],
 "metadata": {
  "kernelspec": {
   "display_name": "Python 3",
   "language": "python",
   "name": "python3"
  }
 },
 "nbformat": 4,
 "nbformat_minor": 2
}

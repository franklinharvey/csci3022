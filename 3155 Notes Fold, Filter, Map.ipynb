{
 "cells": [
  {
   "cell_type": "code",
   "execution_count": 0,
   "metadata": {},
   "outputs": [
    {
     "ename": "",
     "evalue": "",
     "output_type": "error",
     "traceback": [
      "SyntaxError: found \"while (i < n) {\\n    \", expected (`val` | `var`) ~/ ValVarDef | `def` ~/ FunDef | `type` ~/ TypeDef | \"}\" at index 163",
      "    while (i < n) {",
      "    ^"
     ]
    }
   ],
   "source": [
    "// [1,2,3,4].foldleft(0)((acc,e)=>acc+e)\n",
    "// foldleft([1,2,3,4],0,_+_)\n",
    "def foldleft(l: List[Int], init: Int, f: (Int,Int)=>Int): Int\n",
    "{\n",
    "    val n = l.length\n",
    "    var i = 0\n",
    "    var acc = init\n",
    "    while (i < n) {\n",
    "        acc = f(acc, l[i])\n",
    "        i = i + 1\n",
    "    }\n",
    "    return acc\n",
    "}"
   ]
  },
  {
   "cell_type": "code",
   "execution_count": null,
   "metadata": {
    "collapsed": true
   },
   "outputs": [],
   "source": []
  }
 ],
 "metadata": {
  "kernelspec": {
   "display_name": "Scala",
   "language": "scala",
   "name": "scala"
  },
  "language_info": {
   "codemirror_mode": "text/x-scala",
   "file_extension": ".scala",
   "mimetype": "text/x-scala",
   "name": "scala211",
   "nbconvert_exporter": "script",
   "pygments_lexer": "scala",
   "version": "2.11.11"
  }
 },
 "nbformat": 4,
 "nbformat_minor": 2
}

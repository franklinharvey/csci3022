{
 "cells": [
  {
   "cell_type": "markdown",
   "metadata": {},
   "source": [
    "<a id='top'></a>\n",
    "\n",
    "# Homework 6: Bootstrapping, Hypothesis Testing, P-Hacking, and Simple Linear Regression \n",
    "***\n",
    "\n",
    "**Name**: Frank Harvey\n",
    "\n",
    "***\n",
    "\n",
    "This assignment is due on Moodle by **5 PM on Friday November 30**. Your solutions to theoretical questions should be done in Markdown/MathJax directly below the associated question.  Your solutions to computational questions should include any specified Python code and results as well as written commentary on your conclusions.  Remember that you are encouraged to discuss the problems with your instructors and classmates, but **you must write all code and solutions on your own**. \n",
    "\n",
    "**NOTES**: \n",
    "\n",
    "- Do **NOT** load or use any Python packages that are not available in Anaconda 3.6. \n",
    "- Some problems with code may be autograded.  If we provide a function API **do not** change it.  If we do not provide a function API then you're free to structure your code however you like. \n",
    "- Because you can technically evaluate notebook cells is a non-linear order, it's a good idea to do Cell $\\rightarrow$ Run All as a check before submitting your solutions.  That way if we need to run your code you will know that it will work as expected. \n",
    "- Submit only this Jupyter notebook to Moodle.  Do not compress it using tar, rar, zip, etc. \n",
    "- This should go without saying, but... For any question that asks you to calculate something, you **must show all work to receive credit**. Sparse or nonexistent work will receive sparse or nonexistent credit.\n",
    "\n",
    "---\n",
    "**Shortcuts:**  [Problem 1](#p1) | [Problem 2](#p2) | [Problem 3](#p3) | [Problem 4](#p4) | [Problem 5](#p5)\n",
    "\n",
    "---"
   ]
  },
  {
   "cell_type": "code",
   "execution_count": 630,
   "metadata": {
    "collapsed": true,
    "scrolled": true
   },
   "outputs": [],
   "source": [
    "import numpy as np\n",
    "import matplotlib.pyplot as plt\n",
    "import pandas as pd\n",
    "from scipy import stats \n",
    "%matplotlib inline"
   ]
  },
  {
   "cell_type": "markdown",
   "metadata": {},
   "source": [
    "---\n",
    "[Back to top](#top)\n",
    "<a id='p1'></a>\n",
    "\n",
    "### [20 points] Problem 1 - Hypothesis Testing: Find-the-Knowledge-Bug \n",
    "\n",
    "As part of your job as a seasoned data science consultant, companies often bring you in to supervise their less-experienced data science teams before new product roll-outs.  One one such occasion, you are hired by a medium-sized internet-sales company that is preparing to release a new line of smart-home products.  Prior to their product release the company wants to do a targeted ad campaign to drive traffic to their site on launch day. \n",
    "\n",
    "You are asked to pair-up and do some inference work with a new employee named Ketelbells McKnowsNoStats. At various points in your day you catch Ketelbells making the following mistakes.  In each case, clearly explain to Ketelbells why his testing setup or conclusion is incorrect. "
   ]
  },
  {
   "cell_type": "markdown",
   "metadata": {},
   "source": [
    "**Part A**: Ketelbells has pulled up some data on the characteristics of customers that visited the company's website over the previous month.  He wants to perform an analysis on the mean age of customers that visit the site.  Let $X$ be the random variable describing the age of a site visitor and suppose that the population mean for $X$ is $\\mu$. In particular, Ketelbells wants to see if the data suggests that the mean age of their customers is under 30 years old.   He decides to perform the test with a null hypothesis of $H_0: \\mu < 30$. "
   ]
  },
  {
   "cell_type": "markdown",
   "metadata": {},
   "source": [
    "Null hypothesis should include a statement of equality, so his null hypothesis should be $H_0 : \\mu = 30$."
   ]
  },
  {
   "cell_type": "markdown",
   "metadata": {},
   "source": [
    "**Part B**: After the wonderful explanation you gave him after the previous debacle, Ketelbells has seen the error in his ways and decides instead to do his hypothesis test with a null hypothesis of $H_0: \\bar{x} = 30$.  "
   ]
  },
  {
   "cell_type": "markdown",
   "metadata": {},
   "source": [
    "This is closer. And although we will be using $\\bar{x}$ (our sample mean) we still want to use $\\mu$ in our hypothesis as it is what we are testing against."
   ]
  },
  {
   "cell_type": "markdown",
   "metadata": {},
   "source": [
    "**Part C**: Finally on track with reasonable hypotheses of $H_0: \\mu = 30$ and $H_1: \\mu < 30$, Ketelbells computes a p-value of $0.03$, and thus concludes that there is only a 3% probability that the null hypothesis is true. "
   ]
  },
  {
   "cell_type": "markdown",
   "metadata": {},
   "source": [
    "This is not quite right, A: we didn't say what we would and wouldn't reject, and B: this probabilty does not say much about the average person, which could still be younger than 30."
   ]
  },
  {
   "cell_type": "markdown",
   "metadata": {},
   "source": [
    "**Part D**: This time, with the hypotheses again $H_0: \\mu = 30$ and $H_1: \\mu < 30$, Ketelbells computes a normalized test-statistic of $z = -0.04$ for the mean age and concludes that since $z = -0.04 < 0.05$ there is sufficient statistical evidence at the $\\alpha = 0.05$ significance level that the mean age of their customers is less than 30.  "
   ]
  },
  {
   "cell_type": "markdown",
   "metadata": {},
   "source": [
    "you need to transform the z-test statistic into a CDF from -infinity to -.04 and compare that to $\\alpha$"
   ]
  },
  {
   "cell_type": "markdown",
   "metadata": {},
   "source": [
    "---\n",
    "[Back to top](#top)\n",
    "<a id='p2'></a>\n",
    "\n",
    "### [20 points] Problem 2 - Evaluating Vehicle Performance \n",
    "\n",
    "A [1983 study](http://citeseerx.ist.psu.edu/viewdoc/download?doi=10.1.1.34.6358&rep=rep1&type=pdf) evaluated the gas mileage of a variety of cars manufactured between 1970 and 1983. The study also compiled other interesting attributes for each vehicle, but we will focus on the number of cylinders in the engine for this problem. More information on the data is available [here](https://archive.ics.uci.edu/ml/machine-learning-databases/auto-mpg/). Gas mileage is measured in miles-per-gallon, or mpg.\n",
    "\n",
    "**Part A:** Read the data set and store as a Pandas data frame. You will need figure out what additional arguments to `pd.read_csv()` must be provided in order to read the data set properly.\n",
    "\n",
    "Then, be sure to give all of the columns informative names, if they do not already have some.\n",
    "\n",
    "Finally, use `drop_na()` to drop any rows with missing values. Missing values are reported with a \"?\"."
   ]
  },
  {
   "cell_type": "code",
   "execution_count": 631,
   "metadata": {},
   "outputs": [
    {
     "data": {
      "text/html": [
       "<div>\n",
       "<style>\n",
       "    .dataframe thead tr:only-child th {\n",
       "        text-align: right;\n",
       "    }\n",
       "\n",
       "    .dataframe thead th {\n",
       "        text-align: left;\n",
       "    }\n",
       "\n",
       "    .dataframe tbody tr th {\n",
       "        vertical-align: top;\n",
       "    }\n",
       "</style>\n",
       "<table border=\"1\" class=\"dataframe\">\n",
       "  <thead>\n",
       "    <tr style=\"text-align: right;\">\n",
       "      <th></th>\n",
       "      <th>mpg</th>\n",
       "      <th>cylinders</th>\n",
       "      <th>displacement</th>\n",
       "      <th>horsepower</th>\n",
       "      <th>weight</th>\n",
       "      <th>acceleration</th>\n",
       "      <th>model year</th>\n",
       "      <th>origin</th>\n",
       "      <th>car name</th>\n",
       "    </tr>\n",
       "  </thead>\n",
       "  <tbody>\n",
       "    <tr>\n",
       "      <th>0</th>\n",
       "      <td>18.0</td>\n",
       "      <td>8</td>\n",
       "      <td>307.0</td>\n",
       "      <td>130.0</td>\n",
       "      <td>3504.0</td>\n",
       "      <td>12.0</td>\n",
       "      <td>70</td>\n",
       "      <td>1</td>\n",
       "      <td>chevrolet chevelle malibu</td>\n",
       "    </tr>\n",
       "    <tr>\n",
       "      <th>1</th>\n",
       "      <td>15.0</td>\n",
       "      <td>8</td>\n",
       "      <td>350.0</td>\n",
       "      <td>165.0</td>\n",
       "      <td>3693.0</td>\n",
       "      <td>11.5</td>\n",
       "      <td>70</td>\n",
       "      <td>1</td>\n",
       "      <td>buick skylark 320</td>\n",
       "    </tr>\n",
       "    <tr>\n",
       "      <th>2</th>\n",
       "      <td>18.0</td>\n",
       "      <td>8</td>\n",
       "      <td>318.0</td>\n",
       "      <td>150.0</td>\n",
       "      <td>3436.0</td>\n",
       "      <td>11.0</td>\n",
       "      <td>70</td>\n",
       "      <td>1</td>\n",
       "      <td>plymouth satellite</td>\n",
       "    </tr>\n",
       "    <tr>\n",
       "      <th>3</th>\n",
       "      <td>16.0</td>\n",
       "      <td>8</td>\n",
       "      <td>304.0</td>\n",
       "      <td>150.0</td>\n",
       "      <td>3433.0</td>\n",
       "      <td>12.0</td>\n",
       "      <td>70</td>\n",
       "      <td>1</td>\n",
       "      <td>amc rebel sst</td>\n",
       "    </tr>\n",
       "    <tr>\n",
       "      <th>4</th>\n",
       "      <td>17.0</td>\n",
       "      <td>8</td>\n",
       "      <td>302.0</td>\n",
       "      <td>140.0</td>\n",
       "      <td>3449.0</td>\n",
       "      <td>10.5</td>\n",
       "      <td>70</td>\n",
       "      <td>1</td>\n",
       "      <td>ford torino</td>\n",
       "    </tr>\n",
       "  </tbody>\n",
       "</table>\n",
       "</div>"
      ],
      "text/plain": [
       "    mpg  cylinders  displacement  horsepower  weight  acceleration  \\\n",
       "0  18.0          8         307.0       130.0  3504.0          12.0   \n",
       "1  15.0          8         350.0       165.0  3693.0          11.5   \n",
       "2  18.0          8         318.0       150.0  3436.0          11.0   \n",
       "3  16.0          8         304.0       150.0  3433.0          12.0   \n",
       "4  17.0          8         302.0       140.0  3449.0          10.5   \n",
       "\n",
       "   model year  origin                   car name  \n",
       "0          70       1  chevrolet chevelle malibu  \n",
       "1          70       1          buick skylark 320  \n",
       "2          70       1         plymouth satellite  \n",
       "3          70       1              amc rebel sst  \n",
       "4          70       1                ford torino  "
      ]
     },
     "execution_count": 631,
     "metadata": {},
     "output_type": "execute_result"
    }
   ],
   "source": [
    "# white space delimited, \"?\" used for unknowns, headers are:\n",
    "#     1. mpg:           continuous\n",
    "#     2. cylinders:     multi-valued discrete\n",
    "#     3. displacement:  continuous\n",
    "#     4. horsepower:    continuous\n",
    "#     5. weight:        continuous\n",
    "#     6. acceleration:  continuous\n",
    "#     7. model year:    multi-valued discrete\n",
    "#     8. origin:        multi-valued discrete\n",
    "#     9. car name:      string (unique for each instance)\n",
    "\n",
    "dfMPG = pd.read_csv('data/auto-mpg.data', delim_whitespace=True, names=[\"mpg\", \"cylinders\", \"displacement\", \"horsepower\", \"weight\", \"acceleration\", \"model year\", \"origin\", \"car name\"], na_values=\"?\").dropna()\n",
    "\n",
    "dfMPG.head()"
   ]
  },
  {
   "cell_type": "markdown",
   "metadata": {},
   "source": [
    "**Part B**: Assuming the data in this sample are representative of cars from the 1970-1983 time period, find a 95% confidence interval for the mean gas mileage (mpg) of all vehicles from this period. Can we conclude that the mean gas mileage is higher than 20 mpg? Be sure to show all calculations in Python. "
   ]
  },
  {
   "cell_type": "markdown",
   "metadata": {},
   "source": [
    "Our confidence interval spans from 22.7 mpg to 24 mpg, so we can be 95% confident (based on the assumption) that cars produced in this era had gas efficiencies greater than 20mpg."
   ]
  },
  {
   "cell_type": "code",
   "execution_count": 632,
   "metadata": {},
   "outputs": [
    {
     "name": "stdout",
     "output_type": "stream",
     "text": [
      "1.95996398454\n",
      "CI: [22.673276244152817, 24.218560490541066]\n"
     ]
    }
   ],
   "source": [
    "x_bar = dfMPG['mpg'].mean()\n",
    "numOfSamples = len(dfMPG)\n",
    "sigma = dfMPG['mpg'].std()\n",
    "alpha = 0.05\n",
    "zAover2 = stats.norm.ppf(1 - alpha/2)\n",
    "\n",
    "CI = [x_bar - zAover2*(sigma/np.sqrt(numOfSamples)), x_bar + zAover2*(sigma/np.sqrt(numOfSamples))]\n",
    "\n",
    "print (zAover2)\n",
    "print(\"CI: %s\" % CI)"
   ]
  },
  {
   "cell_type": "markdown",
   "metadata": {},
   "source": [
    "**Part C**: You are considering buying a new car, but since [gas prices have recently increased dramatically](https://www.energy.gov/eere/vehicles/fact-915-march-7-2016-average-historical-annual-gasoline-pump-price-1929-2015), you are concerned about getting good fuel economy.\n",
    "\n",
    "Can you conclude at the $\\alpha=0.01$ significance level that the mean gas mileage for vehicles with 4 or 6 cylinder engines is more than 10 mpg better than the mean gas mileage for vehicles with 8 cylinder engines? You may consider two populations here: those vehicles with 4 or 6 cylinders, and those vehicles with 8 cylinders in their engines. Be sure to clearly describe your hypotheses and methodology, and show all relevant computations in Python. "
   ]
  },
  {
   "cell_type": "markdown",
   "metadata": {},
   "source": [
    "With 99% certainty we can say that 4 or 6 cylinder cars get at least 10 miles per gallon better on average than an 8 cylinder car. We see this in the confidence interval that spans from a difference of -12.8 to -10.3."
   ]
  },
  {
   "cell_type": "code",
   "execution_count": 633,
   "metadata": {},
   "outputs": [
    {
     "name": "stdout",
     "output_type": "stream",
     "text": [
      "CI: [-12.836312926324004, -10.324707523996173]\n"
     ]
    }
   ],
   "source": [
    "fourOrSix = dfMPG.loc[(dfMPG[\"cylinders\"] == 4) | (dfMPG[\"cylinders\"] == 6)]\n",
    "eight = dfMPG.loc[dfMPG[\"cylinders\"] == 8]\n",
    "alpha = 0.01\n",
    "zAover2 = stats.norm.ppf(1 - alpha/2)\n",
    "\n",
    "four_six_x_bar = fourOrSix['mpg'].mean()\n",
    "four_six_numOfSamples = len(fourOrSix)\n",
    "four_six_sigma = fourOrSix['mpg'].std()\n",
    "\n",
    "\n",
    "eight_x_bar = eight['mpg'].mean()\n",
    "eight_numOfSamples = len(eight)\n",
    "eight_sigma = eight['mpg'].std()\n",
    "\n",
    "CI = [(eight_x_bar - four_six_x_bar) - zAover2*np.sqrt(pow(eight_sigma,2)/eight_numOfSamples + pow(four_six_sigma,2)/four_six_numOfSamples), (eight_x_bar - four_six_x_bar) + zAover2*np.sqrt(pow(eight_sigma,2)/eight_numOfSamples + pow(four_six_sigma,2)/four_six_numOfSamples)]\n",
    "\n",
    "print(\"CI: %s\" % CI)"
   ]
  },
  {
   "cell_type": "markdown",
   "metadata": {},
   "source": [
    "**Part D**: You decide to go with either a 4 or 6 cylinder engine, because if you buy an 8-cylinder vehicle that can haul heavy things, you just know you are going to get stuck helping people move. You just _know_ it.\n",
    "\n",
    "Conduct an appropriate hypothesis test at the $\\alpha=0.01$ significance level to determine if the mean gas mileage of vehicles with a 4-cylinder engine is significantly better than the gas mileage of vehicles with 6 cylinders. Be sure to clearly describe your hypotheses and methodology, and show all relevant computations in Python. "
   ]
  },
  {
   "cell_type": "markdown",
   "metadata": {},
   "source": [
    "I only want to test that the mean MPG for a 4 cylinder car is better than the mean MPG for a 6 cylinder car with 99% confidence. As we can see by the calculation the confidence interval covers from -10.8 to -7.8 so we can conclude with 99% confidence that 4 cylinder cars from this era get better fuel efficiency than six cylinder cars. We can also say with 99% confidence that 4 cylinder cars get better fuel efficiency by at least 7.8 MPG."
   ]
  },
  {
   "cell_type": "code",
   "execution_count": 634,
   "metadata": {},
   "outputs": [
    {
     "name": "stdout",
     "output_type": "stream",
     "text": [
      "CI: [-10.808414208391468, -7.8124370357812154]\n"
     ]
    }
   ],
   "source": [
    "four = dfMPG.loc[dfMPG[\"cylinders\"] == 4]\n",
    "six = dfMPG.loc[dfMPG[\"cylinders\"] == 6]\n",
    "alpha = 0.01\n",
    "zAover2 = stats.norm.ppf(1 - alpha/2)\n",
    "\n",
    "four_x_bar = four['mpg'].mean()\n",
    "four_numOfSamples = len(four)\n",
    "four_sigma = four['mpg'].std()\n",
    "\n",
    "\n",
    "six_x_bar = six['mpg'].mean()\n",
    "six_numOfSamples = len(six)\n",
    "six_sigma = six['mpg'].std()\n",
    "\n",
    "CI = [(six_x_bar - four_x_bar) - zAover2*np.sqrt(pow(six_sigma,2)/six_numOfSamples + pow(four_sigma,2)/four_numOfSamples), (six_x_bar - four_x_bar) + zAover2*np.sqrt(pow(six_sigma,2)/six_numOfSamples + pow(four_sigma,2)/four_numOfSamples)]\n",
    "\n",
    "print(\"CI: %s\" % CI)"
   ]
  },
  {
   "cell_type": "markdown",
   "metadata": {},
   "source": [
    "---\n",
    "[Back to top](#top)\n",
    "<a id='p3'></a>\n",
    "\n",
    "### [20 points] Problem 3 - Naps vs Coffee for Memory? \n",
    "\n",
    "It is estimated that [about 75% of adults](https://www.ncbi.nlm.nih.gov/pmc/articles/PMC4997286/) in the United States drink coffee. Often, coffee is used to replace the need for sleep. It works alright, or so we think. Let's find out, in this exciting homework problem!\n",
    "\n",
    "[One recent study](https://www.sciencedirect.com/science/article/pii/S1388245703002554) investigated the effects of drinking coffee, taking a nap, and having a [\"coffee-nap\"](https://lifehacker.com/naps-vs-coffee-which-is-better-when-youre-exhausted-1730643671) - the practice of drinking some coffee *and then* having a short nap. The study broke participants up into three groups of 10 participants each, where the groups would have a nap, or have a coffee, or have a coffee-nap, then perform a task where their reaction time was measured. In previous experiments the mean reaction time measurement was found to be normally distributed. The reaction time means (milliseconds, ms) and standard deviations for the three groups of participants are given in the table below.\n",
    "\n",
    "$$\n",
    "\\begin{array}{c|c|c|c}\n",
    "\\textrm{Group} & \\textrm{Sample Size} & \\textrm{Mean} & \\textrm{Standard Deviation} \\\\\n",
    "\\hline \n",
    "\\textrm{Coffee+Nap} & 10 & 451.3 & 31.9 \\\\ \n",
    "\\textrm{Coffee} & 10 & 494.2 & 39.6 \\\\ \n",
    "\\textrm{Nap} & 10 & 492.8 & 45.2 \\\\ \n",
    "\\end{array}\n",
    "$$\n",
    "\n",
    "**Part A**: Compute 95% t-confidence intervals for the mean reaction time measurement for participants in each of these three groups. (You should find three separate confidence intervals.) Do all computations in Python by hand, and report the results.\n",
    "\n",
    "1. Can you make any conclusions regarding whether coffee, naps or both (coffee-naps) are better for faster reaction times?\n",
    "2. Why did we use a t-distribution?"
   ]
  },
  {
   "cell_type": "markdown",
   "metadata": {},
   "source": [
    "We will calculate the various confidence intervals using $$t=\\frac{\\mu_1-\\mu_2-C}{\\sqrt{\\frac{\\sigma_1^2}{n}+\\frac{\\sigma_2^2}{n}}}$$\n",
    "\n",
    "We can then check its significance by doing $\\hat{p} = 1-\\phi(t)$ and seeing if this outperforms 95%.\n",
    "\n",
    "I'll assume there is no difference in means as my $H_0$ null hypothesis. \n",
    "\n",
    "1. The \"Coffee + Nap\" has the lowest sample mean, and performs best against both \"Coffee\" and \"Nap\" in the t-tests.\n",
    "    * `CNCp`, a p_value between \"Coffee + Nap\" and \"Coffee\" shows with >99% confidence that \"Coffee + Nap\" outperforms \"Coffee\".\n",
    "    * `CNNp`, a p_value between \"Coffee + Nap\" and \"Nap\" shows with >99% confidence that \"Coffee + Nap\" outperforms \"Coffee\".\n",
    "    * `CNp`, a p_value between \"Coffee\" and \"Nap\" shows with only ~45% confidence that \"Coffee\" outperforms \"Nap\". I'd say, in this case, it'd be better to say that \"Nap\" out performs \"Coffee\" ~55% of the time. This is not very statistically important.\n",
    "\n",
    "2. We do not know the standard deviation, which would have allowed us to use a z-score, so a t-distribution is a good way to go. "
   ]
  },
  {
   "cell_type": "code",
   "execution_count": 635,
   "metadata": {},
   "outputs": [
    {
     "name": "stdout",
     "output_type": "stream",
     "text": [
      "Coffee + Nap vs. Coffee:  0.999998089253\n",
      "Coffee + Nap vs. Nap:  0.999980103301\n",
      "Coffee vs. Nap:  0.449231345072\n"
     ]
    }
   ],
   "source": [
    "# CI for \"Coffee + Nap\" and \"Coffee\"\n",
    "C=0\n",
    "CNCt = (451.3-494.2-C)/np.sqrt(pow(31.9,2)/30 + pow(39.6,2)/30)\n",
    "CNCp = 1-stats.norm.cdf(CNCt)\n",
    "CNNt = (451.3-492.8-C)/np.sqrt(pow(31.9,2)/30 + pow(45.2,2)/30)\n",
    "CNNp = 1-stats.norm.cdf(CNNt)\n",
    "CNt = (494.2-492.8-C)/np.sqrt(pow(39.6,2)/30 + pow(45.2,2)/30)\n",
    "CNp = 1-stats.norm.cdf(CNt)\n",
    "print(\"Coffee + Nap vs. Coffee: \",CNCp)\n",
    "print(\"Coffee + Nap vs. Nap: \",CNNp)\n",
    "print(\"Coffee vs. Nap: \",CNp)"
   ]
  },
  {
   "cell_type": "markdown",
   "metadata": {},
   "source": [
    "**Part B**: Use an appropriate hypothesis test to determine if there sufficient evidence, at the $\\alpha = 0.05$ significance level, to conclude that taking a nap promotes faster reaction time than drinking coffee.  Be sure to clearly explain the test that you're doing and state all hypotheses. Do all computations in Python, and report results."
   ]
  },
  {
   "cell_type": "markdown",
   "metadata": {},
   "source": [
    "$H_0: \\mu_1-\\mu_0 = 0$\n",
    "\n",
    "$H_1: \\mu_1-\\mu_0 > 0$\n",
    "\n",
    "I ran a confidence interval in the difference of means, rejected my null hypothesis that the difference would be 0, and accepted my alternate that the difference would be greater than 0 due to my confidence interval of [11.383133127186859, 74.416866872813102]."
   ]
  },
  {
   "cell_type": "code",
   "execution_count": 644,
   "metadata": {},
   "outputs": [
    {
     "name": "stdout",
     "output_type": "stream",
     "text": [
      "CI: [11.383133127186859, 74.416866872813102]\n"
     ]
    }
   ],
   "source": [
    "alpha = 0.05\n",
    "zAover2 = stats.norm.ppf(1 - alpha/2)\n",
    "\n",
    "mu_0 = 451.3\n",
    "n_0 = 10\n",
    "sigma_0 = 31.9\n",
    "\n",
    "mu_1 = 494.2\n",
    "n_1 = 10\n",
    "sigma_1 = 39.6\n",
    "\n",
    "CI = [(mu_1 - mu_0) - zAover2*np.sqrt(pow(sigma_1,2)/n_1 + pow(sigma_0,2)/n_0), (mu_1 - mu_0) + zAover2*np.sqrt(pow(sigma_1,2)/n_1 + pow(sigma_0,2)/n_0)]\n",
    "\n",
    "print(\"CI: %s\" % CI)"
   ]
  },
  {
   "cell_type": "markdown",
   "metadata": {},
   "source": [
    "**Part C**: Use an appropriate hypothesis test to determine if there is sufficient evidence, at the $\\alpha = 0.05$ significance level, to conclude that taking a coffee-nap promotes faster reaction time than only drinking coffee, or only having a nap.  Be sure to clearly explain the test that you're doing and state all hypotheses. Do all computations in Python, and report results."
   ]
  },
  {
   "cell_type": "markdown",
   "metadata": {},
   "source": []
  },
  {
   "cell_type": "code",
   "execution_count": null,
   "metadata": {
    "collapsed": true
   },
   "outputs": [],
   "source": []
  },
  {
   "cell_type": "markdown",
   "metadata": {},
   "source": [
    "**Part D**: Compute a 95% confidence interval for the standard deviation of reaction time for coffee-nap takers. Do all computations in Python, and report the results."
   ]
  },
  {
   "cell_type": "markdown",
   "metadata": {},
   "source": [
    "The SD confidence interval is `[21.941943095293087, 58.236964822374411]` and our sampled standard deviation is within our 95% confidence interval."
   ]
  },
  {
   "cell_type": "code",
   "execution_count": 652,
   "metadata": {},
   "outputs": [
    {
     "data": {
      "text/plain": [
       "[21.941943095293087, 58.236964822374411]"
      ]
     },
     "execution_count": 652,
     "metadata": {},
     "output_type": "execute_result"
    }
   ],
   "source": [
    "alpha = .05\n",
    "sigma = 31.9\n",
    "n = 10\n",
    "CI = [sigma*np.sqrt((n-1)/stats.chi2.ppf((1-alpha/2), n-1)), sigma*np.sqrt((n-1)/stats.chi2.ppf((alpha/2), n-1))]\n",
    "CI"
   ]
  },
  {
   "cell_type": "markdown",
   "metadata": {},
   "source": [
    "---\n",
    "[Back to top](#top)\n",
    "<a id='p4'></a>\n",
    "\n",
    "### [20 points] Problem 4 - Bad Science for Fun and Profit \n",
    "\n",
    "[Data Dredging](https://en.wikipedia.org/wiki/Data_dredging) and [p-hacking](https://www.explainxkcd.com/wiki/index.php/882:_Significant) are umbrella terms for the dangerous practice of automatically testing a large number of hypotheses on the entirety or subsets of a single dataset in order to find statistically significant results. In this exercise we will focus on the idea of testing hypotheses on subsets of a single data set.  \n",
    "\n",
    "Nefaria Octopain has landed her first data science internship at an aquarium.  Her primary summer project has been to design and test a new feeding regimen for the aquarium's octopus population. To test her regimen, her supervisors have allowed her to deploy her new feeding regimen to 4 targeted octopus subpopulations of 40 octopuses each, every day, for a month. \n",
    "\n",
    "The effectiveness of the new diet is measured simply by the rate at which the food is consumed, which is simply defined to be the _proportion_ of octopuses that eat the food (POOTEF). The aquarium's standard octopus diet has a POOTEF of $0.90$.  Nefaria is hoping to land a permanent position at the aquarium when she graduates, so she's **really** motivated to show her supervisors that the POOTEF of her new diet regimen is a (statistically) significant improvement over their previous diet. \n",
    "\n",
    "The data from Nefaria's summer experiment can be found in `pootef.csv`. Load this dataset as a Pandas DataFrame. "
   ]
  },
  {
   "cell_type": "code",
   "execution_count": 636,
   "metadata": {},
   "outputs": [
    {
     "data": {
      "text/html": [
       "<div>\n",
       "<style>\n",
       "    .dataframe thead tr:only-child th {\n",
       "        text-align: right;\n",
       "    }\n",
       "\n",
       "    .dataframe thead th {\n",
       "        text-align: left;\n",
       "    }\n",
       "\n",
       "    .dataframe tbody tr th {\n",
       "        vertical-align: top;\n",
       "    }\n",
       "</style>\n",
       "<table border=\"1\" class=\"dataframe\">\n",
       "  <thead>\n",
       "    <tr style=\"text-align: right;\">\n",
       "      <th></th>\n",
       "      <th>Group</th>\n",
       "      <th>Date</th>\n",
       "      <th>Fed</th>\n",
       "      <th>Ate</th>\n",
       "      <th>POOTEF</th>\n",
       "    </tr>\n",
       "  </thead>\n",
       "  <tbody>\n",
       "    <tr>\n",
       "      <th>0</th>\n",
       "      <td>1</td>\n",
       "      <td>2018-10-01</td>\n",
       "      <td>40</td>\n",
       "      <td>37</td>\n",
       "      <td>0.925</td>\n",
       "    </tr>\n",
       "    <tr>\n",
       "      <th>1</th>\n",
       "      <td>1</td>\n",
       "      <td>2018-10-02</td>\n",
       "      <td>40</td>\n",
       "      <td>37</td>\n",
       "      <td>0.925</td>\n",
       "    </tr>\n",
       "    <tr>\n",
       "      <th>2</th>\n",
       "      <td>1</td>\n",
       "      <td>2018-10-03</td>\n",
       "      <td>40</td>\n",
       "      <td>35</td>\n",
       "      <td>0.875</td>\n",
       "    </tr>\n",
       "    <tr>\n",
       "      <th>3</th>\n",
       "      <td>1</td>\n",
       "      <td>2018-10-04</td>\n",
       "      <td>40</td>\n",
       "      <td>35</td>\n",
       "      <td>0.875</td>\n",
       "    </tr>\n",
       "    <tr>\n",
       "      <th>4</th>\n",
       "      <td>1</td>\n",
       "      <td>2018-10-05</td>\n",
       "      <td>40</td>\n",
       "      <td>36</td>\n",
       "      <td>0.900</td>\n",
       "    </tr>\n",
       "  </tbody>\n",
       "</table>\n",
       "</div>"
      ],
      "text/plain": [
       "   Group       Date  Fed  Ate  POOTEF\n",
       "0      1 2018-10-01   40   37   0.925\n",
       "1      1 2018-10-02   40   37   0.925\n",
       "2      1 2018-10-03   40   35   0.875\n",
       "3      1 2018-10-04   40   35   0.875\n",
       "4      1 2018-10-05   40   36   0.900"
      ]
     },
     "execution_count": 636,
     "metadata": {},
     "output_type": "execute_result"
    }
   ],
   "source": [
    "octoFrame = pd.read_csv(\"data/pootef.csv\", header=0)\n",
    "\n",
    "# this is, like, the dumbest possible way to do this, but it was the first way I got to work so I'm sticking to it\n",
    "# its four repeating DF's of Oct 1 - Oct 31\n",
    "dates = pd.DataFrame({\"Date\": pd.date_range(\"2018-10-01\", \"2018-10-31\")}).append(pd.DataFrame({\"Date\": pd.date_range(\"2018-10-01\", \"2018-10-31\")}),ignore_index=True)\n",
    "dates = dates.append(pd.DataFrame({\"Date\": pd.date_range(\"2018-10-01\", \"2018-10-31\")}).append(pd.DataFrame({\"Date\": pd.date_range(\"2018-10-01\", \"2018-10-31\")}),ignore_index=True),ignore_index=True)\n",
    "\n",
    "octoFrame[\"Date\"] = dates\n",
    "octoFrame[\"POOTEF\"] = octoFrame.apply(lambda row: row['Ate'] / row['Fed'], axis=1)\n",
    "octoFrame.head()"
   ]
  },
  {
   "cell_type": "markdown",
   "metadata": {},
   "source": [
    "**Part A**: State the null and alternate hypotheses that Nefaria should test to see if her new feeding regimen is an improvement over the aquarium's standard feeding regimen with a POOTEF of $0.90$. "
   ]
  },
  {
   "cell_type": "markdown",
   "metadata": {},
   "source": [
    "$$H_0: POOTEF = 0.90$$\n",
    "$$H_1: POOTEF > 0.90$$"
   ]
  },
  {
   "cell_type": "markdown",
   "metadata": {},
   "source": [
    "**Part B**: Test the hypothesis from **Part A** at the $\\alpha = 0.01$ significance level using a p-value test. Is there sufficient evidence for Nefaria to conclude that her feeding regimen is an improvement?   "
   ]
  },
  {
   "cell_type": "code",
   "execution_count": 637,
   "metadata": {},
   "outputs": [
    {
     "name": "stdout",
     "output_type": "stream",
     "text": [
      "CI: [0.89140489301476977, 0.91303059085619798]\n",
      "*** p_value_test running\n",
      "p_hat : 0.9022177419354839, sigma_null: 0.026940795304\n",
      "p_value Test Failed: (p_val of 0.467196484469) > (alpha of 0.01)\n"
     ]
    },
    {
     "data": {
      "text/plain": [
       "{'p_val': 0.46719648446856632, 'succeed': False}"
      ]
     },
     "execution_count": 637,
     "metadata": {},
     "output_type": "execute_result"
    }
   ],
   "source": [
    "# Did a quick CI just to practice ##\n",
    "POOTEF_bar = octoFrame['POOTEF'].mean()\n",
    "POOTEF_numOfSamples = len(octoFrame)\n",
    "POOTEF_sigma = octoFrame['POOTEF'].std()\n",
    "alpha = 0.01\n",
    "zAover2 = stats.norm.ppf(1 - alpha/2)\n",
    "\n",
    "CI = [POOTEF_bar - zAover2*(POOTEF_sigma/np.sqrt(POOTEF_numOfSamples)), POOTEF_bar + zAover2*(POOTEF_sigma/np.sqrt(POOTEF_numOfSamples))]\n",
    "\n",
    "print(\"CI: %s\" % CI)\n",
    "\n",
    "def p_value_test(df, p_null=.9, attr=\"POOTEF\", alpha = 0.01, supress=False):\n",
    "    if not supress:\n",
    "        print(\"*** p_value_test running\")\n",
    "    p_hat = df[attr].mean()\n",
    "    n = len(df)\n",
    "    sigma_null = np.sqrt((p_null*(1-p_null))/n)\n",
    "    z = (p_hat - p_null)/sigma_null\n",
    "    p_val = 1 - stats.norm.cdf(z)\n",
    "    if not supress:\n",
    "        print(\"p_hat : %s, sigma_null: %s\" % (p_hat, sigma_null))\n",
    "    if p_val<=alpha:\n",
    "        if not supress:\n",
    "            print(\"P Value Test Succeeded, (p_val of %s) <= (alpha of %s)\" % (p_val,alpha))\n",
    "        return {\"succeed\": True, \"p_val\": p_val}\n",
    "    else:\n",
    "        if not supress:\n",
    "            print(\"p_value Test Failed: (p_val of %s) > (alpha of %s)\" % (p_val,alpha))\n",
    "        return {\"succeed\": False, \"p_val\": p_val}\n",
    "\n",
    "\n",
    "p_value_test(octoFrame)"
   ]
  },
  {
   "cell_type": "markdown",
   "metadata": {},
   "source": [
    "I ran a CI to double check my work (its what is commented out above). The p value I get is **much** larger than $\\alpha = .01$ so this does not reject my null hypothesis. I ran the CI, which includes 0.90 so I cannot safely say that the new POOTEF value is not statistically better."
   ]
  },
  {
   "cell_type": "markdown",
   "metadata": {},
   "source": [
    "**Part C**: Bummer, Nefaria thinks. This is the part where she decides to resort to some questionable science.  Maybe there is a reasonable _subset_ of the data for which her alternative hypothesis is supported?  Can she find it?  Can she come up for a reasonable justification for why this subset of the data should be considered while the rest should be discarded? \n",
    "\n",
    "Here are the **rules**: Nefaria cannot modify the original data (e.g. by adding nonexistent feedings or bites to certain groups or days) because her boss will surely notice.  Instead she needs to find a subset of the data for which her hypothesis is supported by a p-value test at the $\\alpha = 0.01$ significance level _and_ be able to explain to her supervisors why her sub-selection of the data is reasonable.  \n",
    "\n",
    "In addition to your explanation of why your successful subset of the data is potentially reasonable, be sure to thoroughly explain the details of the tests that you perform and show all of your Python computation.  "
   ]
  },
  {
   "cell_type": "code",
   "execution_count": 638,
   "metadata": {},
   "outputs": [
    {
     "name": "stdout",
     "output_type": "stream",
     "text": [
      "Day of week:  [0.5, 0.51486426008737474, 0.52970789208512459, 0.41748435317947752, 0.40936968967191889, 0.4420264805023395, 0.59063031032808166]\n",
      "Date visible by: [0.46719648446856632, 0.53856714963831576, 0.49999999999999911, 0.44987064934358589, 0.43916242505051861, 0.52970789208512659, 0.59063031032808166, 0.51918671684693118, 0.47123379370720908, 0.5, 0.55855787424935333, 0.44144212575064756, 0.45309280787746431, 0.59316814211660418]\n",
      "Group:  [0.50597078947232232, 0.35971877221169535, 0.52386978960300823, 0.54765420300511114]\n"
     ]
    }
   ],
   "source": [
    "# day of the week\n",
    "day_week = []\n",
    "for i in range(7):\n",
    "    questionableOctoFrame = octoFrame.loc[(octoFrame[\"Date\"].dt.dayofweek == i)]\n",
    "    day_week.append(p_value_test(questionableOctoFrame, supress=True)['p_val'])\n",
    "print(\"Day of week: \", day_week)\n",
    "    \n",
    "# date divisible\n",
    "date_div = []\n",
    "for i in range(1,15):\n",
    "    questionableOctoFrame = octoFrame.loc[(octoFrame[\"Date\"].dt.day % i == 0)]\n",
    "    date_div.append(p_value_test(questionableOctoFrame, supress=True)['p_val'])\n",
    "print(\"Date visible by:\", date_div)\n",
    "\n",
    "group = []\n",
    "for i in range(1,5):\n",
    "    questionableOctoFrame = octoFrame.loc[(octoFrame[\"Group\"] == i)]\n",
    "    group.append(p_value_test(questionableOctoFrame, supress=True)['p_val'])\n",
    "print(\"Group: \", group)\n",
    "\n",
    "\n",
    "\n",
    "# catch = False\n",
    "# while catch is not True:\n",
    "#     questionableOctoFrame = octoFrame.sample(n=60)\n",
    "#     catch = p_value_test(questionableOctoFrame, supress=True)\n",
    "# print (questionableOctoFrame)"
   ]
  },
  {
   "cell_type": "markdown",
   "metadata": {},
   "source": [
    "This was really hard for me. The more I paired down my data to increase my `p_hat` the more I increased my standard deviation, which in return made it harder to get a lower `p_value`. This makes sense, the less data you sample, the less confident you can be to reject a hypothesis. The `p_value` test is basically saying \"you're not far enough past the standard deviation to safely say we can reject $H_0$\".\n",
    "\n",
    "After a really long time trying this I finally tried `questionableOctoFrame = octoFrame.loc[(octoFrame[\"Ate\"] > 37)]` and still didn't succeed, so some part of my implementation must be off, as sure getting only high proportions should lead to a successful p_value test.\n",
    "\n",
    "However I tried a lot along the way. I ran through every day of the week, by doing `octoFrame.loc[(octoFrame[\"Date\"].dt.dayofweek == i)]` and seeing if I could get a lower p_value from that. I then tried `octoFrame.loc[(octoFrame[\"Date\"].dt.day % i == 0)]` to see if going every other day, every third day, every fourth day, etc. would get a better p_value. I then going group by group by doing `octoFrame.loc[(octoFrame[\"Group\"] == i)]` to see if one group performs better (Group 2 does). I then combined some of the best performing filters, none of which got me a p_value any lower than .3. I then tried just randomly sampling 60 samples until I got a success, and that ran for like 5 minutes without success (LOL). So, as others in Piazza, I think the way I calculate `n` is wrong."
   ]
  },
  {
   "cell_type": "markdown",
   "metadata": {},
   "source": [
    "---\n",
    "[Back to top](#top)\n",
    "<a id='p5'></a>\n",
    "\n",
    "### [20 points] Problem 5 - Simple Linear Regression for the Consumption of Ice Cream Treats\n",
    "\n",
    "[Usain O'Flaherty](https://www.youtube.com/watch?v=LVeLz0FIj9A), the famous octopus athlete of the distinguished O'Flaherty family, has been keeping careful track of how much ice cream he eats after his training runs. He has stored the data in `icecream.csv`, where his ice cream consumption is measured in number of scoops, and his run distances are saved in units of miles. In this exercise you will construct a simple linear regression model for the response variable \"amount of ice cream consumed\" (`scoops`), using \"number of miles run\" (`miles`) as the feature. Load the data into a Pandas DataFrame."
   ]
  },
  {
   "cell_type": "code",
   "execution_count": 639,
   "metadata": {},
   "outputs": [
    {
     "data": {
      "text/html": [
       "<div>\n",
       "<style>\n",
       "    .dataframe thead tr:only-child th {\n",
       "        text-align: right;\n",
       "    }\n",
       "\n",
       "    .dataframe thead th {\n",
       "        text-align: left;\n",
       "    }\n",
       "\n",
       "    .dataframe tbody tr th {\n",
       "        vertical-align: top;\n",
       "    }\n",
       "</style>\n",
       "<table border=\"1\" class=\"dataframe\">\n",
       "  <thead>\n",
       "    <tr style=\"text-align: right;\">\n",
       "      <th></th>\n",
       "      <th>miles</th>\n",
       "      <th>scoops</th>\n",
       "    </tr>\n",
       "  </thead>\n",
       "  <tbody>\n",
       "    <tr>\n",
       "      <th>0</th>\n",
       "      <td>14.300531</td>\n",
       "      <td>8.922252</td>\n",
       "    </tr>\n",
       "    <tr>\n",
       "      <th>1</th>\n",
       "      <td>9.361511</td>\n",
       "      <td>4.720254</td>\n",
       "    </tr>\n",
       "    <tr>\n",
       "      <th>2</th>\n",
       "      <td>13.929330</td>\n",
       "      <td>8.567314</td>\n",
       "    </tr>\n",
       "    <tr>\n",
       "      <th>3</th>\n",
       "      <td>12.673436</td>\n",
       "      <td>8.855122</td>\n",
       "    </tr>\n",
       "    <tr>\n",
       "      <th>4</th>\n",
       "      <td>16.055107</td>\n",
       "      <td>9.409772</td>\n",
       "    </tr>\n",
       "  </tbody>\n",
       "</table>\n",
       "</div>"
      ],
      "text/plain": [
       "       miles    scoops\n",
       "0  14.300531  8.922252\n",
       "1   9.361511  4.720254\n",
       "2  13.929330  8.567314\n",
       "3  12.673436  8.855122\n",
       "4  16.055107  9.409772"
      ]
     },
     "execution_count": 639,
     "metadata": {},
     "output_type": "execute_result"
    }
   ],
   "source": [
    "dfTreats = pd.read_csv(\"data/icecream.csv\")\n",
    "dfTreats.head()"
   ]
  },
  {
   "cell_type": "markdown",
   "metadata": {},
   "source": [
    "**Part A**: Perform a simple linear regression with `miles` as the feature and `scoops` as the response.  Report the estimated regression model in the form $Y = \\alpha + \\beta x$. Do all computations in Python. "
   ]
  },
  {
   "cell_type": "code",
   "execution_count": 640,
   "metadata": {},
   "outputs": [
    {
     "name": "stdout",
     "output_type": "stream",
     "text": [
      "Y = 2.72 + 0.43x\n"
     ]
    }
   ],
   "source": [
    "miles_bar = dfTreats[\"miles\"].mean()\n",
    "scoops_bar = dfTreats[\"scoops\"].mean()\n",
    "n = len(dfTreats)\n",
    "num = 0\n",
    "denom = 0\n",
    "for i in range(n):\n",
    "    num += (dfTreats[\"miles\"].iloc[0]-miles_bar)*(dfTreats[\"scoops\"].iloc[0]-scoops_bar)\n",
    "    denom += pow((dfTreats[\"miles\"].iloc[0]-miles_bar),2)\n",
    "beta_hat = num/denom\n",
    "alpha_hat = scoops_bar-beta_hat * miles_bar\n",
    "print(\"Y = %.2f + %.2fx\" % (alpha_hat,beta_hat))"
   ]
  },
  {
   "cell_type": "markdown",
   "metadata": {},
   "source": [
    "**Part B**: Make a scatter-plot of the data with `miles` as the feature and `scoops` as the response, and overlay the estimated regression line.  Clearly label all relevant plot elements and include a legend."
   ]
  },
  {
   "cell_type": "code",
   "execution_count": 641,
   "metadata": {},
   "outputs": [
    {
     "data": {
      "text/plain": [
       "<matplotlib.legend.Legend at 0x11b23bd68>"
      ]
     },
     "execution_count": 641,
     "metadata": {},
     "output_type": "execute_result"
    },
    {
     "data": {
      "image/png": "[encoded data removed]",
      "text/plain": [
       "<matplotlib.figure.Figure at 0x11b197048>"
      ]
     },
     "metadata": {},
     "output_type": "display_data"
    }
   ],
   "source": [
    "# taken straight from https://github.com/dblarremore/csci3022/blob/master/notebooks/nb20_regression.ipynb\n",
    "\n",
    "fig, ax = plt.subplots(nrows=1,ncols=1,figsize=(8,6))\n",
    "ax.scatter(dfTreats[\"miles\"],dfTreats[\"scoops\"],color=\"blue\",alpha=\".5\",label=\"Data\")\n",
    "ax.plot(dfTreats[\"miles\"],alpha_hat+dfTreats[\"miles\"]*beta_hat,color=\"green\",label=\"Regression Line\")\n",
    "ax.set_xlabel(\"x\", fontsize=16)\n",
    "ax.set_ylabel(\"y\", fontsize=16)\n",
    "plt.legend()"
   ]
  },
  {
   "cell_type": "markdown",
   "metadata": {},
   "source": [
    "**Part C**: Give a physical interpretation of the coefficients $\\hat{\\alpha}$ and $\\hat{\\beta}$, estimated from your model. Is the relationship between run lengths and ice cream consumption positive or negative? Fully justify your responses."
   ]
  },
  {
   "cell_type": "markdown",
   "metadata": {},
   "source": []
  },
  {
   "cell_type": "markdown",
   "metadata": {},
   "source": [
    "**Part D**: How much ice cream does your simple linear regression model predict the runner will consume if they run a marathon (26.2 miles)? What are potential drawbacks to this model for ice cream consumption?"
   ]
  },
  {
   "cell_type": "code",
   "execution_count": 642,
   "metadata": {},
   "outputs": [
    {
     "data": {
      "text/plain": [
       "14.085997407808167"
      ]
     },
     "execution_count": 642,
     "metadata": {},
     "output_type": "execute_result"
    }
   ],
   "source": [
    "def model_ice_cream(x,alpha_hat=2.7165711057398911,beta_hat=0.43394756878123192):\n",
    "    return alpha_hat + x * beta_hat\n",
    "\n",
    "model_ice_cream(26.2)"
   ]
  },
  {
   "cell_type": "markdown",
   "metadata": {},
   "source": [
    "My model estimates 14.1 scoops of ice cream. This model has no upper or lower bounds, which seems pretty unrealistic, as certainly an octopus has an upper bound of how much ice cream they can eat. "
   ]
  },
  {
   "cell_type": "markdown",
   "metadata": {},
   "source": [
    "**Part E:** Compute a 66% confidence interval for the slope parameter, $\\beta$, ***by hand***. This means performing all calculations yourself in Python, as opposed to calling a simple Python function that gives you the result."
   ]
  },
  {
   "cell_type": "code",
   "execution_count": 643,
   "metadata": {
    "collapsed": true
   },
   "outputs": [],
   "source": [
    "# a = .34\n",
    "# p = 1 - a/2\n",
    "# sigma = dfTreats[\"scoops\"].std()\n"
   ]
  },
  {
   "cell_type": "markdown",
   "metadata": {
    "collapsed": true
   },
   "source": []
  },
  {
   "cell_type": "markdown",
   "metadata": {
    "collapsed": true
   },
   "source": [
    "**Part F**: Are there any other features you think should be added to the model, making this a *multiple* linear regression model?"
   ]
  },
  {
   "cell_type": "markdown",
   "metadata": {},
   "source": []
  }
 ],
 "metadata": {
  "kernelspec": {
   "display_name": "Python 3",
   "language": "python",
   "name": "python3"
  },
  "language_info": {
   "codemirror_mode": {
    "name": "ipython",
    "version": 3
   },
   "file_extension": ".py",
   "mimetype": "text/x-python",
   "name": "python",
   "nbconvert_exporter": "python",
   "pygments_lexer": "ipython3",
   "version": "3.6.1"
  }
 },
 "nbformat": 4,
 "nbformat_minor": 2
}

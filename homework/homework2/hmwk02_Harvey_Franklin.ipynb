{
 "cells": [
  {
   "cell_type": "markdown",
   "metadata": {},
   "source": [
    "<a/ id='top'></a>\n",
    "# Homework 2: Introduction to Probability and Simulation \n",
    "***\n",
    "\n",
    "**Name**: \n",
    "\n",
    "***\n",
    "\n",
    "This assignment is due on Moodle by **5 PM on Friday September 28**. Your solutions to theoretical questions should be done in Markdown/MathJax directly below the associated question.  Your solutions to computational questions should include any specified Python code and results as well as written commentary on your conclusions.  Remember that you are encouraged to discuss the problems with your instructors and classmates, but **you must write all code and solutions on your own**. \n",
    "\n",
    "**NOTES**: \n",
    "\n",
    "- It is **bad form** to make your reader interpret numerical output from your code.  If a question asks you to compute some value from the data you should show your code output **AND** write a summary of the results in Markdown directly below your code.\n",
    "- Because you can technically evaluate notebook cells in a non-linear order, it's a good idea to do Cell $\\rightarrow$ Run All as a check before submitting your solutions.  That way if we need to run your code you will know that it will work as expected.\n",
    "- Leave all of your code cells executed and the output displayed before submitting your final notebook. That way, we do not need to re-run all of the simulations, which can be time-consuming.\n",
    "- Submit only this Jupyter notebook to Moodle.  Do not compress it using tar, rar, zip, etc. \n",
    "\n",
    "---\n",
    "**Shortcuts:**  [Problem 1](#p1) | [Problem 2](#p2) | [Problem 3](#p3) | [Problem 4](#p4) | [Problem 5](#p5) | [Challenge!](#ch)\n",
    "\n",
    "---"
   ]
  },
  {
   "cell_type": "code",
   "execution_count": 121,
   "metadata": {
    "scrolled": true
   },
   "outputs": [],
   "source": [
    "import pandas as pd\n",
    "import numpy as np\n",
    "import matplotlib.pylab as plt\n",
    "import random\n",
    "%matplotlib inline"
   ]
  },
  {
   "cell_type": "markdown",
   "metadata": {},
   "source": [
    "***\n",
    "<a/ id='p1'></a>\n",
    "[Back to top](#top)\n",
    "\n",
    "### [20 points] Problem 1\n",
    "\n",
    "To play a game, you have a bag containing 28 fair [four-sided dice](https://en.wikipedia.org/wiki/Four-sided_die), with faces `{1,2,3,4}`.  This bag also contains 10 fair six-sided dice (faces `{1,2,3,4,5,6}`) and 2 fair twenty-sided dice (faces `{1,2,3,4,...,19,20}`).  Call these 3 classes of die \"Four\", \"Six\" and \"Twenty\" (or F, S, and T, for short).  You grab one die at random from the box.  \n",
    "\n",
    "Work the following problems by hand unless otherwise stated (but don't be afraid to simulate to check your result!). "
   ]
  },
  {
   "cell_type": "markdown",
   "metadata": {},
   "source": [
    "**Part A**: You roll your die one time.  What is the probability of the event $R_5$, that you roll a 5?  Include at least 4 decimal places in your answer."
   ]
  },
  {
   "cell_type": "markdown",
   "metadata": {},
   "source": [
    "### Answer\n",
    "* $P(S)$ = 10/40\n",
    "* $P(R_5|S)$ = 1/6\n",
    "* $P(T)$ = 2/40\n",
    "* $P(R_5|T)$ = 1/20\n",
    "* $P(R_5) = P(S)P(R_5|S) + P(T)P(R_5|T)$\n",
    "* $P(R_5) = 10/40*1/6 + 2/40*1/20$\n",
    "* $P(R_5) = 0.044167$"
   ]
  },
  {
   "cell_type": "markdown",
   "metadata": {},
   "source": [
    "**Part B**: Suppose you roll a 5.  What is the probability that the die you chose from the box is a Six-sided die? "
   ]
  },
  {
   "cell_type": "markdown",
   "metadata": {},
   "source": [
    "### Answer\n",
    "Since we know $P(S)$, $P(R_5|S)$, and $P(R_5)$, we can just use $P(S|R_5) = (P(R_5|S)P(S)) / P(R_5)$.\n",
    "* $(P(R_5|S)P(S)) / P(R_5) = ((1/6)(10/40))/0.044167$\n",
    "* $(P(R_5|S)P(S)) / P(R_5) = 0.9433891$"
   ]
  },
  {
   "cell_type": "markdown",
   "metadata": {},
   "source": [
    "**Part C:**  Are the events $R_5$ and $S$ independent?  Justify your answer **using math**."
   ]
  },
  {
   "cell_type": "markdown",
   "metadata": {},
   "source": [
    "### Answer\n",
    "\n",
    "$P(R_5) \\neq P(R_5|S)$ *and* $P(S) \\neq P(S|R_5)$\n",
    "\n",
    "**therefore**\n",
    "\n",
    "$P(R_5)$ and $P(S)$ are **not** independent\n"
   ]
  },
  {
   "cell_type": "markdown",
   "metadata": {},
   "source": [
    "**Part D:**  Suppose you roll your die $n$ times and record each outcome.  Obviously, if you roll 5 or 6 you know you did *not* pick a Four-sided die, and if you roll a 7 or higher, you must have picked a Twenty-sided die.\n",
    "\n",
    "But, if you roll $n$ times in a row and get only 1, 2, 3 or 4, you would have a stronger belief that you in fact grabbed one of the Four-sided dice.  Let $E_n$ be the event that you roll $n$ rolls of 1, 2, 3 or 4 in a row.  For example, one outcome in $E_3$ is the sequence 2, 3, 1.\n",
    "\n",
    "Given that you roll a single value of 1, 2, 3 or 4, what is the probability that you have grabbed a Four-sided die?  That is, calculate **by hand** $P(F \\mid E_1)$."
   ]
  },
  {
   "cell_type": "markdown",
   "metadata": {},
   "source": [
    "### Answer\n",
    "\n",
    "* $P(F) = 28/40$\n",
    "* $P(S) = 10/40$\n",
    "* $P(T) = 2/40$\n",
    "\n",
    "\n",
    "* $P(E_1|F) = 1$\n",
    "* $P(E_1|S) = 4/6$\n",
    "* $P(E_1|T) = 4/20$\n",
    "\n",
    "\n",
    "* $P(E_1) = P(F)P(E_1|F) + P(S)P(E_1|F) + P(T)P(E_1|T)$\n",
    "* $P(E_1) = (28/40)(1) + (10/40)(4/6) + (2/40)(4/20)$\n",
    "* $P(E_1) = 0.8767$\n",
    "\n",
    "So as before\n",
    "\n",
    "* $P(F|E_1) = (P(E_1|F)(P(F))/P(E_1)$\n",
    "* $P(F|E_1) = ((1)(28/40))/(0.8767)$\n",
    "* $P(F|E_1) = 0.7984$"
   ]
  },
  {
   "cell_type": "markdown",
   "metadata": {},
   "source": [
    "**Part E**:  \n",
    "\n",
    "First, work out **by hand** a formula for the probability in general that you are rolling a Four-sided die, given that you have rolled $n$ values in a row that are 1, 2, 3 or 4 (that is, $E_n$).  So you want a formula for $P(F \\mid E_n)$ in terms of $n$.\n",
    "\n",
    "Then, define a function `prob_four` to calculate $P(F \\mid E_n)$.  This function should only take one positive integer argument, $n$.\n",
    "\n",
    "Verify that your function is performing as expected by checking your answer to **Part D**."
   ]
  },
  {
   "cell_type": "markdown",
   "metadata": {},
   "source": [
    "### Answer\n",
    "\n",
    "* $P(F) = 28/40$\n",
    "* $P(S) = 10/40$\n",
    "* $P(T) = 2/40$\n",
    "\n",
    "\n",
    "* $P(E_n|F) = P(E_1|F)^n => P(E_n|F) = (1)^n$\n",
    "* $P(E_n|S) = P(E_1|S)^n => P(E_n|S) = (4/6)^n$\n",
    "* $P(E_n|T) = P(E_1|T)^n => P(E_n|T) = (4/20)^n$\n",
    "\n",
    "\n",
    "* $P(E_n) = P(F)P(E_n|F) + P(S)P(E_n|F) + P(T)P(E_n|T)$\n",
    "* $P(E_n) = (28/40)(1)^n + (10/40)(4/6)^n + (2/40)(4/20)^n$\n",
    "\n",
    "and so as before\n",
    "\n",
    "* $P(F|E_n) = (P(E_n|F)(P(F))/P(E_n)$\n",
    "* $P(F|E_n) = ((1)(28/40)/((28/40)(1)^n + (10/40)(4/6)^n + (2/40)(4/20)^n)$"
   ]
  },
  {
   "cell_type": "code",
   "execution_count": 122,
   "metadata": {
    "collapsed": true
   },
   "outputs": [],
   "source": [
    "def prob_four(n):\n",
    "    # obviously a lot could be simplified but I left it all spelled out for easier checking and going back on my part\n",
    "    return ((28/40)/((28/40)*(1**n) + (1/4)*(4/6)**n + (2/40)*(4/20)**n))\n",
    "\n",
    "# prob_four(5)"
   ]
  },
  {
   "cell_type": "markdown",
   "metadata": {},
   "source": [
    "**Part F:**  What is the smallest value of $n$ successive rolls of 1, 2, 3 or 4 that would make you believe that there's a better-than-95% chance that the die you grabbed is Four-sided?  Plugging larger and larger values for $n$ into your `prob_four` function is a very reasonable way to check this."
   ]
  },
  {
   "cell_type": "markdown",
   "metadata": {},
   "source": [
    "### Answer\n",
    "\n",
    "According to my function, you need $n\\geq5$ to get a $>95\\%$ chance of a four sided die."
   ]
  },
  {
   "cell_type": "markdown",
   "metadata": {},
   "source": [
    "***\n",
    "<a/ id='p2'></a>\n",
    "[Back to top](#top)\n",
    "\n",
    "### [20 points] Problem 2\n",
    "\n",
    "Oscar and Stella are two average young adult octopuses. They work hard, but they also like to blow off a little steam after work. When they leave work from the CU Engineering Center ($E~$), they each head for one of five other locations: the Gym to get strong ($G~$), the Library to get learned ($L~$), the Boulder Reservoir to have a nice swim ($R$), the Hill to have a sandwich ($H~$), or to Brewing Market to have a nice Coffee ($C~$).  \n",
    "\n",
    "Here are some rules governing their movements throughout the fair city of Boulder:\n",
    "* When Oscar and/or Stella is leaving one location, they randomly select one of the available adjacent locations, with equal probability.\n",
    "* This includes back-tracking, but note that to return to their original location would require 2 moves.\n",
    "* Assume that all moves require the same amount of time.\n",
    "* They are also not allowed to stay put; they always must move to some *other* adjacent location.\n",
    "* Oscar and Stella, being the think-for-yourselfers that they are, also act **independently** of one another. That is, the probability that Oscar goes from one place to another is independent of the probability of Stella's movements.\n",
    "* As we learned from your answers to Problem 5 of Homework 1, Stella and Oscar of course prefer to *walk* from place to place, as opposed to swim... because one of an octopus' *three* hearts will stop beating when it swims. Yowza!\n",
    "\n",
    "<img src=\"http://www.cs.colorado.edu/~tonyewong/home/resources/chris_and_dan_statespace.png\" style=\"width: 300px;\"/>"
   ]
  },
  {
   "cell_type": "markdown",
   "metadata": {},
   "source": [
    "**Part A**: Oscar, being a learned octopus, wants to go to the library, but also wants to make a stop somewhere else first, for he has octopus errands to run. Compute (by hand) the probability that Oscar ends up at the the Library ($L$) after first visiting one other location, after he is initially at the Engineering Center ($E$). "
   ]
  },
  {
   "cell_type": "markdown",
   "metadata": {},
   "source": [
    "### Answer\n",
    "\n",
    "There are 3 places Oscar can go to from ($E$) while excluding ($L$): ($C$), ($G$), and ($R$). After two moves from ($E$), there are several paths Oscar could have taken (again excluding ($L$) as a first move):\n",
    "* ($E$), ($R$), ($G$)\n",
    "* ($E$), ($R$), ($E$)\n",
    "* ($E$), ($G$), ($R$)\n",
    "* ($E$), ($G$), ($L$)\n",
    "* ($E$), ($G$), ($E$)\n",
    "* ($E$), ($G$), ($H$)\n",
    "* ($E$), ($C$), ($E$)\n",
    "* ($E$), ($C$), ($L$)\n",
    "* ($E$), ($C$), ($H$)\n",
    "\n",
    "and two of these end with ($L$) so the probability is **2/9**. If we allow ($L$) as a first move this drops to a probability of **2/13**."
   ]
  },
  {
   "cell_type": "markdown",
   "metadata": {},
   "source": [
    "**Part B**: Stella, on the other tentacle, is a body-building octopus. This is quite the feat given her lack of bones! Compute (by hand) the probability that Stella ends up at the Gym _either_ as her first _or_ second location visited after leaving the Reservsoir. (Again, assume that Stella wanders the streets of Boulder randomly using the same rules described above.)"
   ]
  },
  {
   "cell_type": "markdown",
   "metadata": {},
   "source": [
    "### Answer\n",
    "\n",
    "I will write out all 1 and 2 step paths from ($R$):\n",
    "* ($R$), ($G$)\n",
    "* ($R$), ($E$)\n",
    "* ($R$), ($G$), ($H$)\n",
    "* ($R$), ($G$), ($L$)\n",
    "* ($R$), ($G$), ($E$)\n",
    "* ($R$), ($E$), ($G$)\n",
    "* ($R$), ($E$), ($L$)\n",
    "* ($R$), ($E$), ($C$)\n",
    "\n",
    "and two of these end with ($G$) so the probability is **2/8**. However, there's a 1 in 2 probability that Stella goes straight from ($R$) to ($G$), so the probability is actually $1/2 + 1/4$."
   ]
  },
  {
   "cell_type": "markdown",
   "metadata": {},
   "source": [
    "**Part C**: Suppose that Oscar works late at the Engineering Center, while Stella goes to the Hill.  Later, they both leave and wander around, randomly and independently of one another, as described above.\n",
    "1. What is the probability that they run into each other in the same location on the first location visited?  \n",
    "2. Given their two initial locations, what is the probability that they meet at the Hill after 2 moves?"
   ]
  },
  {
   "cell_type": "markdown",
   "metadata": {},
   "source": [
    "### Answer\n",
    "Possible 2-step Oscar moves:\n",
    "* ($E$), ($G$), ($R$)\n",
    "* ($E$), ($G$), ($L$)\n",
    "* ($E$), ($G$), ($H$)\n",
    "* ($E$), ($G$), ($E$)\n",
    "* ($E$), ($R$), ($E$)\n",
    "* ($E$), ($R$), ($G$)\n",
    "* ($E$), ($C$), ($E$)\n",
    "* ($E$), ($C$), ($L$)\n",
    "* ($E$), ($C$), ($H$)\n",
    "* ($E$), ($L$), ($E$)\n",
    "* ($E$), ($L$), ($C$)\n",
    "* ($E$), ($L$), ($H$)\n",
    "* ($E$), ($L$), ($G$)\n",
    "\n",
    "Possible 2-step Stella moves:\n",
    "* ($H$), ($G$), ($H$)\n",
    "* ($H$), ($G$), ($L$)\n",
    "* ($H$), ($G$), ($E$)\n",
    "* ($H$), ($G$), ($R$)\n",
    "* ($H$), ($L$), ($H$)\n",
    "* ($H$), ($L$), ($G$)\n",
    "* ($H$), ($L$), ($E$)\n",
    "* ($H$), ($L$), ($C$)\n",
    "* ($H$), ($C$), ($H$)\n",
    "* ($H$), ($C$), ($L$)\n",
    "* ($H$), ($C$), ($E$)\n",
    "\n",
    "##### Part 1\n",
    "\n",
    "\n",
    "Oscar has 4 possible first moves, while Stella has 3. They can only meet at 3 possible locations: ($G$), ($L$), and ($C$). Oscar has a 1 in 4 chance of each of those, Stella has a 1 in 3 chance of each of those. So the probability of them meeting is 1 in 12.\n",
    "\n",
    "##### Part 2\n",
    "\n",
    "3 of Stella's 2 part paths end in her being on the hill, which is the same for Oscar. So Stella has a 3 in 11 chance of being on the hill, and Oscar has a 3 in 13 chance of being on the hill. So they have a 9 in 143 chance of meeting on the hill after 2 steps."
   ]
  },
  {
   "cell_type": "markdown",
   "metadata": {},
   "source": [
    "**Part D**: Write a simulation to confirm that your by-hand calculations in **Part A**, **Part B**, and **Part C** are correct. Make sure you run your simulations for enough trials that your estimates are reasonably close to your analytic results. In addition to showing your code, you should explain in Markdown (not just in code comments) what your code is doing and why it is a reasonable approximation of the probabilities in **Part A**, **Part B**, and **Part C**.  "
   ]
  },
  {
   "cell_type": "code",
   "execution_count": 123,
   "metadata": {},
   "outputs": [
    {
     "name": "stdout",
     "output_type": "stream",
     "text": [
      "Part A: 0.1523\n",
      "Part B: 0.6282\n",
      "Part C 1: 0.2536\n",
      "Part C 2: 0.0574\n"
     ]
    }
   ],
   "source": [
    "def part_A_sim(repeat=10000):\n",
    "    # from E to L on second step\n",
    "    start = \"E\"\n",
    "    end = \"L\"\n",
    "    g = {'H': ['G','L','C'],\n",
    "        'G': ['H','L','R','E'],\n",
    "        'L': ['H','G','C','E'],\n",
    "        'C': ['H','L','E'],\n",
    "        'E': ['G','L','C','R'],\n",
    "        'R': ['G','E']}\n",
    "    found = 0\n",
    "    for i in range(0,repeat):\n",
    "        foundEnd = random.choice(list(g[start]))\n",
    "        foundEnd = random.choice(list(g[foundEnd]))\n",
    "        if foundEnd == end:\n",
    "            found += 1\n",
    "    return (found/repeat)\n",
    "\n",
    "def part_B_sim(repeat=10000):\n",
    "    # from R to G on first or second step\n",
    "    start = \"R\"\n",
    "    end = \"G\"\n",
    "    g = {'H': ['G','L','C'],\n",
    "        'G': ['H','L','R','E'],\n",
    "        'L': ['H','G','C','E'],\n",
    "        'C': ['H','L','E'],\n",
    "        'E': ['G','L','C','R'],\n",
    "        'R': ['G','E']}\n",
    "    found = 0\n",
    "    for i in range(0,repeat):\n",
    "        foundEnd = random.choice(list(g[start]))\n",
    "        if foundEnd == end:\n",
    "            found += 1\n",
    "        foundEnd = random.choice(list(g[foundEnd]))\n",
    "        if foundEnd == end:\n",
    "            found += 1\n",
    "    return (found/repeat)\n",
    "\n",
    "def part_C_1_sim(repeat=10000):\n",
    "    oscarStart = 'E'\n",
    "    stellaStart = 'H'\n",
    "    g = {'H': ['G','L','C'],\n",
    "        'G': ['H','L','R','E'],\n",
    "        'L': ['H','G','C','E'],\n",
    "        'C': ['H','L','E'],\n",
    "        'E': ['G','L','C','R'],\n",
    "        'R': ['G','E']}\n",
    "    found = 0\n",
    "    for i in range(0,repeat):\n",
    "        newOscar = random.choice(list(g[oscarStart]))\n",
    "        newStella = random.choice(list(g[stellaStart]))\n",
    "        if newOscar==newStella:\n",
    "            found += 1\n",
    "    return (found/repeat)\n",
    "\n",
    "def part_C_2_sim(repeat=10000):\n",
    "    oscarStart = 'E'\n",
    "    stellaStart = 'H'\n",
    "    end = 'H'\n",
    "    g = {'H': ['G','L','C'],\n",
    "        'G': ['H','L','R','E'],\n",
    "        'L': ['H','G','C','E'],\n",
    "        'C': ['H','L','E'],\n",
    "        'E': ['G','L','C','R'],\n",
    "        'R': ['G','E']}\n",
    "    found = 0\n",
    "    for i in range(0,repeat):\n",
    "        newOscar = random.choice(list(g[oscarStart]))\n",
    "        newOscar = random.choice(list(g[newOscar]))\n",
    "        newStella = random.choice(list(g[stellaStart]))\n",
    "        newStella = random.choice(list(g[newStella]))\n",
    "        if newOscar == newStella and newStella == end:\n",
    "            found += 1\n",
    "    return (found/repeat)\n",
    "print(\"Part A: \" + str(part_A_sim()))\n",
    "print(\"Part B: \" + str(part_B_sim()))\n",
    "print(\"Part C 1: \" + str(part_C_1_sim()))\n",
    "print(\"Part C 2: \" + str(part_C_2_sim()))"
   ]
  },
  {
   "cell_type": "markdown",
   "metadata": {},
   "source": [
    "### Explanation\n",
    "\n",
    "`part_A_sim()` basically takes two steps from `E` and sees if the new node is the same as the expected node `L`. The result is pretty much in line with what I expected.\n",
    "\n",
    "`part_B_sim()` takes one step from `R`, and checks if the new node is `G`. If it is it iterates a counter, if not it takes one more step. Then if that node is `G` it iterates the counter. This yielded a slightly lower result than I expected.\n",
    "\n",
    "`part_C_1_sim()` takes one step from both Oscar and Stella's starting location and checks if they're now the same node. This yielded a much higher result than I expected; about 1/4 instead of 1/12.\n",
    "\n",
    "`part_C_2_sim()` takes two steps from both Oscar and Stella's starting location and checks if they're both `H`. This yielded about the same result that I expected."
   ]
  },
  {
   "cell_type": "markdown",
   "metadata": {},
   "source": [
    "***\n",
    "<a/ id='p3'></a>\n",
    "[Back to top](#top)\n",
    "\n",
    "### [20 points] Problem 3  \n",
    "\n",
    "As part of their Computer Science Jedi training, Tony and Dan are having a lightsaber duel. The rules of the lightsaber duel are as follows:\n",
    "* The duel is composed of a number of rounds.\n",
    "* Each round consists of Tony practicing his sweetest Jedi moves and trying to strike Dan, then Dan practicing *his* best moves and trying to strike Tony.\n",
    "* If Tony manages to strike Dan, then Tony is awarded a point, and similarly if Dan manages to strike Tony, then Dan is awarded a point.\n",
    "* If a round ends in a tie, then Tony and Dan proceed to another round. If a round ends with one Jedi scoring a point but the other one does not, then the Jedi who scored a point wins the duel.\n",
    "\n",
    "Let $T$ be the event that \"Tony wins the duel\", $E$ be the event that \"the duel ends after the first round of lightsaber strikes\", and $C$ be the event that \"the duel continues after the first round of lightsaber strikes\".  Suppose that the result of one lightsaber strike is independent of the other strikes, Tony successfully lands his lightsaber strikes with probability $p$, and Dan lands his strikes with probability $q$.\n",
    "\n",
    "**Part A**: The duel will continue until Tony or Dan wins.  What is the sample space $\\Omega$ for this \"experiment\"?  Represent the outcomes of individual lightsaber strikes by $H$ for a hit and $M$ for a miss, and assume that Tony has the first strike in each round. At the very least, your answer should include all of the events in $\\Omega$ that include one or two rounds."
   ]
  },
  {
   "cell_type": "markdown",
   "metadata": {},
   "source": [
    "### Answer\n",
    "\n",
    "A few ways to represent $\\Omega$ would be $\\Omega = E \\cup C$ and $\\Omega = T \\cup T^c$. If $\\Omega$ is just one round, or ($E$) we could say $\\Omega = H_T \\cap M_D \\cup M_D \\cap T_D$ where the subscript denotes who did the hits and misses. This is intuitive because a game can only be won if one person hits and the other misses, while Tony gets to go first. Since we know the game can last more than one round we can say $\\Omega = E_1 \\cap E_2 \\cap ... \\cap E_{n-1} \\cap E_n$ where $E$'s subscipt denotes how many rounds are needed for a game to win, and every $E_k$ can be broken down to $E_k = H_T \\cap M_D \\cup M_D \\cap T_D$."
   ]
  },
  {
   "cell_type": "markdown",
   "metadata": {},
   "source": [
    "**Part B**: Determine $P(T \\mid E)$ in terms of $p$ and $q$."
   ]
  },
  {
   "cell_type": "markdown",
   "metadata": {},
   "source": [
    "### Answer\n",
    "\n",
    "$P(T|E) = p * (1-q)$"
   ]
  },
  {
   "cell_type": "markdown",
   "metadata": {},
   "source": [
    "**Part C**: Explain why events $C$ and $T$ are independent. "
   ]
  },
  {
   "cell_type": "markdown",
   "metadata": {},
   "source": [
    "### Answer\n",
    "\n",
    "$P(E) = H_T \\cap M_D \\cup M_D \\cap T_D$\n",
    "\n",
    "and $P(C) = P(E^c)$"
   ]
  },
  {
   "cell_type": "markdown",
   "metadata": {},
   "source": [
    "**Part D**: Use the Law of Total Probability to show that $P(T) = p(1-q) + (2pq - p - q +1) P(T \\mid C)$. "
   ]
  },
  {
   "cell_type": "markdown",
   "metadata": {},
   "source": [
    "**Part E**: Use the fact from **Part C** that $P(T \\mid C) = P(T)$ to determine $P(T)$ in terms of $p$ and $q$. "
   ]
  },
  {
   "cell_type": "markdown",
   "metadata": {},
   "source": [
    "**Part F**: Explain why the answers to **Part B** and **Part E** are the same. "
   ]
  },
  {
   "cell_type": "markdown",
   "metadata": {},
   "source": [
    "**Part G**: Explain the significance of the solution technique for $P(T)$ outlined in **Part D** and **Part E**.  Why did we go this route instead of computing $P(T)$ directly?  Can we always use such techniques?  What assumption did we need to make in order to use this solution approach?"
   ]
  },
  {
   "cell_type": "markdown",
   "metadata": {},
   "source": [
    "***\n",
    "<a/ id='p4'></a>\n",
    "[Back to top](#top)\n",
    "\n",
    "### [20 points] Problem 4\n",
    "\n",
    "In this problem you will write some code to simulate the game of **Miniopoly** (a very rough approximation of [Monopoly](https://en.wikipedia.org/wiki/Monopoly_(game)).  The game consists of a round board with 40 \"squares\" numbered from $0$ to $39$, where squares $0$ and would-be $40$ are [coincident](https://en.wikipedia.org/wiki/Coincident) and called **GO**.  A player starts on **GO** with \\$200 in their pocket.  On each turn the player rolls a pair of dice and then moves a number of spaces equal to the sum of the dice.  Landing on different squares have different results: \n",
    "\n",
    "- Squares 2, 7, 17, 22, 33, and 36 cause you to draw a card.  The cards tell you to collect \\$50, \\$100 or \\$200, or pay the bank \\$50 or \\$100.  There is always an equal probability associated with each of these possible cards.\n",
    "\n",
    "<p> </p>\n",
    "\n",
    "- Squares 0, 10, and 20 do not trigger any action \n",
    "\n",
    "<p> </p>\n",
    "\n",
    "- Square 30 is **Go To Jail**, which sends the player directly to **Jail** and ends the turn \n",
    "\n",
    "<p> </p>\n",
    "\n",
    "- If a player starts a turn from **Jail** she rolls two dice: \n",
    "\n",
    "    - If the player rolls doubles (i.e. the dice have equal values) the player moves from Square 10 a number of squares equal to the sum of the dice\n",
    "    \n",
    "    - If the player rolls anything other than doubles she pays the bank \\$20 and remains in **Jail** \n",
    "    \n",
    "<p> </p>\n",
    "\n",
    "- If the player passes or lands on **GO** she collects \\$200. \n",
    "\n",
    "<p> </p>\n",
    "\n",
    "- If the player lands on any other square not mentioned above, she pays the bank an amount equal to the square's number (e.g. if she lands on Square 29 she pays the bank \\$29). \n",
    "\n",
    "<p> </p>\n",
    "\n",
    "If at any point the player has \\$0 or less they go bankrupt and the game ends.\n",
    "\n",
    "See [here](http://www.cs.colorado.edu/~tonyewong/home/resources/miniopoly_example.png) for an example of the Miniopoly board layout.\n",
    "\n",
    "<br>\n",
    "\n",
    "**Part A**: Complete the function miniopoly_turn below. The function should simulate one turn of Miniopoly.  It should take as arguments the player's current location on the board as well as the player's current cash reserves, and return the player's new location and cash reserves after the turn has completed. Note that if a player goes bankrupt during the game you should return their cash as 0 instead of a negative value.  "
   ]
  },
  {
   "cell_type": "code",
   "execution_count": 124,
   "metadata": {},
   "outputs": [],
   "source": [
    "def miniopoly_turn(location, cash):\n",
    "    dice1 = random.choice([1,2,3,4,5,6])\n",
    "    dice2 = random.choice([1,2,3,4,5,6])\n",
    "    totalDice = dice1 + dice2\n",
    "    if location == 30:\n",
    "        if dice1 == dice2:\n",
    "            location = 10 + totalDice\n",
    "        else:\n",
    "            if cash - 20 < 0:\n",
    "                cash = 0\n",
    "            else:\n",
    "                cash -= 20\n",
    "            return location, cash\n",
    "    noTrigger = [0, 10, 20]\n",
    "    drawTrigger = [2, 7, 17, 22, 33, 36]\n",
    "    if location + totalDice > 40:\n",
    "        location = location + totalDice - 40\n",
    "        cash += 200\n",
    "    else:\n",
    "        location += totalDice\n",
    "    if location == 30:\n",
    "        # jail\n",
    "        if cash < 0:\n",
    "            cash = 0\n",
    "        return location, cash\n",
    "    elif location in drawTrigger:\n",
    "        cash += draw()\n",
    "    elif location not in drawTrigger and location not in noTrigger and location != 0 and location != 30:\n",
    "        cash -= location\n",
    "    if cash < 0:\n",
    "        cash = 0\n",
    "    return location, cash\n",
    "\n",
    "def draw():\n",
    "    return random.choice([50, 100, 200, -50, -100])"
   ]
  },
  {
   "cell_type": "markdown",
   "metadata": {},
   "source": [
    "**Part B**: Use your function from **Part A** to Simulate at least 5000 30-turn games of Miniopoly and make a frequency histogram of the player's cash at the end of the game. "
   ]
  },
  {
   "cell_type": "code",
   "execution_count": 125,
   "metadata": {},
   "outputs": [
    {
     "data": {
      "text/plain": [
       "<matplotlib.text.Text at 0x11e4b35c0>"
      ]
     },
     "execution_count": 125,
     "metadata": {},
     "output_type": "execute_result"
    },
    {
     "data": {
      "image/png": "[encoded data removed]",
      "text/plain": [
       "<matplotlib.figure.Figure at 0x1164ff710>"
      ]
     },
     "metadata": {},
     "output_type": "display_data"
    }
   ],
   "source": [
    "#reference this for plots https://stackoverflow.com/questions/33203645/how-to-plot-a-histogram-using-matplotlib-in-python-with-a-list-of-data\n",
    "hist = []\n",
    "for i in range(0,5000):\n",
    "    location = 0\n",
    "    cash = 0\n",
    "    for j in range(0,30):\n",
    "        location, cash = miniopoly_turn(location, cash)\n",
    "    hist.append(cash)\n",
    "plt.hist(hist, bins=100)\n",
    "plt.ylabel('# of occurences')\n",
    "plt.xlabel('Ending cash')"
   ]
  },
  {
   "cell_type": "markdown",
   "metadata": {},
   "source": [
    "**Part C**: Use your code from **Part A** to estimate the probability that a player goes bankrupt in the first 30 turns of the game. "
   ]
  },
  {
   "cell_type": "code",
   "execution_count": 127,
   "metadata": {},
   "outputs": [
    {
     "data": {
      "text/plain": [
       "0.0302"
      ]
     },
     "execution_count": 127,
     "metadata": {},
     "output_type": "execute_result"
    }
   ],
   "source": [
    "def estimate_zero(repeat=10000):\n",
    "    found = 0\n",
    "    for i in range(0,repeat):\n",
    "        location = 0\n",
    "        cash = 0\n",
    "        for j in range(0,30):\n",
    "            location, cash = miniopoly_turn(location, cash)\n",
    "        if cash == 0:\n",
    "            found += 1\n",
    "    return found/repeat\n",
    "estimate_zero()"
   ]
  },
  {
   "cell_type": "markdown",
   "metadata": {},
   "source": [
    "### Answer\n",
    "I seem to get consistent `.033` results from the simulation by running 30-turn games 10000 times."
   ]
  },
  {
   "cell_type": "markdown",
   "metadata": {},
   "source": [
    "**Part D**: Use your code from **Part A** to estimate the probability that a player goes bankrupt in the first 30 turns _given_ that they went to **Jail** at least once.  Is a player more or less likely to go bankrupt if they've been to **Jail**?  "
   ]
  },
  {
   "cell_type": "code",
   "execution_count": 128,
   "metadata": {},
   "outputs": [
    {
     "data": {
      "text/plain": [
       "0.954163623082542"
      ]
     },
     "execution_count": 128,
     "metadata": {},
     "output_type": "execute_result"
    }
   ],
   "source": [
    "def estimate_zero_by_jail(repeat=10000):\n",
    "    bankruptCount = 0\n",
    "    repeatRevised = repeat\n",
    "    for i in range(0,repeat):\n",
    "        location = 0\n",
    "        cash = 0\n",
    "        locFoundBool = False\n",
    "        zeroFound = False\n",
    "        for j in range(0,30):\n",
    "            location, cash = miniopoly_turn(location, cash)\n",
    "            if location == 30:\n",
    "                locFoundBool = True\n",
    "            if cash <= 0:\n",
    "                zeroFound = True\n",
    "        if locFoundBool:\n",
    "            if zeroFound:\n",
    "                bankruptCount += 1\n",
    "        else:\n",
    "            repeatRevised -= 1\n",
    "    return bankruptCount/repeatRevised\n",
    "estimate_zero_by_jail()"
   ]
  },
  {
   "cell_type": "markdown",
   "metadata": {},
   "source": [
    "### Answer\n",
    "\n",
    "The probability seems to go up by a factor of 30 given that the player had gone to jail at least once. I insure this by subtracting every 30-round game that doesn't include at least one jail visit. These results feel correct, based on the probability of getting into jail (1 in 40) vs. the probability of getting out (1 in 36) and losing money for every round you stay in jail. "
   ]
  },
  {
   "cell_type": "markdown",
   "metadata": {},
   "source": [
    "**Part E**: Use your code from **Part A** to estimate the probability (either directly or using Bayes' Rule) that a player has gone to jail at least once, given that the player went bankrupt in the first 30 turns."
   ]
  },
  {
   "cell_type": "code",
   "execution_count": 129,
   "metadata": {
    "scrolled": true
   },
   "outputs": [
    {
     "data": {
      "text/plain": [
       "0.5538950715421304"
      ]
     },
     "execution_count": 129,
     "metadata": {},
     "output_type": "execute_result"
    }
   ],
   "source": [
    "def estimate_jail_by_zero(repeat=10000):\n",
    "    bankruptCount = 0\n",
    "    repeatRevised = repeat\n",
    "    for i in range(0,repeat):\n",
    "        location = 0\n",
    "        cash = 0\n",
    "        locFoundBool = False\n",
    "        zeroFound = False\n",
    "        for j in range(0,30):\n",
    "            location, cash = miniopoly_turn(location, cash)\n",
    "            if location == 30:\n",
    "                locFoundBool = True\n",
    "            if cash <= 0:\n",
    "                zeroFound = True\n",
    "        if zeroFound:\n",
    "            if locFoundBool:\n",
    "                bankruptCount += 1\n",
    "        else:\n",
    "            repeatRevised -= 1\n",
    "    return bankruptCount/repeatRevised\n",
    "estimate_jail_by_zero()"
   ]
  },
  {
   "cell_type": "markdown",
   "metadata": {},
   "source": [
    "### Answer\n",
    "\n",
    "There's a little over 50% chance that you've been to jail based on going bankrupt at least once. This feels correct to me, as drawing a card has an expected value of 200, passing `go` nets 200, but most squares on the board result in losing money, regardless of jail."
   ]
  },
  {
   "cell_type": "markdown",
   "metadata": {},
   "source": [
    "***\n",
    "<a/ id='p5'></a>\n",
    "[Back to top](#top)\n",
    "\n",
    "### [20 points] Problem 5\n",
    "\n",
    "Suppose you roll two fair six-sided dice.  Let $C$ be the event that the two rolls are _close_ to one another in value, in the sense that they're either equal or differ by only 1.  \n",
    "\n",
    "**Part A**: Compute $P(C)$ by hand. \n"
   ]
  },
  {
   "cell_type": "markdown",
   "metadata": {},
   "source": [
    "### Answer\n",
    "For ($D_1$) rolling `1` or `6`, there are 4 out of 6 possibilities that ($D_2$) can roll. For ($D_1$) rolling `2`-`5` there are 3 out of 6 per number that ($D_2$) can roll. For instance if ($D_1$) rolls `1` ($D_2$) can only be `1` or `2`. Enumerated this is:\n",
    "```\n",
    "1,2\n",
    "1,1\n",
    "2,1\n",
    "2,3\n",
    "2,2\n",
    "3,2\n",
    "3,4\n",
    "3,3\n",
    "4,3\n",
    "4,5\n",
    "4,4\n",
    "5,4\n",
    "5,6\n",
    "5,5\n",
    "6,5\n",
    "6,6\n",
    "```\n",
    "\n",
    "for a total probability of **16/36**."
   ]
  },
  {
   "cell_type": "markdown",
   "metadata": {},
   "source": [
    "**Part B**: Write a simulation to run many trials (at least 10,000) of the pair of rolls and estimate the value of $P(C)$ you calculated in **Part A**.  Does your estimate agree with the exact calculation you did in **Part A**?  If not, try increasing the number of trials in your simulation. "
   ]
  },
  {
   "cell_type": "code",
   "execution_count": 146,
   "metadata": {},
   "outputs": [
    {
     "data": {
      "text/plain": [
       "0.4451"
      ]
     },
     "execution_count": 146,
     "metadata": {},
     "output_type": "execute_result"
    }
   ],
   "source": [
    "def two_dice_close(repeat=10000):\n",
    "    found = 0\n",
    "    for i in range(0,repeat):\n",
    "        dice1 = random.choice([1,2,3,4,5,6])\n",
    "        dice2 = random.choice([1,2,3,4,5,6])\n",
    "        if abs(dice1-dice2)<=1:\n",
    "            found+=1\n",
    "    return found/repeat\n",
    "\n",
    "two_dice_close()"
   ]
  },
  {
   "cell_type": "markdown",
   "metadata": {},
   "source": [
    "### Answer\n",
    "\n",
    "This seems to be the exact right number, `~.445`."
   ]
  },
  {
   "cell_type": "markdown",
   "metadata": {},
   "source": [
    "**Part C**: In the in-class notebook associated with Lecture 4 (nb04) we plotted a running estimate of the probability of an event as a function of the number of trials in our simulation.  Write code to run at least 10 independent simulations of at least 50,000 trials each to estimate $P(C)$ and plot their running estimate curves on the same set of axes. **Hint**: This is a lot of computation, so try to leverage Numpy as much as possible so that your code doesn't run forever. "
   ]
  },
  {
   "cell_type": "code",
   "execution_count": 159,
   "metadata": {},
   "outputs": [
    {
     "data": {
      "image/png": "[encoded data removed]",
      "text/plain": [
       "<matplotlib.figure.Figure at 0x122a98550>"
      ]
     },
     "metadata": {},
     "output_type": "display_data"
    }
   ],
   "source": [
    "def two_dice_close_running(repeat=10000):\n",
    "    found = 0\n",
    "    running = []\n",
    "    repeatCounter = 1\n",
    "    for i in range(0,repeat):\n",
    "        dice1 = random.choice([1,2,3,4,5,6])\n",
    "        dice2 = random.choice([1,2,3,4,5,6])\n",
    "        if abs(dice1-dice2)<=1:\n",
    "            found+=1\n",
    "        running.append(found/repeatCounter)\n",
    "        repeatCounter+=1\n",
    "    return running\n",
    "\n",
    "fig, ax = plt.subplots()\n",
    "ax.set_xlabel(\"# of Trials\")\n",
    "ax.set_ylabel(\"Probability\")\n",
    "plt.xscale('log')\n",
    "for i in range(0,10):\n",
    "    ax.plot(two_dice_close_running())"
   ]
  },
  {
   "cell_type": "markdown",
   "metadata": {},
   "source": [
    "**Part D**: Comment on the behavior of the running estimates as the number of trials increases. "
   ]
  },
  {
   "cell_type": "markdown",
   "metadata": {},
   "source": [
    "### Answer\n",
    "\n",
    "The all converge to the expected value, or $P(C)$. "
   ]
  },
  {
   "cell_type": "markdown",
   "metadata": {
    "collapsed": true
   },
   "source": [
    "***\n",
    "<a/ id='ch'></a>\n",
    "[Back to top](#top)\n",
    "\n",
    "### Challenge Problem - Night Falls. A Storm Rolls In. Can You Cross The River?\n",
    "\n",
    "In every homework assignment we'll give you a Challenge Problem.  Challenge Problems never need to be turned in (and in fact, will not be graded) but we encourage you to give them a shot (after completing the required homework problems) and discuss them with your classmates and your instructors. \n",
    "\n",
    "This Challenge Problem was a [Riddler](https://fivethirtyeight.com/tag/the-riddler/) on [FiveThirtyEight](https://fivethirtyeight.com) a few years back. \n",
    "\n",
    "You’re on the north shore of a river, and want to cross to the south, via a series of 13 bridges and six islands, which you can see in the diagram below. But, as you approach the water, night falls, a bad storm rolls in, and you’re forced to wait until morning to try to cross. Overnight, the storm could render some of the bridges unusable — it has a 50 percent chance of knocking out each of the bridges. (The chance is independent for each bridge.)\n",
    "\n",
    "<br>\n",
    "\n",
    "![alt text](https://espnfivethirtyeight.files.wordpress.com/2016/01/roeder-riddler-diagram-11.png?w=575&h=449&quality=90&strip=info)\n",
    "\n",
    "<br>\n",
    "\n",
    "What’s the probability you will be able to cross the river in the morning? (You have no boat, can’t swim, can’t fix the bridges, etc. No tricks.)"
   ]
  },
  {
   "cell_type": "code",
   "execution_count": null,
   "metadata": {
    "collapsed": true
   },
   "outputs": [],
   "source": []
  }
 ],
 "metadata": {
  "kernelspec": {
   "display_name": "Python 3",
   "language": "python",
   "name": "python3"
  },
  "language_info": {
   "codemirror_mode": {
    "name": "ipython",
    "version": 3
   },
   "file_extension": ".py",
   "mimetype": "text/x-python",
   "name": "python",
   "nbconvert_exporter": "python",
   "pygments_lexer": "ipython3",
   "version": "3.6.1"
  }
 },
 "nbformat": 4,
 "nbformat_minor": 2
}

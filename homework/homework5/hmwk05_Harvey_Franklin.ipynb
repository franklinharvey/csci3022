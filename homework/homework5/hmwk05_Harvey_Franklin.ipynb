{
 "cells": [
  {
   "cell_type": "markdown",
   "metadata": {},
   "source": [
    "<a id='top'></a>\n",
    "\n",
    "# Homework 5: Confidence intervals and other things\n",
    "***\n",
    "\n",
    "**Name**: Frank Harvey\n",
    "\n",
    "***\n",
    "\n",
    "This assignment is due on Moodle by **5 PM on Friday November 9**. Your solutions to theoretical questions should be done in Markdown/MathJax directly below the associated question.  Your solutions to computational questions should include any specified Python code and results as well as written commentary on your conclusions.  Remember that you are encouraged to discuss the problems with your instructors and classmates, but **you must write all code and solutions on your own**.  \n",
    "\n",
    "**NOTES**: \n",
    "\n",
    "- Do **NOT** load or use any Python packages that are not available in Anaconda 3.6. \n",
    "- Some problems with code may be autograded.  If we provide a function API **do not** change it.  If we do not provide a function API then you're free to structure your code however you like. \n",
    "- Because you can technically evaluate notebook cells is a non-linear order, it's a good idea to do Cell $\\rightarrow$ Run All as a check before submitting your solutions.  That way if we need to run your code you will know that it will work as expected. \n",
    "- Submit only this Jupyter notebook to Moodle.  Do not compress it using tar, rar, zip, etc. \n",
    "- This should go without saying, but... For any question that asks you to calculate something, you **must show all work to receive credit**. Sparse or nonexistent work will receive sparse or nonexistent credit.\n",
    "\n",
    "---\n",
    "**Shortcuts:**  [Problem 1](#p1) | [Problem 2](#p2) | [Problem 3](#p3) | [Problem 4](#p4)\n",
    "\n",
    "---"
   ]
  },
  {
   "cell_type": "code",
   "execution_count": 1,
   "metadata": {
    "collapsed": true,
    "scrolled": true
   },
   "outputs": [],
   "source": [
    "import numpy as np\n",
    "import matplotlib.pyplot as plt\n",
    "import pandas as pd\n",
    "import scipy.stats as stats\n",
    "%matplotlib inline"
   ]
  },
  {
   "cell_type": "markdown",
   "metadata": {},
   "source": [
    "---\n",
    "\n",
    "<a id='p1'></a>\n",
    "[Back to top](#top)\n",
    "\n",
    "### [30 points] Problem 1 - Sea-level rise, schmee-level rise!\n",
    "\n",
    "You have been contacted by the local government of Key West, Florida, to assess whether there is statistical evidence for sea-level rise in the area. You obtain from the University of Hawaii Sea Level Center's [gigantic repository of sea-level data](https://uhslc.soest.hawaii.edu/data/?rq) the daily mean sea levels file [linked here](https://piazza.com/class_profile/get_resource/jhaqogsdelf76h/jixzm0rl5dp6y4) and below.\n",
    "\n",
    "In this problem, you will:\n",
    "1. practice calculating confidence intervals, \n",
    "1. practice wrangling a real-life data set into a form where you can actually compute these confidence intervals, because life will rarely be so kind as to simply hand you a nicely packaged and cleaned set of data, and\n",
    "1. save Key West from a watery fate?"
   ]
  },
  {
   "cell_type": "code",
   "execution_count": 2,
   "metadata": {},
   "outputs": [
    {
     "data": {
      "text/html": [
       "<div>\n",
       "<style>\n",
       "    .dataframe thead tr:only-child th {\n",
       "        text-align: right;\n",
       "    }\n",
       "\n",
       "    .dataframe thead th {\n",
       "        text-align: left;\n",
       "    }\n",
       "\n",
       "    .dataframe tbody tr th {\n",
       "        vertical-align: top;\n",
       "    }\n",
       "</style>\n",
       "<table border=\"1\" class=\"dataframe\">\n",
       "  <thead>\n",
       "    <tr style=\"text-align: right;\">\n",
       "      <th></th>\n",
       "      <th>Year</th>\n",
       "      <th>Month</th>\n",
       "      <th>Day</th>\n",
       "      <th>SL</th>\n",
       "    </tr>\n",
       "  </thead>\n",
       "  <tbody>\n",
       "    <tr>\n",
       "      <th>0</th>\n",
       "      <td>1913</td>\n",
       "      <td>1</td>\n",
       "      <td>20</td>\n",
       "      <td>1453</td>\n",
       "    </tr>\n",
       "    <tr>\n",
       "      <th>1</th>\n",
       "      <td>1913</td>\n",
       "      <td>1</td>\n",
       "      <td>21</td>\n",
       "      <td>1439</td>\n",
       "    </tr>\n",
       "    <tr>\n",
       "      <th>2</th>\n",
       "      <td>1913</td>\n",
       "      <td>1</td>\n",
       "      <td>22</td>\n",
       "      <td>1444</td>\n",
       "    </tr>\n",
       "    <tr>\n",
       "      <th>3</th>\n",
       "      <td>1913</td>\n",
       "      <td>1</td>\n",
       "      <td>23</td>\n",
       "      <td>1489</td>\n",
       "    </tr>\n",
       "    <tr>\n",
       "      <th>4</th>\n",
       "      <td>1913</td>\n",
       "      <td>1</td>\n",
       "      <td>24</td>\n",
       "      <td>1474</td>\n",
       "    </tr>\n",
       "  </tbody>\n",
       "</table>\n",
       "</div>"
      ],
      "text/plain": [
       "   Year  Month  Day    SL\n",
       "0  1913      1   20  1453\n",
       "1  1913      1   21  1439\n",
       "2  1913      1   22  1444\n",
       "3  1913      1   23  1489\n",
       "4  1913      1   24  1474"
      ]
     },
     "execution_count": 2,
     "metadata": {},
     "output_type": "execute_result"
    }
   ],
   "source": [
    "# Local and web paths to the data; pick which works for you.\n",
    "local_path = \"data/sealevel_keywest.csv\"\n",
    "web_path   = \"https://raw.githubusercontent.com/dblarremore/csci3022/master/homework/homework5/data/sealevel_keywest.csv\"\n",
    "file_path  = local_path\n",
    "\n",
    "dfSL = pd.read_csv(file_path, header=None)\n",
    "dfSL.rename(columns={0 : 'Year', 1 : 'Month', 2 : 'Day', 3 : 'SL'}, inplace=True)\n",
    "dfSL.head()"
   ]
  },
  {
   "cell_type": "markdown",
   "metadata": {},
   "source": [
    "**Part A:**  Write a function `clean_data` to:\n",
    "1. take in a single argument of a raw sea level data frame (e.g., `dfSL` above),\n",
    "2. compute the fill-value used to replace missing sea level (SL) data (**not** hard-coded!),\n",
    "3. use the Pandas `DataFrame.dropna` method to remove all missing rows of data, \n",
    "4. select only the data point on the second day of each month, and\n",
    "4. return a cleaned Pandas data frame.\n",
    "\n",
    "Use your shiny new function to clean the `dfSL` data frame and save the results in a new data frame.\n",
    "\n",
    "There is a very specific reason to sample only one daily data point per month. We will talk about it later."
   ]
  },
  {
   "cell_type": "code",
   "execution_count": 3,
   "metadata": {},
   "outputs": [
    {
     "data": {
      "text/html": [
       "<div>\n",
       "<style>\n",
       "    .dataframe thead tr:only-child th {\n",
       "        text-align: right;\n",
       "    }\n",
       "\n",
       "    .dataframe thead th {\n",
       "        text-align: left;\n",
       "    }\n",
       "\n",
       "    .dataframe tbody tr th {\n",
       "        vertical-align: top;\n",
       "    }\n",
       "</style>\n",
       "<table border=\"1\" class=\"dataframe\">\n",
       "  <thead>\n",
       "    <tr style=\"text-align: right;\">\n",
       "      <th></th>\n",
       "      <th>Year</th>\n",
       "      <th>Month</th>\n",
       "      <th>Day</th>\n",
       "      <th>SL</th>\n",
       "    </tr>\n",
       "  </thead>\n",
       "  <tbody>\n",
       "    <tr>\n",
       "      <th>13</th>\n",
       "      <td>1913</td>\n",
       "      <td>2</td>\n",
       "      <td>2</td>\n",
       "      <td>1409</td>\n",
       "    </tr>\n",
       "    <tr>\n",
       "      <th>41</th>\n",
       "      <td>1913</td>\n",
       "      <td>3</td>\n",
       "      <td>2</td>\n",
       "      <td>1397</td>\n",
       "    </tr>\n",
       "    <tr>\n",
       "      <th>72</th>\n",
       "      <td>1913</td>\n",
       "      <td>4</td>\n",
       "      <td>2</td>\n",
       "      <td>1402</td>\n",
       "    </tr>\n",
       "    <tr>\n",
       "      <th>102</th>\n",
       "      <td>1913</td>\n",
       "      <td>5</td>\n",
       "      <td>2</td>\n",
       "      <td>1450</td>\n",
       "    </tr>\n",
       "    <tr>\n",
       "      <th>133</th>\n",
       "      <td>1913</td>\n",
       "      <td>6</td>\n",
       "      <td>2</td>\n",
       "      <td>1490</td>\n",
       "    </tr>\n",
       "  </tbody>\n",
       "</table>\n",
       "</div>"
      ],
      "text/plain": [
       "     Year  Month  Day    SL\n",
       "13   1913      2    2  1409\n",
       "41   1913      3    2  1397\n",
       "72   1913      4    2  1402\n",
       "102  1913      5    2  1450\n",
       "133  1913      6    2  1490"
      ]
     },
     "execution_count": 3,
     "metadata": {},
     "output_type": "execute_result"
    }
   ],
   "source": [
    "def clean_data(df):\n",
    "    dfClean = df\n",
    "    dfClean = dfClean.loc[dfClean['SL'] > dfClean['SL'].min()]  \n",
    "    dfClean = dfClean.loc[dfClean['Day']==2]\n",
    "    dfClean.dropna()  \n",
    "    return dfClean\n",
    "\n",
    "dfClean = clean_data(dfSL)\n",
    "dfClean.head()"
   ]
  },
  {
   "cell_type": "markdown",
   "metadata": {},
   "source": [
    "**Part B:**  Plot the cleaned time series of sea levels. Be sure to label your axes, including units. The UHSLC data portal includes a link to the metadata accompanying our data set; if you are not sure about units, that would be a good place to start looking. For the $x$-axis, place the $x$ tick marks on January 2 of each year that is divisible by 10 (i.e., 1920, 1930, ...), and label with that year. You may need to do additional processing in order to grab these indices. \n",
    "\n",
    "**Bonus challenge (0 points):**  Why do we choose to work with the second day of each month instead of the first?  You may need to look at the original data set to answer this."
   ]
  },
  {
   "cell_type": "code",
   "execution_count": 4,
   "metadata": {},
   "outputs": [
    {
     "data": {
      "text/plain": [
       "<matplotlib.axes._subplots.AxesSubplot at 0x10e3fa5f8>"
      ]
     },
     "execution_count": 4,
     "metadata": {},
     "output_type": "execute_result"
    },
    {
     "data": {
      "image/png": "[encoded data removed]",
      "text/plain": [
       "<matplotlib.figure.Figure at 0x10ddc7cc0>"
      ]
     },
     "metadata": {},
     "output_type": "display_data"
    },
    {
     "data": {
      "image/png": "[encoded data removed]",
      "text/plain": [
       "<matplotlib.figure.Figure at 0x10e78b7f0>"
      ]
     },
     "metadata": {},
     "output_type": "display_data"
    }
   ],
   "source": [
    "dfClean.plot.scatter(\n",
    "                x='Year',\n",
    "                y='SL',\n",
    "                title='Sea Level at Key West in millimeters by Year',\n",
    "                xticks=np.arange(1910, 2020, 10),\n",
    "                color=\"black\",\n",
    "                alpha=0.25)\n",
    "\n",
    "dfClean.plot.scatter(\n",
    "                x='Month',\n",
    "                y='SL',\n",
    "                title='Sea Level at Key West in millimeters by Month',\n",
    "                xticks=np.arange(1,13,1),\n",
    "                color=\"black\",\n",
    "                alpha=0.25)"
   ]
  },
  {
   "cell_type": "markdown",
   "metadata": {},
   "source": [
    "**Part C:** Use your cleaned sea levels data frame to create two new Pandas data frames or series:\n",
    "1. one object to contain the sea levels between (and including) the years 1986 and 1995, and\n",
    "2. another object to contain the sea levels between (and including) the years 2006 and 2015.\n",
    "\n",
    "Then, create a single-panel figure that includes density histograms of each decade of sea levels. Be sure to label everything appropriately.\n",
    "\n",
    "Finally, based on the data in front of you, formulate and state a hypothesis about how the mean sea level in the decade 2006-2015 compares to the mean sea level in the decade 1986-1995."
   ]
  },
  {
   "cell_type": "code",
   "execution_count": 5,
   "metadata": {},
   "outputs": [
    {
     "data": {
      "text/plain": [
       "<matplotlib.legend.Legend at 0x110dfae48>"
      ]
     },
     "execution_count": 5,
     "metadata": {},
     "output_type": "execute_result"
    },
    {
     "data": {
      "image/png": "[encoded data removed]",
      "text/plain": [
       "<matplotlib.figure.Figure at 0x10e3cf588>"
      ]
     },
     "metadata": {},
     "output_type": "display_data"
    }
   ],
   "source": [
    "figC, ax = plt.subplots(figsize=(8,6))\n",
    "\n",
    "df86 = dfClean.loc[dfClean['Year'] >= 1986] \n",
    "df86 = df86.loc[df86['Year'] <= 1995]\n",
    "df86['SL'].hist(color=\"blue\", label='1986-1996', alpha=.5, grid=False)\n",
    "\n",
    "df06 = dfClean.loc[dfClean['Year'] >= 2006]\n",
    "df06 = df06.loc[df06['Year'] <= 2015]\n",
    "df06['SL'].hist(color=\"red\", label='2006-2015', alpha=.5, grid=False, edgecolor=\"white\")\n",
    "\n",
    "ax.set_xlabel('Sea Level (millimeters)')\n",
    "ax.set_ylabel('Number of Instances')\n",
    "ax.set_title('Sea Level at Key West compared between 1t986-1996 and 2006-2015')\n",
    "ax.legend()"
   ]
  },
  {
   "cell_type": "markdown",
   "metadata": {},
   "source": [
    "#### Answer\n",
    "\n",
    "Based on the visualization, I see a higher density of $\\geq 1700mm$ sea levels, and a lower density of $\\leq 1600mm$ sea levels in the later data (1996-2015)."
   ]
  },
  {
   "cell_type": "markdown",
   "metadata": {},
   "source": [
    "**Part D:** Compute a 99.9% confidence interval for each of (1) the mean sea level in the 1986-1995 decade ($\\mu_{1986-1995}$) and (2) the mean sea level in the 2006-2015 decade ($\\mu_{2006-2015}$).  You may use Python for arithmetic operations and executing the calculations, but the relevant steps/set-up should be displayed in Markdown/MathJax.\n",
    "\n",
    "Based on these two confidence intervals, do you think there is sufficient evidence to conclude that there is or is not a significant difference in the mean sea level between 1986-1995 and 2006-2015? Justify your answer. "
   ]
  },
  {
   "cell_type": "code",
   "execution_count": 6,
   "metadata": {},
   "outputs": [
    {
     "name": "stdout",
     "output_type": "stream",
     "text": [
      "x_bar:  1670.575 || Sigma_x:  98.09473843348242 || Num of X Samples:  120\n",
      "y_bar:  1720.677966101695 || Sigma_y:  109.36301557439 || Num of Y Samples:  118\n",
      "Z of alpha/2:  3.29052673149\n",
      "CI for 1986-1996:  [1641.1090455116243, 1700.0409544883757]\n",
      "CI for 2006-2015:  [1687.5499905823872, 1753.8059416210026]\n"
     ]
    }
   ],
   "source": [
    "x_bar = np.mean(df86['SL'])\n",
    "sigma_x = np.std(df86['SL']) \n",
    "x_samples = np.count_nonzero(df86['SL'])\n",
    "\n",
    "y_bar = np.mean(df06['SL'])\n",
    "sigma_y = np.std(df06['SL']) \n",
    "y_samples = np.count_nonzero(df06['SL'])\n",
    "\n",
    "# alpha = .1% (or .001) for 99.9% CI\n",
    "Z_alpha_over_two = -stats.norm.ppf(0.001/2)\n",
    "\n",
    "CI86 = [x_bar - Z_alpha_over_two*(sigma_x/pow(x_samples,0.5)), x_bar + Z_alpha_over_two*(sigma_x/pow(x_samples,0.5))]\n",
    "CI06 = [y_bar - Z_alpha_over_two*(sigma_y/pow(y_samples,0.5)), y_bar + Z_alpha_over_two*(sigma_y/pow(y_samples,0.5))]\n",
    "\n",
    "print(\"x_bar: \", x_bar, \"|| Sigma_x: \", sigma_x, \"|| Num of X Samples: \", x_samples)\n",
    "print(\"y_bar: \", y_bar, \"|| Sigma_y: \", sigma_y, \"|| Num of Y Samples: \", y_samples)\n",
    "print(\"Z of alpha/2: \", Z_alpha_over_two)\n",
    "print(\"CI for 1986-1996: \", CI86)\n",
    "print(\"CI for 2006-2015: \", CI06)"
   ]
  },
  {
   "cell_type": "markdown",
   "metadata": {},
   "source": [
    "#### Answer\n",
    "\n",
    "I used the equation $\\bar{X} \\pm Z_{\\frac{\\alpha}{2}}\\frac{\\sigma_x}{\\sqrt{n}}$ where $\\bar{X}$ is the mean of the 1986-1996 data, $Z_{\\frac{\\alpha}{2}}$ is a Z value based on an alpha value of .1%, $\\sigma_x$ is the standard deviation of x, and $\\sqrt{n}$ is the number of samples for x. I then do the same thing for Y where we take from the 2006-2015 data. We can clearly see that the entire confidence interval shifts up by around 50mm on both ends from 1986-1996 to 2006-2015."
   ]
  },
  {
   "cell_type": "markdown",
   "metadata": {},
   "source": [
    "**Part E:**  Compute a 99.9% confidence interval for the ***difference in mean sea level*** between the 2006-2015 and the 1986-1995 decades ($\\mu_{2006-2015} - \\mu_{1986-1995}$. Based on this, make a conclusion regarding your hypothesis from **Part C**, and compare to what your results in **Part D** implied. You may use Python for arithmetic operations and executing the calculations, but the relevant steps/set-up should be displayed in Markdown/MathJax."
   ]
  },
  {
   "cell_type": "markdown",
   "metadata": {},
   "source": [
    "#### Answer\n",
    "\n",
    "We can reuse a lot of Part D's calculation just computing the difference of means ($\\bar{X}-\\bar{Y}$) and the addition of $\\frac{\\sigma}{numOfSamples}$: $$\\bar{X} - \\bar{Y} \\pm Z_{\\frac{\\alpha}{2}} \\sqrt{\\frac{\\sigma_x^2}{n}+\\frac{\\sigma_y^2}{m}}$$\n",
    "\n",
    "We see that our CI does not include 0, so there's a 99.9% probability of a difference in means between the two decades."
   ]
  },
  {
   "cell_type": "code",
   "execution_count": 7,
   "metadata": {},
   "outputs": [
    {
     "name": "stdout",
     "output_type": "stream",
     "text": [
      "CI for differenc in sea level mean:  [-94.439240594697537, -5.7666916086921489]\n"
     ]
    }
   ],
   "source": [
    "minus = ((x_bar - y_bar) - Z_alpha_over_two*(pow(((pow(sigma_x,2)/x_samples) + (pow(sigma_y,2)/y_samples)),0.5)))\n",
    "add = ((x_bar - y_bar) + Z_alpha_over_two*(pow(((pow(sigma_x,2)/x_samples) + (pow(sigma_y,2)/y_samples)),0.5)))\n",
    "print(\"CI for differenc in sea level mean: \", [minus, add])"
   ]
  },
  {
   "cell_type": "markdown",
   "metadata": {},
   "source": [
    "**Part F:**  The confidence intervals from **Parts D** and **E** were derived using the Central Limit Theorem.  Which assumption of the Central Limit Theorem would likely be violated if we took more than one measurement per month to form our samples, and why?"
   ]
  },
  {
   "cell_type": "markdown",
   "metadata": {},
   "source": [
    "#### Answer\n",
    "\n",
    "Although we can't guarantee our month-to-month sampling is independent, they're certainly more independent than daily sampling, since day to day sea level measurements are certainly very related to each other."
   ]
  },
  {
   "cell_type": "markdown",
   "metadata": {},
   "source": [
    "---\n",
    "\n",
    "<a id='p2'></a>\n",
    "[Back to top](#top)\n",
    "\n",
    "### [25 points] Problem 2 - Quality of Red vs White Wine \n",
    "\n",
    "**Part A:** Load the data in [`winequalityred.csv`](https://piazza.com/class_profile/get_resource/jhaqogsdelf76h/jixzm1ebc6q6ye) and [`winequalitywhite.csv`](https://piazza.com/class_profile/get_resource/jhaqogsdelf76h/jixzm17x9pu6y9) into Pandas DataFrames.  They are available under Resources on Piazza, and linked here and below.  A description of this dataset can be found on [UC Irvine's Machine Learning Repository](https://archive.ics.uci.edu/ml/datasets/Wine+Quality). The quantity of interest for this problem is the quality of the wine.\n",
    "\n",
    "Are we justified in using the Central Limit Theorem in our analysis of estimates of the mean and proportions of the data?  Justify your response. "
   ]
  },
  {
   "cell_type": "code",
   "execution_count": 8,
   "metadata": {
    "collapsed": true
   },
   "outputs": [],
   "source": [
    "# read either local or web file version; pick whichever works for you\n",
    "local_file_white = \"data/winequality-white.csv\"\n",
    "local_file_red   = \"data/winequality-red.csv\"\n",
    "web_file_white = \"https://raw.githubusercontent.com/dblarremore/csci3022/master/homework/homework5/data/winequality-white.csv\"\n",
    "web_file_red   = \"https://raw.githubusercontent.com/dblarremore/csci3022/master/homework/homework5/data/winequality-red.csv\"\n",
    "\n",
    "dfRed   = pd.read_csv(local_file_red, delimiter=';')\n",
    "dfWhite = pd.read_csv(local_file_white, delimiter=';')"
   ]
  },
  {
   "cell_type": "markdown",
   "metadata": {},
   "source": [
    "#### Answer\n",
    "\n",
    "I think we are justified, we have plenty of samples."
   ]
  },
  {
   "cell_type": "markdown",
   "metadata": {},
   "source": [
    "**Part B:** Let $X$ be a random variable denoting the quality of a bottle of wine, and let $C$ be a random variable denoting its color (either red ($r$) or white ($w$)). For the remainder of this problem, we are concerned with probabilities such as \"If I buy a random bottle of red wine, what is the probability that its quality is at least a 7?\". We could write that probability as $P(X \\geq 7 \\mid C=r)$, for example, and consider it the ***proportion*** of the population of red wines that are at least a 7 in quality. Calculate and report estimates of $P(X \\geq 7 \\mid C=r)$ and $P(X \\geq 7 \\mid C=w)$.\n",
    "\n",
    "Obtain 95% confidence intervals for the proportion of red and white wines that are **at least** a 7 in quality (obtain one CI for each color).  Based on your results, if you are interested in buying many high quality bottles of wine but are buying totally at random, is one color a better bet than the other? Fully justify your answer.\n",
    "\n",
    "Calculations may be executed in Python, but you need to set up your work (*what* it is you are calculating) in Markdown/MathJax."
   ]
  },
  {
   "cell_type": "markdown",
   "metadata": {},
   "source": [
    "#### Answer\n",
    "\n",
    "The first part of this is pretty simple, as a bottle of wine is simply a 7 or higher or not -- a boolean value. So $P(X\\geq7|C=r)$ is just the number of red wines of a score 7 or higher divided by the total number of red wines, and the same calculation for white wines. For this we get:\n",
    "$$P(X\\geq7|C=r) = 0.135709818637$$\n",
    "$$P(X\\geq7|C=w) = 0.216414863209$$\n",
    "\n",
    "Then calculating the confidence intervals for the proportion is just a few steps\n",
    "###### Variance\n",
    "$$\\sigma^2 = \\frac{p(1-p)}{n}$$\n",
    "###### Standard Deviation\n",
    "$$\\sigma = \\sqrt{var}$$\n",
    "###### Confidence Intervals\n",
    "$$P(X\\geq7|C=r) \\pm Z_{.05/2}\\sqrt{\\frac{\\sigma_r}{n_r}}$$\n",
    "$$P(X\\geq7|C=w) \\pm Z_{.05/2}\\sqrt{\\frac{\\sigma_w}{n_w}}$$\n",
    "\n",
    "I got `CI red:  [0.11892335230093068, 0.15249628497236514]` and `CI white:  [0.20488231343578847, 0.22794741298315804]` so I'd say its safer to buy white if you want quality 7 or better."
   ]
  },
  {
   "cell_type": "code",
   "execution_count": 10,
   "metadata": {},
   "outputs": [
    {
     "name": "stdout",
     "output_type": "stream",
     "text": [
      "Prob Red:  13.5709818637 %\n",
      "Prob White:  21.6414863209 %\n",
      "Z:  1.95996398454\n",
      "CI red:  [0.11892335230093068, 0.15249628497236514]\n",
      "CI white:  [0.20488231343578847, 0.22794741298315804]\n"
     ]
    }
   ],
   "source": [
    "pRed = np.sum(i >= 7 for i in dfRed['quality']) / len(dfRed['quality'])\n",
    "pWhite = np.sum(i >= 7 for i in dfWhite['quality']) / len(dfWhite['quality'])\n",
    "print('Prob Red: ', pRed*100, \"%\")\n",
    "print('Prob White: ', pWhite*100, \"%\")\n",
    "\n",
    "wineZ = stats.norm.ppf(1-(.05)/2)\n",
    "print(\"Z: \", wineZ)\n",
    "\n",
    "CI_red = [pRed - wineZ*pow(((pRed*(1-pRed))/len(dfRed['quality'])),.5), pRed + wineZ*pow(((pRed*(1-pRed))/len(dfRed['quality'])),.5)]\n",
    "CI_white = [pWhite - wineZ*pow(((pWhite*(1-pWhite))/len(dfWhite['quality'])),.5), pWhite + wineZ*pow(((pWhite*(1-pWhite))/len(dfWhite['quality'])),.5)]\n",
    "\n",
    "print('CI red: ', CI_red)\n",
    "print('CI white: ', CI_white)"
   ]
  },
  {
   "cell_type": "markdown",
   "metadata": {},
   "source": [
    "**Part C:** Now, as college students (and teachers), we might not be super concerned with buying a really high quality bottle of wine.  Let's focus instead on making sure we do *not* buy a really disgusting bottle of wine.  Calculate and report estimates of $P(X \\geq 5 \\mid C=r)$ and $P(X \\geq 5 \\mid C=w)$.\n",
    "\n",
    "Obtain 95% confidence intervals for the proportion of red and white wines that are **at least** a 5 in quality, that is, $P(X \\geq 5 \\mid C)$.  Based on your results - and what you saw in Problem 1 - if you are interested in buying bottles of wine that are at least a 5 in quality, but are again buying wine totally randomly, can you conclude that you are better off buying one color over the other? Fully justify your answer."
   ]
  },
  {
   "cell_type": "code",
   "execution_count": 12,
   "metadata": {},
   "outputs": [
    {
     "name": "stdout",
     "output_type": "stream",
     "text": [
      "Prob Red:  96.0600375235 %\n",
      "Prob White:  96.2637811352 %\n",
      "Z:  1.95996398454\n",
      "CI red, 5 or better: [0.95106492337382564, 0.97013582709521751]\n",
      "CI white, 5 or better: [0.95732668891532136, 0.96794893378782287]\n"
     ]
    }
   ],
   "source": [
    "pRed = np.sum(i >= 5 for i in dfRed['quality']) / len(dfRed['quality'])\n",
    "pWhite = np.sum(i >= 5 for i in dfWhite['quality']) / len(dfWhite['quality'])\n",
    "print('Prob Red: ', pRed*100, \"%\")\n",
    "print('Prob White: ', pWhite*100, \"%\")\n",
    "\n",
    "wineZ = stats.norm.ppf(1-(.05)/2)\n",
    "print(\"Z: \", wineZ)\n",
    "\n",
    "CI_red = [pRed - wineZ*pow(((pRed*(1-pRed))/len(dfRed['quality'])),.5), pRed + wineZ*pow(((pRed*(1-pRed))/len(dfRed['quality'])),.5)]\n",
    "CI_white = [pWhite - wineZ*pow(((pWhite*(1-pWhite))/len(dfWhite['quality'])),.5), pWhite + wineZ*pow(((pWhite*(1-pWhite))/len(dfWhite['quality'])),.5)]\n",
    "\n",
    "print('CI red, 5 or better:', CI_red)\n",
    "print('CI white, 5 or better:', CI_white)"
   ]
  },
  {
   "cell_type": "markdown",
   "metadata": {},
   "source": [
    "#### Answer\n",
    "In this case the two colors are fairly even, with red wines getting a slight boost on both ends. These are very similar confidence intervals though, so its hard to say red is a clear winner."
   ]
  },
  {
   "cell_type": "markdown",
   "metadata": {},
   "source": [
    "**Part D:** Compute a 95% confidence interval for the difference in proportions of red and white wines that are at least a 5 in quality. \n",
    "\n",
    "Now, based on your results for this part, can you conclude that you are better off buying one color over the other? Fully justify your answer. How does your work here differ from your work in **Part C**?"
   ]
  },
  {
   "cell_type": "code",
   "execution_count": 13,
   "metadata": {},
   "outputs": [
    {
     "name": "stdout",
     "output_type": "stream",
     "text": [
      "CI for difference in proportion:  [-0.0020632753430345906, -0.0020115968910664884]\n"
     ]
    }
   ],
   "source": [
    "print(\"CI for difference in proportion: \", [(pRed-pWhite)-wineZ*pow((pRed*(1-pRed))/len(dfRed['quality'])*(pWhite*(1-pWhite))/len(dfWhite['quality']),.5),(pRed-pWhite)+wineZ*pow((pRed*(1-pRed))/len(dfRed['quality'])*(pWhite*(1-pWhite))/len(dfWhite['quality']),.5)])"
   ]
  },
  {
   "cell_type": "markdown",
   "metadata": {},
   "source": [
    "#### Answer\n",
    "The CI we're looking for is\n",
    "$$CI = (p_r-p_w) \\pm Z_{\\alpha/2}\\sqrt{\\frac{p_r(1-p_r)}{n_r}\\frac{p_w(1-p_w)}{n_w}}$$\n",
    "$$CI = [-0.0020632753430345906, -0.0020115968910664884]$$"
   ]
  },
  {
   "cell_type": "markdown",
   "metadata": {},
   "source": [
    "**Part E:**  Now, we have many more observations of white wines than red. This certainly contributes to the width of the 95% confidence interval for the proportion of red wines that are at least a 5 in quality, which you should have found in **Part C** to be wider than the corresponding confidence interval for white wines. \n",
    "\n",
    "How large would our sample size of red wines need to be in order to guarantee that this 95% confidence interval width is at most 0.01? Note that we are hypothetically adding more samples, so we do not know the precise value of $\\hat{p}$."
   ]
  },
  {
   "cell_type": "code",
   "execution_count": null,
   "metadata": {
    "collapsed": true
   },
   "outputs": [],
   "source": []
  },
  {
   "cell_type": "markdown",
   "metadata": {},
   "source": []
  },
  {
   "cell_type": "markdown",
   "metadata": {},
   "source": [
    "---\n",
    "\n",
    "<a id='p3'></a>\n",
    "[Back to top](#top)\n",
    "\n",
    "### [30 points] Problem 3 - Exploring Confidence Intervals \n",
    "\n",
    "The [Gumbel](https://en.wikipedia.org/wiki/Gumbel_distribution) distribution is one of several distributions frequently used to model environmental extremes (for example, extreme temperatures and sea levels).  It is also fairly asymmetric, and thus interesting for investigating confidence intervals.  It is implemented in scipy.stats as [gumbel_r](https://docs.scipy.org/doc/scipy/reference/generated/scipy.stats.gumbel_r.html), where the appendix \"\\_r\" denotes the right-skewed version of the Gumbel distribution (as opposed to the left-skewed)."
   ]
  },
  {
   "cell_type": "markdown",
   "metadata": {},
   "source": [
    "**Part A**: Complete the following code cell to plot a histogram of 100 realizations from the Gumbel distribution with parameters $\\mu=8$ and $\\beta=2$.  Be sure to leave this cell executed before turning in your assignment! Make your histogram grey with gold edges."
   ]
  },
  {
   "cell_type": "code",
   "execution_count": 14,
   "metadata": {},
   "outputs": [
    {
     "data": {
      "image/png": "[encoded data removed]",
      "text/plain": [
       "<matplotlib.figure.Figure at 0x110f06e48>"
      ]
     },
     "metadata": {},
     "output_type": "display_data"
    }
   ],
   "source": [
    "mu = 8\n",
    "beta = 2\n",
    "n_sample = 100\n",
    "\n",
    "fig, ax = plt.subplots(1, 1)\n",
    "\n",
    "gumbel = stats.gumbel_r.rvs(loc=mu, scale=beta, size=n_sample)\n",
    "\n",
    "ax.hist(gumbel, facecolor='grey', edgecolor='gold')\n",
    "ax.set_title('100 Gumbel-Distributed RV\\'s')\n",
    "ax.set_xlabel('Index')\n",
    "ax.set_ylabel('Density')\n",
    "plt.show()\n"
   ]
  },
  {
   "cell_type": "markdown",
   "metadata": {},
   "source": [
    "**Part B:** Look up the analytical mean and variance of the Gumbel distribution with parameters $\\mu=8$ and $\\beta=2$ and calculate them here by hand.  Note that the Euler–Mascheroni constant can be accessed via `np.euler_gamma`. \n",
    "\n",
    "Use the empirical mean from your sample in **Part A**, and the true variance of the Gumbel distribution to compute by hand a 95% confidence interval for the mean."
   ]
  },
  {
   "cell_type": "markdown",
   "metadata": {},
   "source": [
    "#### Answer\n",
    "\n",
    "[Reference from wikipedia](https://en.wikipedia.org/wiki/Gumbel_distribution)\n",
    "\n",
    "###### Mean:\n",
    "$$E[X] = \\mu + \\gamma\\beta$$ where $\\gamma$ is the Euler–Mascheroni constant; 0.5772156649015329.\n",
    "\n",
    "###### Variance:\n",
    "$$\\sigma^2 = \\frac{\\pi^2}{6}\\beta^2$$ again where $\\gamma$ is the Euler–Mascheroni constant; 0.5772156649015329.\n",
    "\n",
    "So in this example our mean is $$E[X] = 8 + (0.5772156649015329*2)$$\n",
    "                                $$E[X] = 9.1544313298030658$$\n",
    "                                \n",
    "our variance is $$\\sigma^2 = \\frac{\\pi^2}{6}*2^2$$\n",
    "                $$\\sigma^2 = 6.579736267392905745889660666584100756875799604827193750942$$\n",
    "                \n",
    "and our standard deviation is $$\\sigma = \\sqrt{6.579736267392905745889660666584100756875799604827193750942}$$\n",
    "$$\\sigma = 2.565099660323728191088072719342012822934521335128184646202$$\n",
    "\n",
    "\n",
    "###### Confidence Interval of Means\n",
    "Our confidence interval of 95% (alpha of .05 or 5%) for a mean is $$CI = \\bar{X} \\pm Z_{\\alpha/2}\\frac{\\sigma}{\\sqrt{n}}$$\n",
    "$$CI = 9.1544313298030658 \\pm Z_{.05/2}\\frac{2.565099660323728191088072719342012822934521335128184646202}{\\sqrt{100}}$$\n",
    "$$CI = 9.1544313298030658 \\pm Z_{.0025}0.2565099660323728191088072719342012822934521335128184646202$$\n",
    "as calculated below: $$CI = [8.6516810347040227, 9.6571816249021083]$$\n",
    "\n",
    "###### Confidence Interval of Difference of Means\n",
    "$$CI = \\bar{X}-\\bar{Y}\\pm Z_{.05/2}\\sqrt{\\frac{\\sigma_{x}^2}{n} + \\frac{\\sigma_{y}^2}{m}}$$\n",
    "$$CI = 9.19677826145-9.154431329803066\\pm Z_{.05/2}\\sqrt{\\frac{2.18189593605^2}{100} + \\frac{2.565099660323728^2}{\\infty}}$$\n",
    "$$CI = [-0.38529681362436269, 0.4699906769114735]$$"
   ]
  },
  {
   "cell_type": "code",
   "execution_count": 19,
   "metadata": {},
   "outputs": [
    {
     "name": "stdout",
     "output_type": "stream",
     "text": [
      "Euler–Mascheroni constant:  0.5772156649015329\n",
      "CI:  [8.6516810347040227, 9.6571816249021083]\n",
      "X Bar:  9.09539260767\n",
      "Y Bar:  9.154431329803066\n",
      "Sigma X:  2.7109838525\n",
      "Sigma Y:  2.565099660323728\n",
      "CI Mean Difference:  [-0.59038179349167386, 0.47230434922108777]\n"
     ]
    }
   ],
   "source": [
    "print(\"Euler–Mascheroni constant: \", np.euler_gamma)\n",
    "\n",
    "gumMu = 8\n",
    "gumBeta = 2\n",
    "gumAlpha = .05\n",
    "gumN = 100\n",
    "\n",
    "gumMean = gumMu + (np.euler_gamma * gumBeta)\n",
    "gumVar = (pow(np.pi,2)/6)*pow(gumBeta,2)\n",
    "gumSD = pow(gumVar,.5)\n",
    "gumZ = stats.norm.ppf(1-0.05/2)\n",
    "gumCI = [gumMean-gumZ*(gumSD/pow(gumN,.5)),gumMean+gumZ*(gumSD/pow(gumN,.5))]\n",
    "print(\"CI: \", gumCI)\n",
    "\n",
    "print('X Bar: ', np.mean(gumbel))\n",
    "print('Y Bar: ', gumMean)\n",
    "print('Sigma X: ', np.std(gumbel))\n",
    "print('Sigma Y: ', gumSD)\n",
    "\n",
    "gumCIDiff = [(np.mean(gumbel)-gumMean)-gumZ*(pow(pow(np.std(gumbel),2)/100,.5)),(np.mean(gumbel)-gumMean)+gumZ*(pow(pow(np.std(gumbel),2)/100,.5))]\n",
    "print('CI Mean Difference: ', gumCIDiff)"
   ]
  },
  {
   "cell_type": "markdown",
   "metadata": {},
   "source": [
    "**Part C:  A theoretical interlude.** When Stella O'Flaherty (the famous octopus) ran her solution code for **Part B**, she obtained a 95% confidence interval of $[8.81, 9.82]$ for the mean of the $Gum(\\mu=8, \\beta=2)$ distribution. For each of the following, explain why or why not the situation described is correct, given the technical definition of a 95% confidence interval we went over in class.\n",
    "\n",
    "**(i)** If you had no other evidence regarding true mean of the $Gum(\\mu=8, \\beta=2)$ distribution, you could say there is a 95% chance that its true mean falls between 8.81 and 9.82.\n",
    "\n",
    "**(ii)** If a class of 100 students all construct 95% confidence intervals for the mean of the $Gum(\\mu=8, \\beta=2)$ distribution, then we expect about 95 of their CIs to contain the true mean, and about 5 of them to miss the true mean.\n",
    "\n",
    "**(iii)** There is a 95% probability that any given random variable sampled from $Gum(\\mu=8, \\beta=2)$ will be between 8.81 and 9.82."
   ]
  },
  {
   "cell_type": "markdown",
   "metadata": {},
   "source": [
    "#### Answer\n",
    "\n",
    "###### (i)\n",
    "This is not quite true as even though the mean *could* fall in that range with 95% certainty it wouldn't necesarily have a true mean within a standard deviation of the sample mean.\n",
    "\n",
    "###### (ii)\n",
    "Yes, this makes sense. I feel 95% confident that this is true.\n",
    "\n",
    "###### (iii)\n",
    "Nah. We only are making a confidence interval of the mean, not of all possible values of the Gumbel distrobution."
   ]
  },
  {
   "cell_type": "markdown",
   "metadata": {},
   "source": [
    "**Part D:** In this part you'll write a function to investigate the _coverage properties_ of a confidence interval for the mean of the Gumbel distribution. Complete the following function to randomly sample $m=500$ sample means with sample size $n=100$ for the Gumbel distribution with parameters $\\mu=8$ and $\\beta=2$.  For each random sample, compute the 66% confidence interval for the mean. Note that you actually know that the variance for the true population distribution is, $\\sigma^2$.  Your function should do two things: \n",
    "\n",
    "1. Report the proportion of confidence intervals that successfully cover the true mean of the distribution \n",
    "2. Make a plot of 50 randomly selected confidence intervals. Overlay the intervals on the line $y=\\textrm{True mean}$ (from **Part B**). Color confidence intervals black if they cover the true mean, and red if they don't.  \n",
    "\n",
    "Be sure to leave this cell executed before turning in your assignment!"
   ]
  },
  {
   "cell_type": "code",
   "execution_count": 20,
   "metadata": {
    "scrolled": false
   },
   "outputs": [
    {
     "name": "stdout",
     "output_type": "stream",
     "text": [
      "proportion of confidence intervals that successfully cover the true mean:  0.658\n"
     ]
    }
   ],
   "source": [
    "def confidence_intervals(m=500, n=100):\n",
    "    mu = 8\n",
    "    beta = 2\n",
    "    Zalpha = stats.norm.ppf(1-(.35/2))\n",
    "    mean = mu + (beta * np.euler_gamma)\n",
    "    countCover = 0\n",
    "    listOfIntervals = []\n",
    "    for i in range(m):\n",
    "        gum = stats.gumbel_r.rvs(loc=mu, scale=beta, size=n)\n",
    "        CI = [(np.mean(gum) - Zalpha*np.std(gum)/pow(n,.5)), (np.mean(gum) + Zalpha*np.std(gum)/pow(n,.5))]\n",
    "        listOfIntervals.append(CI)\n",
    "        if mean >= CI[0] and mean <= CI[1]: \n",
    "            countCover += 1\n",
    "    proportion = countCover/m\n",
    "    print(\"proportion of confidence intervals that successfully cover the true mean: \", proportion)\n",
    "\n",
    "confidence_intervals()"
   ]
  },
  {
   "cell_type": "markdown",
   "metadata": {},
   "source": [
    "**Part E:** Does the proportion of confidence intervals that cover the true mean of the distribution agree with the theory described in class?  Justify your conclusion. "
   ]
  },
  {
   "cell_type": "markdown",
   "metadata": {},
   "source": [
    "#### Answer\n",
    "\n",
    "Yes, .664 covers 66% which is in line for a confidence interval."
   ]
  },
  {
   "cell_type": "markdown",
   "metadata": {
    "collapsed": true
   },
   "source": [
    "---\n",
    "\n",
    "<a id='p4'></a>\n",
    "[Back to top](#top)\n",
    "\n",
    "### [15 points] Problem 4 - Freethrows\n",
    "***\n",
    "\n",
    "Keep your skills sharp by answering these straightforward questions."
   ]
  },
  {
   "cell_type": "markdown",
   "metadata": {},
   "source": [
    "**Part A**: <font color='green'>You are driving through the paint toward the basket when Steph Curry fouls you. You step to the line to sink this freethrow shot, which is delivered in the form of a CSCI3022 problem:</font>\n",
    "\n",
    "You have a shuffled deck of cards. It includes the usual 52 cards AND three special additional Octopus cards. You flip over the cards one by one, without replacing them in the deck. You count how many cards you'll have to flip until you flip over the second Octopus.  You repeat this many times. Simulate this process. Plot a histogram with binsize=1 of the outcomes, in lightgrey with white outline. Compute the mean, median, and mode for this dataset, indicate them on the plot too, using linstyles of green dashed, pink dotted, and black solid, respectively. Look up how to do a legend in MatPlotLib, and label your histogram, mean, median.\n",
    "***"
   ]
  },
  {
   "cell_type": "code",
   "execution_count": 21,
   "metadata": {
    "collapsed": true
   },
   "outputs": [],
   "source": [
    "deck = ([1,2,3,4,5,6,7,8,9,10,\"j\",\"q\",\"k\"] * 4) + [\"octo\",\"octo\",\"octo\"]\n",
    "history = []\n",
    "for i in range(10000):\n",
    "    octoCount = 0\n",
    "    totalCount = 0\n",
    "    while (octoCount != 2):\n",
    "        totalCount += 1\n",
    "        if np.random.choice(deck) == \"octo\":\n",
    "            octoCount += 1\n",
    "    history.append(totalCount)"
   ]
  },
  {
   "cell_type": "code",
   "execution_count": 22,
   "metadata": {},
   "outputs": [
    {
     "data": {
      "text/plain": [
       "<matplotlib.text.Text at 0x10df0fef0>"
      ]
     },
     "execution_count": 22,
     "metadata": {},
     "output_type": "execute_result"
    },
    {
     "data": {
      "image/png": "[encoded data removed]",
      "text/plain": [
       "<matplotlib.figure.Figure at 0x10df078d0>"
      ]
     },
     "metadata": {},
     "output_type": "display_data"
    }
   ],
   "source": [
    "fig, ax = plt.subplots(figsize=(16,6))\n",
    "ax.hist(history, color='blue', alpha=0.5, edgecolor=\"white\", bins=range(min(history),max(history),1), label='number of instances')\n",
    "\n",
    "mode = max(set(history), key=history.count)\n",
    "mean = np.mean(history)\n",
    "median = np.median(history)\n",
    "\n",
    "plt.axvline(mean, color='green', alpha=0.5, linewidth=4, label='mean')\n",
    "plt.axvline(median, color='red', alpha=0.5, linewidth=4, label='median')\n",
    "plt.axvline(mode, color='black', alpha=0.5, linewidth=4, label='mode')\n",
    "\n",
    "plt.legend()\n",
    "plt.title('Number of Draws Until Pulling Second \"Octo\" without Replacement')\n",
    "ax.set_xlabel('Draw Number')\n",
    "ax.set_ylabel('Number of Instances')"
   ]
  },
  {
   "cell_type": "markdown",
   "metadata": {},
   "source": [
    "**Part B**: <font color='green'>You sink your first free throw and immediately get dap from your teammates, Oscar O'Flaherty and Octavia O'Flaherty. You prepare to take another shot, which—and you're not going to believe this—is another CSCI3022 problem:</font>\n",
    "\n",
    "In general, which is wider: a 95% confidence interval or a 99% confidence interval? How would you explain this to your younger sibling, who is not a statistician?\n",
    "***"
   ]
  },
  {
   "cell_type": "markdown",
   "metadata": {
    "collapsed": true
   },
   "source": [
    "#### Answer\n",
    "The 99% is wider. This is because in order for us to be more sure, 99% sure as opposed to 95% sure, we need to include more!"
   ]
  },
  {
   "cell_type": "markdown",
   "metadata": {},
   "source": [
    "**Part C**: <font color='green'>The crowd is silent. Everything is slow motion. You're literally in the air, releasing what looks to be a perfect shot to tie the match. As you release the ball, a hand appears to block it. It is Kevin Durant. :( \n",
    "\n",
    "Luckily, his fingertips also brush against your arm. That's a foul, and everyone saw it. Back to the line. Back to CSCI3022:</font>\n",
    "\n",
    "Let $X$ be a normally-distributed random variable. You draw from it and get these values, stored in the numpy array **durant**, below. Compute a 95% confidence interval for the _standard deviation_.\n",
    "***"
   ]
  },
  {
   "cell_type": "code",
   "execution_count": 23,
   "metadata": {
    "collapsed": true
   },
   "outputs": [],
   "source": [
    "durant = np.array([3.7778,3.9459,3.8248,4.1111,4.0180,4.0898,4.0380,3.9273,3.9614,3.8387])"
   ]
  },
  {
   "cell_type": "code",
   "execution_count": 25,
   "metadata": {},
   "outputs": [
    {
     "name": "stdout",
     "output_type": "stream",
     "text": [
      "CI for SD:  [0.00044951538581360941, 6.3811251905065549e-05]\n"
     ]
    }
   ],
   "source": [
    "# reference this slide https://github.com/dblarremore/csci3022/blob/master/slides/lec19.pdf\n",
    "\n",
    "durantVar = np.var(durant)\n",
    "durantn = np.count_nonzero(durant)\n",
    "durantAlpha = 0.05\n",
    "\n",
    "lower = ((durantn-1)*pow(durantVar,2))/(stats.chi2.ppf((durantAlpha/2), durantn-1))\n",
    "upper = ((durantn-1)*pow(durantVar,2))/(stats.chi2.ppf(1-(durantAlpha/2), durantn-1))\n",
    "\n",
    "print(\"CI for SD: \", [lower,upper])"
   ]
  },
  {
   "cell_type": "markdown",
   "metadata": {},
   "source": [
    "**Part D**: <font color='green'>\"Draymond Green has it all, in spite of living in the Bay Area,\" you think to yourself. \"But he doesn't have this shot...\" You're all over him, and he's going to have to pass. You can see the irritation in his eyes. Then you realize that it's not irritation, and he's not being distracted by your superb defense. He's being distracted by this CSCI3022 problem:</font>\n",
    "\n",
    "If you're doing quality control for the average strength of carbon fiber that will be used in airplane construction, and your alternative hypothesis is that the strength of the carbon is below tolerance, and therefore unsafe, would you rather have a low Type I error rate or a low Type II error rate? Explain.\n",
    "\n",
    "***"
   ]
  },
  {
   "cell_type": "markdown",
   "metadata": {},
   "source": [
    "A type 1 error wouldn't be horrible, as we would simply be tossing safe carbon. A type 2 error is bad as we would be utilizing unsafe carbon. So we'd rather have a low type 1 error than a low type 2 error."
   ]
  },
  {
   "cell_type": "markdown",
   "metadata": {},
   "source": [
    "**Part E**: <font color='green'>You are watching tape footage at halftime with your personal trainer, Stella O'Flaherty. You gotta focus up if you're going to match Klay Thompson's speed in the second half. You take a sip of Gatorade and Dr. O'Flaherty suggests that you do the following CSCI3022 problem:</font>\n",
    "\n",
    "You measure 53 suckers from baby reef octopuses and find that they are, on average, 45.2 mm wide, with a standard devaition of 30.4mm. \n",
    "\n",
    "Then you measure 41 suckers from from baby dumbo octopuses and find that they are, on average, 52.8 mm wide, with a standard deviation of 22.8 mm. \n",
    "\n",
    "Is there statistical evidence at the 0.05 significance level that the true mean of baby dumbo octopus sucker width exceeds the true mean of baby reef octopus sucker width by more than 6 mm?  Use a test of your choice.\n",
    "\n",
    "***"
   ]
  },
  {
   "cell_type": "code",
   "execution_count": null,
   "metadata": {
    "collapsed": true
   },
   "outputs": [],
   "source": []
  },
  {
   "cell_type": "markdown",
   "metadata": {},
   "source": []
  }
 ],
 "metadata": {
  "kernelspec": {
   "display_name": "Python 3",
   "language": "python",
   "name": "python3"
  },
  "language_info": {
   "codemirror_mode": {
    "name": "ipython",
    "version": 3
   },
   "file_extension": ".py",
   "mimetype": "text/x-python",
   "name": "python",
   "nbconvert_exporter": "python",
   "pygments_lexer": "ipython3",
   "version": "3.6.1"
  }
 },
 "nbformat": 4,
 "nbformat_minor": 2
}

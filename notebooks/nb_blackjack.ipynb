{
 "cells": [
  {
   "cell_type": "markdown",
   "metadata": {},
   "source": [
    "# Blackjack simulation\n",
    "***\n",
    "\n",
    "We'll need Numpy and Matplotlib for this notebook, so let's load them. "
   ]
  },
  {
   "cell_type": "code",
   "execution_count": 1,
   "metadata": {
    "collapsed": true
   },
   "outputs": [],
   "source": [
    "import numpy as np \n",
    "import matplotlib.pylab as plt \n",
    "%matplotlib inline"
   ]
  },
  {
   "cell_type": "markdown",
   "metadata": {},
   "source": [
    "## The problem\n",
    "\n",
    "Octavius O'Flaherty are playing blackjack up at an octopus-themed casino in Blackhawk, Colorado. \n",
    "\n",
    "In the simplified version of blackjack that he is playing, here are the rules:\n",
    "1. Cards are worth face values (2, 3, ... , 10), face cards (J, Q, K) are worth 10, and Aces are worth either 11 or 1.\n",
    "2. The dealer gives Octavius two cards, then herself two cards.\n",
    "3. Octavius is allowed to draw a new card repeatedly (\"hit\") to try and get a card total as close to 21 as he can without going over (\"busting\").\n",
    "4. The dealer will then do the same. The dealer must always \"hit\" if her card total is 16 or less.\n",
    "5. If Octavius goes over 21, he loses, even if the dealer also busts.\n",
    "6. If neither player busts, then whoever gets closest to 21 wins. The dealer wins draws.\n",
    "\n",
    "Octavius is facing a common challenge among blackjack players: when you have a hand of 16 or 17, do you hit or stand?\n",
    "\n",
    "## Some other details\n",
    "\n",
    "In casinos, including the one Octavius happens to be in, the dealer has many decks of cards all shuffled together. There are so many decks, in fact, that we can consider the dealer to have an infinite reservoir of cards, such that the probability of obtaining any given card in a single draw is equal to the probability of obtaining that card from a single full deck of 52 cards.\n",
    "\n",
    "Note that in blackjack, we do not care about suit.\n",
    "\n",
    "## The big question\n",
    "\n",
    "**Is Octavius more likely to win if he adopts a strategy where he stands on a 16 or higher, or if he adopts a strategy where he stands on a 17 or higher?**"
   ]
  },
  {
   "cell_type": "markdown",
   "metadata": {},
   "source": [
    "* Get 2 cards\n",
    "* Dealer gets 2 cards\n",
    "* Hit until stand or bust\n",
    "* Dealer strat\n",
    "* Who won"
   ]
  },
  {
   "cell_type": "markdown",
   "metadata": {},
   "source": [
    "# Functions\n",
    "\n",
    "* **Get a Card** should uniform draw from all possible cards. suit doesn't matter\n",
    "    * input: none\n",
    "    * output: a card\n",
    "* **Decide if Hit**\n",
    "    * input: cards you have, value of cutoff\n",
    "    * output: boolean, true if hit false if stand\n",
    "* **Who Won**\n",
    "    * input: values of player and dealer\n",
    "    * output: winner\n",
    "* **Play Game**\n",
    "    * output: winner"
   ]
  },
  {
   "cell_type": "code",
   "execution_count": 3,
   "metadata": {
    "collapsed": true
   },
   "outputs": [],
   "source": [
    "def get_a_card():\n",
    "    # uniform draw a card at random from cards\n",
    "    deck = [2,3,4,5,6,7,8,9,10,10,10,10,11]\n",
    "    return np.random.choice(deck)"
   ]
  },
  {
   "cell_type": "code",
   "execution_count": 179,
   "metadata": {},
   "outputs": [],
   "source": [
    "def decide_if_we_hit(my_cards, my_cutoff):\n",
    "    total = np.sum(my_cards)\n",
    "    if (total < my_cutoff):\n",
    "        return True\n",
    "    else:\n",
    "        if (total <= 21):\n",
    "            return False\n",
    "        else:\n",
    "            if (11 in my_cards):\n",
    "                my_cards[my_cards.index(11)] = 1\n",
    "                return decide_if_we_hit(my_cards, my_cutoff)\n",
    "            else:\n",
    "                return False"
   ]
  },
  {
   "cell_type": "code",
   "execution_count": 180,
   "metadata": {
    "collapsed": true
   },
   "outputs": [],
   "source": [
    "def did_we_win(our_cards, dealer_cards):\n",
    "    our_sum = np.sum(our_cards)\n",
    "    dealer_sum = np.sum(dealer_cards)\n",
    "    if (our_sum > 21):\n",
    "        return False\n",
    "    else:\n",
    "        if (dealer_sum > 21):\n",
    "            return True\n",
    "        else:\n",
    "            if (our_sum > dealer_sum):\n",
    "                return True\n",
    "            else:\n",
    "                return False"
   ]
  },
  {
   "cell_type": "code",
   "execution_count": 181,
   "metadata": {},
   "outputs": [],
   "source": [
    "def play_game(isVerbose = False):\n",
    "    our_cards = [get_a_card() for i in range(2)]\n",
    "    if (isVerbose):\n",
    "        print (\"Us: \", our_cards)\n",
    "    dealer_cards = [get_a_card() for i in range(2)]\n",
    "    if (isVerbose):\n",
    "        print (\"Dealer: \", dealer_cards)\n",
    "    while (decide_if_we_hit(our_cards,16)):\n",
    "        our_cards.append(get_a_card())\n",
    "    while (decide_if_we_hit(dealer_cards,17)):\n",
    "        dealer_cards.append(get_a_card())\n",
    "    if (isVerbose):\n",
    "        print(\"Us Final:\", our_cards)\n",
    "        print(\"Dealer Final:\", dealer_cards)\n",
    "    return did_we_win(our_cards, dealer_cards)"
   ]
  },
  {
   "cell_type": "code",
   "execution_count": 183,
   "metadata": {
    "scrolled": true
   },
   "outputs": [
    {
     "name": "stdout",
     "output_type": "stream",
     "text": [
      "Wins:  4165\n",
      "Losses:  5835\n",
      "Win Percentage:  41 %\n"
     ]
    }
   ],
   "source": [
    "wins, losses = 0,0\n",
    "total_games = 10000\n",
    "for i in range(total_games):\n",
    "    if (play_game()):\n",
    "        wins+=1\n",
    "    else:\n",
    "        losses+=1\n",
    "print(\"Wins: \", wins)\n",
    "print(\"Losses: \", losses)\n",
    "print(\"Win Percentage: \", int((wins/total_games)*100),\"%\")"
   ]
  },
  {
   "cell_type": "code",
   "execution_count": null,
   "metadata": {
    "collapsed": true
   },
   "outputs": [],
   "source": []
  }
 ],
 "metadata": {
  "kernelspec": {
   "display_name": "Python 3",
   "language": "python",
   "name": "python3"
  },
  "language_info": {
   "codemirror_mode": {
    "name": "ipython",
    "version": 3
   },
   "file_extension": ".py",
   "mimetype": "text/x-python",
   "name": "python",
   "nbconvert_exporter": "python",
   "pygments_lexer": "ipython3",
   "version": "3.6.1"
  }
 },
 "nbformat": 4,
 "nbformat_minor": 2
}
